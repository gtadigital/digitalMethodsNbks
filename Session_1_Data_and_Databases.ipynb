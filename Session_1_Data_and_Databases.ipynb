{
 "cells": [
  {
   "cell_type": "markdown",
   "id": "4d0e69f2",
   "metadata": {},
   "source": [
    "# Data and Databases"
   ]
  },
  {
   "cell_type": "markdown",
   "id": "76b0a2a5",
   "metadata": {},
   "source": [
    "Don't forget to execute the cell below ..."
   ]
  },
  {
   "cell_type": "code",
   "execution_count": 29,
   "id": "c0b5018c",
   "metadata": {},
   "outputs": [],
   "source": [
    "#import dependencies\n",
    "import pandas as pd\n",
    "import numpy as np\n",
    "import wikipedia\n",
    "from wiktionaryparser import WiktionaryParser\n",
    "from SPARQLWrapper import SPARQLWrapper, JSON\n",
    "#expand column width\n",
    "pd.set_option('display.max_columns', None)\n",
    "pd.set_option('display.expand_frame_repr', False)\n",
    "pd.set_option('max_colwidth', None)"
   ]
  },
  {
   "cell_type": "markdown",
   "id": "79147099",
   "metadata": {},
   "source": [
    "## Instructions\n",
    "Each block of the practical assignment has discussion questions and required actions, as well as cells, where you can write answers for the questions"
   ]
  },
  {
   "cell_type": "markdown",
   "id": "e423ce69",
   "metadata": {
    "heading_collapsed": true
   },
   "source": [
    "####  <span style=\"color:green\">??? Questions are marked in green </span>\n",
    "####  <span style=\"color:DarkRed\">!!! Action needed: Required actions are marked in dark red</span>"
   ]
  },
  {
   "cell_type": "raw",
   "id": "0c674711",
   "metadata": {
    "hidden": true
   },
   "source": [
    "Answer here ... is space for your notes"
   ]
  },
  {
   "cell_type": "markdown",
   "id": "00833389",
   "metadata": {},
   "source": [
    "## What data do we work with?"
   ]
  },
  {
   "cell_type": "markdown",
   "id": "88d6521e",
   "metadata": {},
   "source": [
    "### List of buildings relevant to the course content"
   ]
  },
  {
   "cell_type": "code",
   "execution_count": 5,
   "id": "5cb24a54",
   "metadata": {},
   "outputs": [
    {
     "name": "stdout",
     "output_type": "stream",
     "text": [
      "Coloseum (Unknown) \n",
      "Tempietto (Bramante)\n",
      "Santa Casa of Loreto - shrine (Bramante, Sansovino, et al.)\n",
      "Villa Emo (Palladio)\n",
      "Versailles (Le Vau, Hardouin-Mansart, Le Brun)\n",
      "Panthéon - St. Geneviève (Soufflot, Rondelet)\n",
      "Altes Museum (Schinkel)\n"
     ]
    }
   ],
   "source": [
    "list_of_building_from_Alex = \"Coloseum (Unknown) \\nTempietto (Bramante)\\nSanta Casa of Loreto - shrine (Bramante, Sansovino, et al.)\\\n",
    "\\nVilla Emo (Palladio)\\nVersailles (Le Vau, Hardouin-Mansart, Le Brun)\\nPanthéon - St. Geneviève (Soufflot, Rondelet)\\\n",
    "\\nAltes Museum (Schinkel)\"\n",
    "print(list_of_building_from_Alex)"
   ]
  },
  {
   "cell_type": "markdown",
   "id": "4f4fc2ea",
   "metadata": {},
   "source": [
    "#### <span style=\"color:green\"> ??? How can you describe the list? </span>\n",
    "#### <span style=\"color:green\"> ??? What is the information in the brackets? </span>\n",
    "#### <span style=\"color:green\"> ??? Why do we need the information in the brackets? </span>\n",
    "\n",
    "\n",
    "\n",
    "\n"
   ]
  },
  {
   "cell_type": "raw",
   "id": "a42214ef",
   "metadata": {},
   "source": [
    "Answer here ..."
   ]
  },
  {
   "cell_type": "markdown",
   "id": "df8f7e30",
   "metadata": {},
   "source": [
    "### Let us investigate a list of 7 buildings and try to find information about them in Wikipedia and Wikidata:"
   ]
  },
  {
   "cell_type": "code",
   "execution_count": 6,
   "id": "d9c5a640",
   "metadata": {},
   "outputs": [
    {
     "name": "stdout",
     "output_type": "stream",
     "text": [
      "Colosseum\n",
      "Tempietto di San Pietro in Montorio\n",
      "Santa Casa of Loreto - shrine\n",
      "Villa Emo\n",
      "The Palace of Versailles\n",
      "Panthéon - St. Geneviève\n",
      "Altes Museum\n"
     ]
    }
   ],
   "source": [
    "buildings_list = [\"Colosseum\", \"Tempietto di San Pietro in Montorio\", \"Santa Casa of Loreto - shrine\", \"Villa Emo\", \"The Palace of Versailles\", \"Panthéon - St. Geneviève\", \"Altes Museum\"]\n",
    "for building in buildings_list:\n",
    "    print(building)"
   ]
  },
  {
   "cell_type": "markdown",
   "id": "eeebbf9c",
   "metadata": {
    "heading_collapsed": true
   },
   "source": [
    "#### <span style=\"color:green\"> ??? What does \"to query\" mean? </span>\n",
    "\n"
   ]
  },
  {
   "cell_type": "markdown",
   "id": "15af2d53",
   "metadata": {
    "heading_collapsed": true
   },
   "source": [
    "#### Let's query Wiktionary for the meaning of \"query\""
   ]
  },
  {
   "cell_type": "code",
   "execution_count": 7,
   "id": "d4a51ff6",
   "metadata": {
    "hidden": true,
    "scrolled": true
   },
   "outputs": [
    {
     "data": {
      "text/plain": [
       "[{'etymology': 'An anglicisation of quere, an obsolete variant form of Latin quaere, second-person singular present active imperative of quaerō (“seek, look for; ask”). Cognate with French quérir, Italian chiedere, Portuguese querer, Romanian cere, and Spanish querer. Compare question.\\n',\n",
       "  'definitions': [{'partOfSpeech': 'noun',\n",
       "    'text': ['query (plural queries)',\n",
       "     'A question, an inquiry (US), an enquiry (UK).',\n",
       "     'A question mark.',\n",
       "     '(computing, databases) A set of instructions passed to a database.'],\n",
       "    'relatedWords': [{'relationshipType': 'hyponyms', 'words': ['subquery']}],\n",
       "    'examples': ['The teacher answered the student’s query concerning biosynthesis.',\n",
       "     'Carried somehow, somewhither, for some reason, on these surging floods, were these travelers, of errand not wholly obvious to their fellows, yet of such sort as to call into query alike the nature of their errand and their own relations.',\n",
       "     \"His Glossary has 'bouchen, to stop people's mouths,' but this is followed by a query, to show that it was but a guess. I have shown, from the MSS. and other  sources, that it should be bonched, i.e. bunched, bumped, knocked, smote.\",\n",
       "     'She had written in her diary: \"I don\\'t think I am in a concentration-camp??????\", the queries growing larger and more numerous till they covered the entire page  […]',\n",
       "     'I refer you to your line above, where you use a query and a bang together.',\n",
       "     'The database admin switched on query logging for debugging purposes.']},\n",
       "   {'partOfSpeech': 'verb',\n",
       "    'text': ['query (third-person singular simple present queries, present participle querying, simple past and past participle queried)',\n",
       "     '(intransitive) To ask a question.',\n",
       "     '(transitive) To ask, inquire.',\n",
       "     '(transitive) To question or call into doubt.',\n",
       "     '(computing, databases) To pass a set of instructions to a database to retrieve information from it.',\n",
       "     '(transitive, Internet) To send a private message to (a user on IRC).',\n",
       "     '(intransitive, publishing) To send out a query letter.'],\n",
       "    'relatedWords': [],\n",
       "    'examples': ['I tried that once in an AOL thing called \"The Arena\", I can\\'t remember who the celebrity was, but I posed some divinely thoughtful, inspired, well-crafted question, and they chose one, instead, that querried her favourite colour, quelle banel.',\n",
       "     'The story struck the depressingly familiar note with which true stories ring in the tried ears of experienced policemen. No one queried it. It was in the classic pattern of human weakness, mean and embarrassing and sad.',\n",
       "     'Linked tables can be accessed, queried, combined and reorganised much more flexibly and in a number of ways that may not be immediately predictable when the database is under construction.',\n",
       "     'He parted the channel saying \"SHUTUP!\"... so I queried him, asking if there was something I could do.. maybe talk...',\n",
       "     'if you know someone who is in the channel, you can query them and ask for the key.']}],\n",
       "  'pronunciations': {'text': ['(Received Pronunciation) IPA: /ˈkwɪə.ɹi/',\n",
       "    '(General American) IPA: /ˈkwɪ.ɹi/, /ˈkwɛ.ɹi/',\n",
       "    'Rhymes: -ɪəɹi, -ɛɹi'],\n",
       "   'audio': []}}]"
      ]
     },
     "execution_count": 7,
     "metadata": {},
     "output_type": "execute_result"
    }
   ],
   "source": [
    "parser = WiktionaryParser()\n",
    "query = parser.fetch('query')\n",
    "query"
   ]
  },
  {
   "cell_type": "code",
   "execution_count": 8,
   "id": "035aff31",
   "metadata": {
    "hidden": true
   },
   "outputs": [
    {
     "data": {
      "text/plain": [
       "'An anglicisation of quere, an obsolete variant form of Latin quaere, second-person singular present active imperative of quaerō (“seek, look for; ask”). Cognate with French quérir, Italian chiedere, Portuguese querer, Romanian cere, and Spanish querer. Compare question.\\n'"
      ]
     },
     "execution_count": 8,
     "metadata": {},
     "output_type": "execute_result"
    }
   ],
   "source": [
    "query[0]['etymology']"
   ]
  },
  {
   "cell_type": "code",
   "execution_count": 9,
   "id": "33350c67",
   "metadata": {
    "hidden": true
   },
   "outputs": [
    {
     "data": {
      "text/plain": [
       "[{'partOfSpeech': 'noun',\n",
       "  'text': ['query (plural queries)',\n",
       "   'A question, an inquiry (US), an enquiry (UK).',\n",
       "   'A question mark.',\n",
       "   '(computing, databases) A set of instructions passed to a database.'],\n",
       "  'relatedWords': [{'relationshipType': 'hyponyms', 'words': ['subquery']}],\n",
       "  'examples': ['The teacher answered the student’s query concerning biosynthesis.',\n",
       "   'Carried somehow, somewhither, for some reason, on these surging floods, were these travelers, of errand not wholly obvious to their fellows, yet of such sort as to call into query alike the nature of their errand and their own relations.',\n",
       "   \"His Glossary has 'bouchen, to stop people's mouths,' but this is followed by a query, to show that it was but a guess. I have shown, from the MSS. and other  sources, that it should be bonched, i.e. bunched, bumped, knocked, smote.\",\n",
       "   'She had written in her diary: \"I don\\'t think I am in a concentration-camp??????\", the queries growing larger and more numerous till they covered the entire page  […]',\n",
       "   'I refer you to your line above, where you use a query and a bang together.',\n",
       "   'The database admin switched on query logging for debugging purposes.']},\n",
       " {'partOfSpeech': 'verb',\n",
       "  'text': ['query (third-person singular simple present queries, present participle querying, simple past and past participle queried)',\n",
       "   '(intransitive) To ask a question.',\n",
       "   '(transitive) To ask, inquire.',\n",
       "   '(transitive) To question or call into doubt.',\n",
       "   '(computing, databases) To pass a set of instructions to a database to retrieve information from it.',\n",
       "   '(transitive, Internet) To send a private message to (a user on IRC).',\n",
       "   '(intransitive, publishing) To send out a query letter.'],\n",
       "  'relatedWords': [],\n",
       "  'examples': ['I tried that once in an AOL thing called \"The Arena\", I can\\'t remember who the celebrity was, but I posed some divinely thoughtful, inspired, well-crafted question, and they chose one, instead, that querried her favourite colour, quelle banel.',\n",
       "   'The story struck the depressingly familiar note with which true stories ring in the tried ears of experienced policemen. No one queried it. It was in the classic pattern of human weakness, mean and embarrassing and sad.',\n",
       "   'Linked tables can be accessed, queried, combined and reorganised much more flexibly and in a number of ways that may not be immediately predictable when the database is under construction.',\n",
       "   'He parted the channel saying \"SHUTUP!\"... so I queried him, asking if there was something I could do.. maybe talk...',\n",
       "   'if you know someone who is in the channel, you can query them and ask for the key.']}]"
      ]
     },
     "execution_count": 9,
     "metadata": {},
     "output_type": "execute_result"
    }
   ],
   "source": [
    "query[0]['definitions']"
   ]
  },
  {
   "cell_type": "markdown",
   "id": "76a1c599",
   "metadata": {},
   "source": [
    "#### <span style=\"color:green\"> ??? When it comes to classification of data into: raw, semi-structured, structured, what is the kind of data we got as a response from Wiktionary?  </span>\n",
    "#### <span style=\"color:green\"> ??? How intuitive is it to understand the data without being the one who created it and having no guidance?  </span>\n"
   ]
  },
  {
   "cell_type": "raw",
   "id": "c1b8f33f",
   "metadata": {},
   "source": [
    "Answer here ..."
   ]
  },
  {
   "cell_type": "markdown",
   "id": "3c428d78",
   "metadata": {},
   "source": [
    "### Let us start with getting the summary of a Coloseum record from Wikipedia: "
   ]
  },
  {
   "cell_type": "code",
   "execution_count": 10,
   "id": "668495ba",
   "metadata": {},
   "outputs": [
    {
     "name": "stdout",
     "output_type": "stream",
     "text": [
      "The Colosseum ( KOL-ə-SEE-əm; Italian: Colosseo [kolosˈsɛːo]) is an elliptical amphitheatre in the centre of the city of Rome, Italy, just east of the Roman Forum. It is the largest ancient amphitheatre ever built, and is still the largest standing amphitheatre in the world, despite its age. Construction began under the emperor Vespasian (r. 69–79 AD) in 72 and was completed in 80 AD under his successor and heir, Titus (r. 79–81). Further modifications were made during the reign of Domitian (r. 81–96). The three emperors who were patrons of the work are known as the Flavian dynasty, and the amphitheatre was named the Flavian Amphitheatre (Latin: Amphitheatrum Flavium; Italian: Anfiteatro Flavio [aɱfiteˈaːtro ˈflaːvjo]) by later classicists and archaeologists for its association with their family name (Flavius).\n",
      "The Colosseum is built of travertine limestone, tuff (volcanic rock), and brick-faced concrete. It could hold an estimated 50,000 to 80,000 spectators at various points in its history, having an average audience of some 65,000; it was used for gladiatorial contests and public spectacles including animal hunts, executions, re-enactments of famous battles, and dramas based on Roman mythology, and briefly mock sea battles. The building ceased to be used for entertainment in the early medieval era. It was later reused for such purposes as housing, workshops, quarters for a religious order, a fortress, a quarry, and a Christian shrine.\n",
      "Although substantially ruined by earthquakes and stone robbers taking spolia, the Colosseum is still a renowned symbol of Imperial Rome and was listed as one of the New 7 Wonders of the World. It is one of Rome's most popular tourist attractions and also has links to the Roman Catholic Church, as each Good Friday the Pope leads a torchlit \"Way of the Cross\" procession that starts in the area around the Colosseum. The Colosseum is depicted on the Italian version of the five-cent euro coin.\n"
     ]
    }
   ],
   "source": [
    "def get_summary_wikipedia(building):\n",
    "    print(wikipedia.summary(building))\n",
    "    \n",
    "    \n",
    "get_summary_wikipedia(buildings_list[0])"
   ]
  },
  {
   "cell_type": "markdown",
   "id": "4113d18a",
   "metadata": {},
   "source": [
    "### Let us try to see if it will seamlessly work with the second entry from the list"
   ]
  },
  {
   "cell_type": "code",
   "execution_count": 11,
   "id": "173811ad",
   "metadata": {},
   "outputs": [
    {
     "name": "stderr",
     "output_type": "stream",
     "text": [
      "/Users/olyanicolaeva/anaconda3/lib/python3.8/site-packages/wikipedia/wikipedia.py:389: GuessedAtParserWarning: No parser was explicitly specified, so I'm using the best available HTML parser for this system (\"lxml\"). This usually isn't a problem, but if you run this code on another system, or in a different virtual environment, it may use a different parser and behave differently.\n",
      "\n",
      "The code that caused this warning is on line 389 of the file /Users/olyanicolaeva/anaconda3/lib/python3.8/site-packages/wikipedia/wikipedia.py. To get rid of this warning, pass the additional argument 'features=\"lxml\"' to the BeautifulSoup constructor.\n",
      "\n",
      "  lis = BeautifulSoup(html).find_all('li')\n"
     ]
    },
    {
     "ename": "DisambiguationError",
     "evalue": "\"Tempietto\" may refer to: \nSan Pietro in Montorio#The Tempietto\nVilla Barbaro#Church (Tempietto Barbaro)\nTempietto of Sant'Antonio, Rimini\nTemple of Aesculapius (Villa Borghese)\nTemple of Clitumnus\nTempietto del Petrarca, Canossa\nSant'Emidio alle Grotte\nSant'Emidio Rosso\nSanctuary of Santa Maria infra Saxa, Genga\nOratorio di Santa Maria in Valle\nPitigliano#Tempietto\nTempietto di Santa Croce (Bergamo)\nTempietto di San Fedelino sul Lago Mezzola\nRucellai Sepulchre",
     "output_type": "error",
     "traceback": [
      "\u001b[0;31m---------------------------------------------------------------------------\u001b[0m",
      "\u001b[0;31mDisambiguationError\u001b[0m                       Traceback (most recent call last)",
      "\u001b[0;32m<ipython-input-11-6a305abed2ef>\u001b[0m in \u001b[0;36m<module>\u001b[0;34m\u001b[0m\n\u001b[1;32m      1\u001b[0m \u001b[0mtempietto_invariants\u001b[0m \u001b[0;34m=\u001b[0m \u001b[0;34m[\u001b[0m\u001b[0;34m\"Tempietto\"\u001b[0m\u001b[0;34m,\u001b[0m \u001b[0;34m\"Tempietto Bramante\"\u001b[0m\u001b[0;34m]\u001b[0m\u001b[0;34m\u001b[0m\u001b[0;34m\u001b[0m\u001b[0m\n\u001b[0;32m----> 2\u001b[0;31m \u001b[0mget_summary_wikipedia\u001b[0m\u001b[0;34m(\u001b[0m\u001b[0mtempietto_invariants\u001b[0m\u001b[0;34m[\u001b[0m\u001b[0;36m0\u001b[0m\u001b[0;34m]\u001b[0m\u001b[0;34m)\u001b[0m\u001b[0;34m\u001b[0m\u001b[0;34m\u001b[0m\u001b[0m\n\u001b[0m",
      "\u001b[0;32m<ipython-input-10-323831357a07>\u001b[0m in \u001b[0;36mget_summary_wikipedia\u001b[0;34m(building)\u001b[0m\n\u001b[1;32m      1\u001b[0m \u001b[0;32mdef\u001b[0m \u001b[0mget_summary_wikipedia\u001b[0m\u001b[0;34m(\u001b[0m\u001b[0mbuilding\u001b[0m\u001b[0;34m)\u001b[0m\u001b[0;34m:\u001b[0m\u001b[0;34m\u001b[0m\u001b[0;34m\u001b[0m\u001b[0m\n\u001b[0;32m----> 2\u001b[0;31m     \u001b[0mprint\u001b[0m\u001b[0;34m(\u001b[0m\u001b[0mwikipedia\u001b[0m\u001b[0;34m.\u001b[0m\u001b[0msummary\u001b[0m\u001b[0;34m(\u001b[0m\u001b[0mbuilding\u001b[0m\u001b[0;34m)\u001b[0m\u001b[0;34m)\u001b[0m\u001b[0;34m\u001b[0m\u001b[0;34m\u001b[0m\u001b[0m\n\u001b[0m\u001b[1;32m      3\u001b[0m \u001b[0;34m\u001b[0m\u001b[0m\n\u001b[1;32m      4\u001b[0m \u001b[0;34m\u001b[0m\u001b[0m\n\u001b[1;32m      5\u001b[0m \u001b[0mget_summary_wikipedia\u001b[0m\u001b[0;34m(\u001b[0m\u001b[0mbuildings_list\u001b[0m\u001b[0;34m[\u001b[0m\u001b[0;36m0\u001b[0m\u001b[0;34m]\u001b[0m\u001b[0;34m)\u001b[0m\u001b[0;34m\u001b[0m\u001b[0;34m\u001b[0m\u001b[0m\n",
      "\u001b[0;32m~/anaconda3/lib/python3.8/site-packages/wikipedia/util.py\u001b[0m in \u001b[0;36m__call__\u001b[0;34m(self, *args, **kwargs)\u001b[0m\n\u001b[1;32m     26\u001b[0m       \u001b[0mret\u001b[0m \u001b[0;34m=\u001b[0m \u001b[0mself\u001b[0m\u001b[0;34m.\u001b[0m\u001b[0m_cache\u001b[0m\u001b[0;34m[\u001b[0m\u001b[0mkey\u001b[0m\u001b[0;34m]\u001b[0m\u001b[0;34m\u001b[0m\u001b[0;34m\u001b[0m\u001b[0m\n\u001b[1;32m     27\u001b[0m     \u001b[0;32melse\u001b[0m\u001b[0;34m:\u001b[0m\u001b[0;34m\u001b[0m\u001b[0;34m\u001b[0m\u001b[0m\n\u001b[0;32m---> 28\u001b[0;31m       \u001b[0mret\u001b[0m \u001b[0;34m=\u001b[0m \u001b[0mself\u001b[0m\u001b[0;34m.\u001b[0m\u001b[0m_cache\u001b[0m\u001b[0;34m[\u001b[0m\u001b[0mkey\u001b[0m\u001b[0;34m]\u001b[0m \u001b[0;34m=\u001b[0m \u001b[0mself\u001b[0m\u001b[0;34m.\u001b[0m\u001b[0mfn\u001b[0m\u001b[0;34m(\u001b[0m\u001b[0;34m*\u001b[0m\u001b[0margs\u001b[0m\u001b[0;34m,\u001b[0m \u001b[0;34m**\u001b[0m\u001b[0mkwargs\u001b[0m\u001b[0;34m)\u001b[0m\u001b[0;34m\u001b[0m\u001b[0;34m\u001b[0m\u001b[0m\n\u001b[0m\u001b[1;32m     29\u001b[0m \u001b[0;34m\u001b[0m\u001b[0m\n\u001b[1;32m     30\u001b[0m     \u001b[0;32mreturn\u001b[0m \u001b[0mret\u001b[0m\u001b[0;34m\u001b[0m\u001b[0;34m\u001b[0m\u001b[0m\n",
      "\u001b[0;32m~/anaconda3/lib/python3.8/site-packages/wikipedia/wikipedia.py\u001b[0m in \u001b[0;36msummary\u001b[0;34m(title, sentences, chars, auto_suggest, redirect)\u001b[0m\n\u001b[1;32m    229\u001b[0m   \u001b[0;31m# use auto_suggest and redirect to get the correct article\u001b[0m\u001b[0;34m\u001b[0m\u001b[0;34m\u001b[0m\u001b[0;34m\u001b[0m\u001b[0m\n\u001b[1;32m    230\u001b[0m   \u001b[0;31m# also, use page's error checking to raise DisambiguationError if necessary\u001b[0m\u001b[0;34m\u001b[0m\u001b[0;34m\u001b[0m\u001b[0;34m\u001b[0m\u001b[0m\n\u001b[0;32m--> 231\u001b[0;31m   \u001b[0mpage_info\u001b[0m \u001b[0;34m=\u001b[0m \u001b[0mpage\u001b[0m\u001b[0;34m(\u001b[0m\u001b[0mtitle\u001b[0m\u001b[0;34m,\u001b[0m \u001b[0mauto_suggest\u001b[0m\u001b[0;34m=\u001b[0m\u001b[0mauto_suggest\u001b[0m\u001b[0;34m,\u001b[0m \u001b[0mredirect\u001b[0m\u001b[0;34m=\u001b[0m\u001b[0mredirect\u001b[0m\u001b[0;34m)\u001b[0m\u001b[0;34m\u001b[0m\u001b[0;34m\u001b[0m\u001b[0m\n\u001b[0m\u001b[1;32m    232\u001b[0m   \u001b[0mtitle\u001b[0m \u001b[0;34m=\u001b[0m \u001b[0mpage_info\u001b[0m\u001b[0;34m.\u001b[0m\u001b[0mtitle\u001b[0m\u001b[0;34m\u001b[0m\u001b[0;34m\u001b[0m\u001b[0m\n\u001b[1;32m    233\u001b[0m   \u001b[0mpageid\u001b[0m \u001b[0;34m=\u001b[0m \u001b[0mpage_info\u001b[0m\u001b[0;34m.\u001b[0m\u001b[0mpageid\u001b[0m\u001b[0;34m\u001b[0m\u001b[0;34m\u001b[0m\u001b[0m\n",
      "\u001b[0;32m~/anaconda3/lib/python3.8/site-packages/wikipedia/wikipedia.py\u001b[0m in \u001b[0;36mpage\u001b[0;34m(title, pageid, auto_suggest, redirect, preload)\u001b[0m\n\u001b[1;32m    274\u001b[0m         \u001b[0;31m# if there is no suggestion or search results, the page doesn't exist\u001b[0m\u001b[0;34m\u001b[0m\u001b[0;34m\u001b[0m\u001b[0;34m\u001b[0m\u001b[0m\n\u001b[1;32m    275\u001b[0m         \u001b[0;32mraise\u001b[0m \u001b[0mPageError\u001b[0m\u001b[0;34m(\u001b[0m\u001b[0mtitle\u001b[0m\u001b[0;34m)\u001b[0m\u001b[0;34m\u001b[0m\u001b[0;34m\u001b[0m\u001b[0m\n\u001b[0;32m--> 276\u001b[0;31m     \u001b[0;32mreturn\u001b[0m \u001b[0mWikipediaPage\u001b[0m\u001b[0;34m(\u001b[0m\u001b[0mtitle\u001b[0m\u001b[0;34m,\u001b[0m \u001b[0mredirect\u001b[0m\u001b[0;34m=\u001b[0m\u001b[0mredirect\u001b[0m\u001b[0;34m,\u001b[0m \u001b[0mpreload\u001b[0m\u001b[0;34m=\u001b[0m\u001b[0mpreload\u001b[0m\u001b[0;34m)\u001b[0m\u001b[0;34m\u001b[0m\u001b[0;34m\u001b[0m\u001b[0m\n\u001b[0m\u001b[1;32m    277\u001b[0m   \u001b[0;32melif\u001b[0m \u001b[0mpageid\u001b[0m \u001b[0;32mis\u001b[0m \u001b[0;32mnot\u001b[0m \u001b[0;32mNone\u001b[0m\u001b[0;34m:\u001b[0m\u001b[0;34m\u001b[0m\u001b[0;34m\u001b[0m\u001b[0m\n\u001b[1;32m    278\u001b[0m     \u001b[0;32mreturn\u001b[0m \u001b[0mWikipediaPage\u001b[0m\u001b[0;34m(\u001b[0m\u001b[0mpageid\u001b[0m\u001b[0;34m=\u001b[0m\u001b[0mpageid\u001b[0m\u001b[0;34m,\u001b[0m \u001b[0mpreload\u001b[0m\u001b[0;34m=\u001b[0m\u001b[0mpreload\u001b[0m\u001b[0;34m)\u001b[0m\u001b[0;34m\u001b[0m\u001b[0;34m\u001b[0m\u001b[0m\n",
      "\u001b[0;32m~/anaconda3/lib/python3.8/site-packages/wikipedia/wikipedia.py\u001b[0m in \u001b[0;36m__init__\u001b[0;34m(self, title, pageid, redirect, preload, original_title)\u001b[0m\n\u001b[1;32m    297\u001b[0m       \u001b[0;32mraise\u001b[0m \u001b[0mValueError\u001b[0m\u001b[0;34m(\u001b[0m\u001b[0;34m\"Either a title or a pageid must be specified\"\u001b[0m\u001b[0;34m)\u001b[0m\u001b[0;34m\u001b[0m\u001b[0;34m\u001b[0m\u001b[0m\n\u001b[1;32m    298\u001b[0m \u001b[0;34m\u001b[0m\u001b[0m\n\u001b[0;32m--> 299\u001b[0;31m     \u001b[0mself\u001b[0m\u001b[0;34m.\u001b[0m\u001b[0m__load\u001b[0m\u001b[0;34m(\u001b[0m\u001b[0mredirect\u001b[0m\u001b[0;34m=\u001b[0m\u001b[0mredirect\u001b[0m\u001b[0;34m,\u001b[0m \u001b[0mpreload\u001b[0m\u001b[0;34m=\u001b[0m\u001b[0mpreload\u001b[0m\u001b[0;34m)\u001b[0m\u001b[0;34m\u001b[0m\u001b[0;34m\u001b[0m\u001b[0m\n\u001b[0m\u001b[1;32m    300\u001b[0m \u001b[0;34m\u001b[0m\u001b[0m\n\u001b[1;32m    301\u001b[0m     \u001b[0;32mif\u001b[0m \u001b[0mpreload\u001b[0m\u001b[0;34m:\u001b[0m\u001b[0;34m\u001b[0m\u001b[0;34m\u001b[0m\u001b[0m\n",
      "\u001b[0;32m~/anaconda3/lib/python3.8/site-packages/wikipedia/wikipedia.py\u001b[0m in \u001b[0;36m__load\u001b[0;34m(self, redirect, preload)\u001b[0m\n\u001b[1;32m    391\u001b[0m       \u001b[0mmay_refer_to\u001b[0m \u001b[0;34m=\u001b[0m \u001b[0;34m[\u001b[0m\u001b[0mli\u001b[0m\u001b[0;34m.\u001b[0m\u001b[0ma\u001b[0m\u001b[0;34m.\u001b[0m\u001b[0mget_text\u001b[0m\u001b[0;34m(\u001b[0m\u001b[0;34m)\u001b[0m \u001b[0;32mfor\u001b[0m \u001b[0mli\u001b[0m \u001b[0;32min\u001b[0m \u001b[0mfiltered_lis\u001b[0m \u001b[0;32mif\u001b[0m \u001b[0mli\u001b[0m\u001b[0;34m.\u001b[0m\u001b[0ma\u001b[0m\u001b[0;34m]\u001b[0m\u001b[0;34m\u001b[0m\u001b[0;34m\u001b[0m\u001b[0m\n\u001b[1;32m    392\u001b[0m \u001b[0;34m\u001b[0m\u001b[0m\n\u001b[0;32m--> 393\u001b[0;31m       \u001b[0;32mraise\u001b[0m \u001b[0mDisambiguationError\u001b[0m\u001b[0;34m(\u001b[0m\u001b[0mgetattr\u001b[0m\u001b[0;34m(\u001b[0m\u001b[0mself\u001b[0m\u001b[0;34m,\u001b[0m \u001b[0;34m'title'\u001b[0m\u001b[0;34m,\u001b[0m \u001b[0mpage\u001b[0m\u001b[0;34m[\u001b[0m\u001b[0;34m'title'\u001b[0m\u001b[0;34m]\u001b[0m\u001b[0;34m)\u001b[0m\u001b[0;34m,\u001b[0m \u001b[0mmay_refer_to\u001b[0m\u001b[0;34m)\u001b[0m\u001b[0;34m\u001b[0m\u001b[0;34m\u001b[0m\u001b[0m\n\u001b[0m\u001b[1;32m    394\u001b[0m \u001b[0;34m\u001b[0m\u001b[0m\n\u001b[1;32m    395\u001b[0m     \u001b[0;32melse\u001b[0m\u001b[0;34m:\u001b[0m\u001b[0;34m\u001b[0m\u001b[0;34m\u001b[0m\u001b[0m\n",
      "\u001b[0;31mDisambiguationError\u001b[0m: \"Tempietto\" may refer to: \nSan Pietro in Montorio#The Tempietto\nVilla Barbaro#Church (Tempietto Barbaro)\nTempietto of Sant'Antonio, Rimini\nTemple of Aesculapius (Villa Borghese)\nTemple of Clitumnus\nTempietto del Petrarca, Canossa\nSant'Emidio alle Grotte\nSant'Emidio Rosso\nSanctuary of Santa Maria infra Saxa, Genga\nOratorio di Santa Maria in Valle\nPitigliano#Tempietto\nTempietto di Santa Croce (Bergamo)\nTempietto di San Fedelino sul Lago Mezzola\nRucellai Sepulchre"
     ]
    }
   ],
   "source": [
    "tempietto_invariants = [\"Tempietto\", \"Tempietto Bramante\"]\n",
    "get_summary_wikipedia(tempietto_invariants[0])"
   ]
  },
  {
   "cell_type": "markdown",
   "id": "384e4534",
   "metadata": {},
   "source": [
    "#### <span style=\"color:green\"> ??? What does the error mean? </span>"
   ]
  },
  {
   "cell_type": "raw",
   "id": "ba218504",
   "metadata": {},
   "source": [
    "Answer here ..."
   ]
  },
  {
   "cell_type": "markdown",
   "id": "21fb9ba2",
   "metadata": {},
   "source": [
    "### What if we look for \"Tempietto Bramante\"?"
   ]
  },
  {
   "cell_type": "code",
   "execution_count": 12,
   "id": "0962e075",
   "metadata": {},
   "outputs": [
    {
     "ename": "PageError",
     "evalue": "Page id \"tempietto brabant\" does not match any pages. Try another id!",
     "output_type": "error",
     "traceback": [
      "\u001b[0;31m---------------------------------------------------------------------------\u001b[0m",
      "\u001b[0;31mPageError\u001b[0m                                 Traceback (most recent call last)",
      "\u001b[0;32m<ipython-input-12-a453292b548e>\u001b[0m in \u001b[0;36m<module>\u001b[0;34m\u001b[0m\n\u001b[0;32m----> 1\u001b[0;31m \u001b[0mget_summary_wikipedia\u001b[0m\u001b[0;34m(\u001b[0m\u001b[0mtempietto_invariants\u001b[0m\u001b[0;34m[\u001b[0m\u001b[0;36m1\u001b[0m\u001b[0;34m]\u001b[0m\u001b[0;34m)\u001b[0m\u001b[0;34m\u001b[0m\u001b[0;34m\u001b[0m\u001b[0m\n\u001b[0m",
      "\u001b[0;32m<ipython-input-10-323831357a07>\u001b[0m in \u001b[0;36mget_summary_wikipedia\u001b[0;34m(building)\u001b[0m\n\u001b[1;32m      1\u001b[0m \u001b[0;32mdef\u001b[0m \u001b[0mget_summary_wikipedia\u001b[0m\u001b[0;34m(\u001b[0m\u001b[0mbuilding\u001b[0m\u001b[0;34m)\u001b[0m\u001b[0;34m:\u001b[0m\u001b[0;34m\u001b[0m\u001b[0;34m\u001b[0m\u001b[0m\n\u001b[0;32m----> 2\u001b[0;31m     \u001b[0mprint\u001b[0m\u001b[0;34m(\u001b[0m\u001b[0mwikipedia\u001b[0m\u001b[0;34m.\u001b[0m\u001b[0msummary\u001b[0m\u001b[0;34m(\u001b[0m\u001b[0mbuilding\u001b[0m\u001b[0;34m)\u001b[0m\u001b[0;34m)\u001b[0m\u001b[0;34m\u001b[0m\u001b[0;34m\u001b[0m\u001b[0m\n\u001b[0m\u001b[1;32m      3\u001b[0m \u001b[0;34m\u001b[0m\u001b[0m\n\u001b[1;32m      4\u001b[0m \u001b[0;34m\u001b[0m\u001b[0m\n\u001b[1;32m      5\u001b[0m \u001b[0mget_summary_wikipedia\u001b[0m\u001b[0;34m(\u001b[0m\u001b[0mbuildings_list\u001b[0m\u001b[0;34m[\u001b[0m\u001b[0;36m0\u001b[0m\u001b[0;34m]\u001b[0m\u001b[0;34m)\u001b[0m\u001b[0;34m\u001b[0m\u001b[0;34m\u001b[0m\u001b[0m\n",
      "\u001b[0;32m~/anaconda3/lib/python3.8/site-packages/wikipedia/util.py\u001b[0m in \u001b[0;36m__call__\u001b[0;34m(self, *args, **kwargs)\u001b[0m\n\u001b[1;32m     26\u001b[0m       \u001b[0mret\u001b[0m \u001b[0;34m=\u001b[0m \u001b[0mself\u001b[0m\u001b[0;34m.\u001b[0m\u001b[0m_cache\u001b[0m\u001b[0;34m[\u001b[0m\u001b[0mkey\u001b[0m\u001b[0;34m]\u001b[0m\u001b[0;34m\u001b[0m\u001b[0;34m\u001b[0m\u001b[0m\n\u001b[1;32m     27\u001b[0m     \u001b[0;32melse\u001b[0m\u001b[0;34m:\u001b[0m\u001b[0;34m\u001b[0m\u001b[0;34m\u001b[0m\u001b[0m\n\u001b[0;32m---> 28\u001b[0;31m       \u001b[0mret\u001b[0m \u001b[0;34m=\u001b[0m \u001b[0mself\u001b[0m\u001b[0;34m.\u001b[0m\u001b[0m_cache\u001b[0m\u001b[0;34m[\u001b[0m\u001b[0mkey\u001b[0m\u001b[0;34m]\u001b[0m \u001b[0;34m=\u001b[0m \u001b[0mself\u001b[0m\u001b[0;34m.\u001b[0m\u001b[0mfn\u001b[0m\u001b[0;34m(\u001b[0m\u001b[0;34m*\u001b[0m\u001b[0margs\u001b[0m\u001b[0;34m,\u001b[0m \u001b[0;34m**\u001b[0m\u001b[0mkwargs\u001b[0m\u001b[0;34m)\u001b[0m\u001b[0;34m\u001b[0m\u001b[0;34m\u001b[0m\u001b[0m\n\u001b[0m\u001b[1;32m     29\u001b[0m \u001b[0;34m\u001b[0m\u001b[0m\n\u001b[1;32m     30\u001b[0m     \u001b[0;32mreturn\u001b[0m \u001b[0mret\u001b[0m\u001b[0;34m\u001b[0m\u001b[0;34m\u001b[0m\u001b[0m\n",
      "\u001b[0;32m~/anaconda3/lib/python3.8/site-packages/wikipedia/wikipedia.py\u001b[0m in \u001b[0;36msummary\u001b[0;34m(title, sentences, chars, auto_suggest, redirect)\u001b[0m\n\u001b[1;32m    229\u001b[0m   \u001b[0;31m# use auto_suggest and redirect to get the correct article\u001b[0m\u001b[0;34m\u001b[0m\u001b[0;34m\u001b[0m\u001b[0;34m\u001b[0m\u001b[0m\n\u001b[1;32m    230\u001b[0m   \u001b[0;31m# also, use page's error checking to raise DisambiguationError if necessary\u001b[0m\u001b[0;34m\u001b[0m\u001b[0;34m\u001b[0m\u001b[0;34m\u001b[0m\u001b[0m\n\u001b[0;32m--> 231\u001b[0;31m   \u001b[0mpage_info\u001b[0m \u001b[0;34m=\u001b[0m \u001b[0mpage\u001b[0m\u001b[0;34m(\u001b[0m\u001b[0mtitle\u001b[0m\u001b[0;34m,\u001b[0m \u001b[0mauto_suggest\u001b[0m\u001b[0;34m=\u001b[0m\u001b[0mauto_suggest\u001b[0m\u001b[0;34m,\u001b[0m \u001b[0mredirect\u001b[0m\u001b[0;34m=\u001b[0m\u001b[0mredirect\u001b[0m\u001b[0;34m)\u001b[0m\u001b[0;34m\u001b[0m\u001b[0;34m\u001b[0m\u001b[0m\n\u001b[0m\u001b[1;32m    232\u001b[0m   \u001b[0mtitle\u001b[0m \u001b[0;34m=\u001b[0m \u001b[0mpage_info\u001b[0m\u001b[0;34m.\u001b[0m\u001b[0mtitle\u001b[0m\u001b[0;34m\u001b[0m\u001b[0;34m\u001b[0m\u001b[0m\n\u001b[1;32m    233\u001b[0m   \u001b[0mpageid\u001b[0m \u001b[0;34m=\u001b[0m \u001b[0mpage_info\u001b[0m\u001b[0;34m.\u001b[0m\u001b[0mpageid\u001b[0m\u001b[0;34m\u001b[0m\u001b[0;34m\u001b[0m\u001b[0m\n",
      "\u001b[0;32m~/anaconda3/lib/python3.8/site-packages/wikipedia/wikipedia.py\u001b[0m in \u001b[0;36mpage\u001b[0;34m(title, pageid, auto_suggest, redirect, preload)\u001b[0m\n\u001b[1;32m    274\u001b[0m         \u001b[0;31m# if there is no suggestion or search results, the page doesn't exist\u001b[0m\u001b[0;34m\u001b[0m\u001b[0;34m\u001b[0m\u001b[0;34m\u001b[0m\u001b[0m\n\u001b[1;32m    275\u001b[0m         \u001b[0;32mraise\u001b[0m \u001b[0mPageError\u001b[0m\u001b[0;34m(\u001b[0m\u001b[0mtitle\u001b[0m\u001b[0;34m)\u001b[0m\u001b[0;34m\u001b[0m\u001b[0;34m\u001b[0m\u001b[0m\n\u001b[0;32m--> 276\u001b[0;31m     \u001b[0;32mreturn\u001b[0m \u001b[0mWikipediaPage\u001b[0m\u001b[0;34m(\u001b[0m\u001b[0mtitle\u001b[0m\u001b[0;34m,\u001b[0m \u001b[0mredirect\u001b[0m\u001b[0;34m=\u001b[0m\u001b[0mredirect\u001b[0m\u001b[0;34m,\u001b[0m \u001b[0mpreload\u001b[0m\u001b[0;34m=\u001b[0m\u001b[0mpreload\u001b[0m\u001b[0;34m)\u001b[0m\u001b[0;34m\u001b[0m\u001b[0;34m\u001b[0m\u001b[0m\n\u001b[0m\u001b[1;32m    277\u001b[0m   \u001b[0;32melif\u001b[0m \u001b[0mpageid\u001b[0m \u001b[0;32mis\u001b[0m \u001b[0;32mnot\u001b[0m \u001b[0;32mNone\u001b[0m\u001b[0;34m:\u001b[0m\u001b[0;34m\u001b[0m\u001b[0;34m\u001b[0m\u001b[0m\n\u001b[1;32m    278\u001b[0m     \u001b[0;32mreturn\u001b[0m \u001b[0mWikipediaPage\u001b[0m\u001b[0;34m(\u001b[0m\u001b[0mpageid\u001b[0m\u001b[0;34m=\u001b[0m\u001b[0mpageid\u001b[0m\u001b[0;34m,\u001b[0m \u001b[0mpreload\u001b[0m\u001b[0;34m=\u001b[0m\u001b[0mpreload\u001b[0m\u001b[0;34m)\u001b[0m\u001b[0;34m\u001b[0m\u001b[0;34m\u001b[0m\u001b[0m\n",
      "\u001b[0;32m~/anaconda3/lib/python3.8/site-packages/wikipedia/wikipedia.py\u001b[0m in \u001b[0;36m__init__\u001b[0;34m(self, title, pageid, redirect, preload, original_title)\u001b[0m\n\u001b[1;32m    297\u001b[0m       \u001b[0;32mraise\u001b[0m \u001b[0mValueError\u001b[0m\u001b[0;34m(\u001b[0m\u001b[0;34m\"Either a title or a pageid must be specified\"\u001b[0m\u001b[0;34m)\u001b[0m\u001b[0;34m\u001b[0m\u001b[0;34m\u001b[0m\u001b[0m\n\u001b[1;32m    298\u001b[0m \u001b[0;34m\u001b[0m\u001b[0m\n\u001b[0;32m--> 299\u001b[0;31m     \u001b[0mself\u001b[0m\u001b[0;34m.\u001b[0m\u001b[0m__load\u001b[0m\u001b[0;34m(\u001b[0m\u001b[0mredirect\u001b[0m\u001b[0;34m=\u001b[0m\u001b[0mredirect\u001b[0m\u001b[0;34m,\u001b[0m \u001b[0mpreload\u001b[0m\u001b[0;34m=\u001b[0m\u001b[0mpreload\u001b[0m\u001b[0;34m)\u001b[0m\u001b[0;34m\u001b[0m\u001b[0;34m\u001b[0m\u001b[0m\n\u001b[0m\u001b[1;32m    300\u001b[0m \u001b[0;34m\u001b[0m\u001b[0m\n\u001b[1;32m    301\u001b[0m     \u001b[0;32mif\u001b[0m \u001b[0mpreload\u001b[0m\u001b[0;34m:\u001b[0m\u001b[0;34m\u001b[0m\u001b[0;34m\u001b[0m\u001b[0m\n",
      "\u001b[0;32m~/anaconda3/lib/python3.8/site-packages/wikipedia/wikipedia.py\u001b[0m in \u001b[0;36m__load\u001b[0;34m(self, redirect, preload)\u001b[0m\n\u001b[1;32m    343\u001b[0m     \u001b[0;32mif\u001b[0m \u001b[0;34m'missing'\u001b[0m \u001b[0;32min\u001b[0m \u001b[0mpage\u001b[0m\u001b[0;34m:\u001b[0m\u001b[0;34m\u001b[0m\u001b[0;34m\u001b[0m\u001b[0m\n\u001b[1;32m    344\u001b[0m       \u001b[0;32mif\u001b[0m \u001b[0mhasattr\u001b[0m\u001b[0;34m(\u001b[0m\u001b[0mself\u001b[0m\u001b[0;34m,\u001b[0m \u001b[0;34m'title'\u001b[0m\u001b[0;34m)\u001b[0m\u001b[0;34m:\u001b[0m\u001b[0;34m\u001b[0m\u001b[0;34m\u001b[0m\u001b[0m\n\u001b[0;32m--> 345\u001b[0;31m         \u001b[0;32mraise\u001b[0m \u001b[0mPageError\u001b[0m\u001b[0;34m(\u001b[0m\u001b[0mself\u001b[0m\u001b[0;34m.\u001b[0m\u001b[0mtitle\u001b[0m\u001b[0;34m)\u001b[0m\u001b[0;34m\u001b[0m\u001b[0;34m\u001b[0m\u001b[0m\n\u001b[0m\u001b[1;32m    346\u001b[0m       \u001b[0;32melse\u001b[0m\u001b[0;34m:\u001b[0m\u001b[0;34m\u001b[0m\u001b[0;34m\u001b[0m\u001b[0m\n\u001b[1;32m    347\u001b[0m         \u001b[0;32mraise\u001b[0m \u001b[0mPageError\u001b[0m\u001b[0;34m(\u001b[0m\u001b[0mpageid\u001b[0m\u001b[0;34m=\u001b[0m\u001b[0mself\u001b[0m\u001b[0;34m.\u001b[0m\u001b[0mpageid\u001b[0m\u001b[0;34m)\u001b[0m\u001b[0;34m\u001b[0m\u001b[0;34m\u001b[0m\u001b[0m\n",
      "\u001b[0;31mPageError\u001b[0m: Page id \"tempietto brabant\" does not match any pages. Try another id!"
     ]
    }
   ],
   "source": [
    "get_summary_wikipedia(tempietto_invariants[1])"
   ]
  },
  {
   "cell_type": "markdown",
   "id": "023636ec",
   "metadata": {},
   "source": [
    "### The correct search title for the Wikipedia page will be \"Tempietto di San Pietro in Montorio\" "
   ]
  },
  {
   "cell_type": "code",
   "execution_count": 13,
   "id": "6541b593",
   "metadata": {},
   "outputs": [
    {
     "name": "stdout",
     "output_type": "stream",
     "text": [
      "San Pietro in Montorio (Saint Peter on the Golden Mountain) is a church in Rome, Italy, which includes in its courtyard the Tempietto, a small commemorative martyrium (tomb) built by Donato Bramante.\n",
      "\n",
      "\n"
     ]
    }
   ],
   "source": [
    "get_summary_wikipedia(buildings_list[1])"
   ]
  },
  {
   "cell_type": "markdown",
   "id": "ae69b559",
   "metadata": {},
   "source": [
    "####  <span style=\"color:green\">??? What do the two examples above indicate? (Hint: make a link with normalization and formalization) </span>\n",
    "####  <span style=\"color:green\">??? How do you think one could deal with the ambiguity on the level of database? </span>\n"
   ]
  },
  {
   "cell_type": "markdown",
   "id": "37af4830",
   "metadata": {},
   "source": [
    "## Explore Wikipedia entries (Group Work)\n",
    "Titles, Categories, Links, Content, References"
   ]
  },
  {
   "cell_type": "markdown",
   "id": "328bf264",
   "metadata": {},
   "source": [
    "####  <span style=\"color:green\">??? How granular is data structured in Wikipedia? </span>"
   ]
  },
  {
   "cell_type": "raw",
   "id": "a5adf5a2",
   "metadata": {},
   "source": [
    "Answer here ..."
   ]
  },
  {
   "cell_type": "code",
   "execution_count": 14,
   "id": "a5ab0604",
   "metadata": {},
   "outputs": [],
   "source": [
    "#title\n",
    "def get_title_wikipedia(building):\n",
    "    page = wikipedia.page(building)\n",
    "    title = page.title\n",
    "    print(title)\n",
    "\n",
    "#categories    \n",
    "def get_categories(building):\n",
    "    page = wikipedia.page(building)\n",
    "    categories = page.categories\n",
    "    print(categories)\n",
    "\n",
    "#links    \n",
    "def get_links_wikipedia(building):\n",
    "    page = wikipedia.page(building)\n",
    "    links = page.links\n",
    "    print(links)\n",
    "    \n",
    "#content\n",
    "def get_content_wikipedia(building):\n",
    "    page = wikipedia.page(building)\n",
    "    content = page.content\n",
    "    print(content)\n",
    "\n",
    "#references    \n",
    "def get_references(building):\n",
    "    page = wikipedia.page(building)\n",
    "    references = page.references\n",
    "    print(references)"
   ]
  },
  {
   "cell_type": "markdown",
   "id": "232294cf",
   "metadata": {},
   "source": [
    "####  <span style=\"color:DarkRed\">!!! Action needed: Change the index number after the \"buildings_list\" variable </span>"
   ]
  },
  {
   "cell_type": "markdown",
   "id": "1ed99a16",
   "metadata": {},
   "source": [
    "#### Let's see how to find out what index number we need "
   ]
  },
  {
   "cell_type": "code",
   "execution_count": 19,
   "id": "7d093369",
   "metadata": {},
   "outputs": [
    {
     "data": {
      "text/plain": [
       "['Colosseum',\n",
       " 'Tempietto di San Pietro in Montorio',\n",
       " 'Santa Casa of Loreto - shrine',\n",
       " 'Villa Emo',\n",
       " 'The Palace of Versailles',\n",
       " 'Panthéon - St. Geneviève',\n",
       " 'Altes Museum']"
      ]
     },
     "execution_count": 19,
     "metadata": {},
     "output_type": "execute_result"
    }
   ],
   "source": [
    "buildings_list"
   ]
  },
  {
   "cell_type": "markdown",
   "id": "71855a43",
   "metadata": {},
   "source": [
    "### The count for indexing in programming starts with 0 ..."
   ]
  },
  {
   "cell_type": "code",
   "execution_count": 20,
   "id": "2b831499",
   "metadata": {},
   "outputs": [
    {
     "name": "stdout",
     "output_type": "stream",
     "text": [
      "0 Colosseum\n",
      "1 Tempietto di San Pietro in Montorio\n",
      "2 Santa Casa of Loreto - shrine\n",
      "3 Villa Emo\n",
      "4 The Palace of Versailles\n",
      "5 Panthéon - St. Geneviève\n",
      "6 Altes Museum\n"
     ]
    }
   ],
   "source": [
    "for i, item in enumerate(buildings_list):\n",
    "    print(i,item)"
   ]
  },
  {
   "cell_type": "markdown",
   "id": "e9654809",
   "metadata": {},
   "source": [
    "#### Title"
   ]
  },
  {
   "cell_type": "code",
   "execution_count": 21,
   "id": "67e05bfc",
   "metadata": {},
   "outputs": [
    {
     "name": "stdout",
     "output_type": "stream",
     "text": [
      "Colosseum\n"
     ]
    }
   ],
   "source": [
    "get_title_wikipedia(buildings_list[0])"
   ]
  },
  {
   "cell_type": "markdown",
   "id": "961e5079",
   "metadata": {},
   "source": [
    "#### Summary"
   ]
  },
  {
   "cell_type": "code",
   "execution_count": 22,
   "id": "47e03783",
   "metadata": {},
   "outputs": [
    {
     "name": "stdout",
     "output_type": "stream",
     "text": [
      "The Colosseum ( KOL-ə-SEE-əm; Italian: Colosseo [kolosˈsɛːo]) is an elliptical amphitheatre in the centre of the city of Rome, Italy, just east of the Roman Forum. It is the largest ancient amphitheatre ever built, and is still the largest standing amphitheatre in the world, despite its age. Construction began under the emperor Vespasian (r. 69–79 AD) in 72 and was completed in 80 AD under his successor and heir, Titus (r. 79–81). Further modifications were made during the reign of Domitian (r. 81–96). The three emperors who were patrons of the work are known as the Flavian dynasty, and the amphitheatre was named the Flavian Amphitheatre (Latin: Amphitheatrum Flavium; Italian: Anfiteatro Flavio [aɱfiteˈaːtro ˈflaːvjo]) by later classicists and archaeologists for its association with their family name (Flavius).\n",
      "The Colosseum is built of travertine limestone, tuff (volcanic rock), and brick-faced concrete. It could hold an estimated 50,000 to 80,000 spectators at various points in its history, having an average audience of some 65,000; it was used for gladiatorial contests and public spectacles including animal hunts, executions, re-enactments of famous battles, and dramas based on Roman mythology, and briefly mock sea battles. The building ceased to be used for entertainment in the early medieval era. It was later reused for such purposes as housing, workshops, quarters for a religious order, a fortress, a quarry, and a Christian shrine.\n",
      "Although substantially ruined by earthquakes and stone robbers taking spolia, the Colosseum is still a renowned symbol of Imperial Rome and was listed as one of the New 7 Wonders of the World. It is one of Rome's most popular tourist attractions and also has links to the Roman Catholic Church, as each Good Friday the Pope leads a torchlit \"Way of the Cross\" procession that starts in the area around the Colosseum. The Colosseum is depicted on the Italian version of the five-cent euro coin.\n"
     ]
    }
   ],
   "source": [
    "get_summary_wikipedia(buildings_list[0])"
   ]
  },
  {
   "cell_type": "markdown",
   "id": "b40b6c51",
   "metadata": {},
   "source": [
    "#### Categories"
   ]
  },
  {
   "cell_type": "code",
   "execution_count": 23,
   "id": "fd5c721c",
   "metadata": {},
   "outputs": [
    {
     "name": "stdout",
     "output_type": "stream",
     "text": [
      "['1st-century establishments in Italy', '80', '80s establishments in the Roman Empire', 'Amphitheatres in Rome', 'Articles containing Catalan-language text', 'Articles containing Italian-language text', 'Articles containing Latin-language text', 'Articles containing Medieval Latin-language text', 'Articles containing Middle English (1100-1500)-language text', 'Articles containing Middle French (ca. 1400-1600)-language text', 'Articles containing Old French (842-ca. 1400)-language text', 'Articles containing Portuguese-language text', 'Articles containing Spanish-language text', 'Articles using small message boxes', 'Articles with EUTA identifiers', 'Articles with GND identifiers', 'Articles with J9U identifiers', 'Articles with LCCN identifiers', 'Articles with MusicBrainz place identifiers', 'Articles with NKC identifiers', 'Articles with Pleiades identifiers', 'Articles with Structurae structure identifiers', 'Articles with VIAF identifiers', 'Articles with WorldCat identifiers', 'Articles with short description', 'Buildings and structures completed in the 1st century', 'CS1 French-language sources (fr)', 'CS1 Italian-language sources (it)', 'Commons link from Wikidata', 'Coordinates on Wikidata', 'Incomplete lists from August 2011', 'National museums of Italy', 'Outdoor arenas', 'Pages using the Kartographer extension', 'Roman amphitheatres in Italy', 'Roman archaeology', 'Rome R. XIX Celio', 'Round buildings', 'Ruins in Italy', 'Short description matches Wikidata', 'Titus', 'Use dmy dates from April 2022', 'Vespasian', 'Webarchive template wayback links', 'Wikipedia articles incorporating citation to the NSRW', 'Wikipedia articles incorporating citation to the NSRW with an wstitle parameter', 'Wikipedia indefinitely semi-protected pages', 'World Heritage Sites in Italy']\n"
     ]
    }
   ],
   "source": [
    "get_categories(buildings_list[0])"
   ]
  },
  {
   "cell_type": "markdown",
   "id": "9fe9ceee",
   "metadata": {},
   "source": [
    "#### Links"
   ]
  },
  {
   "cell_type": "code",
   "execution_count": 24,
   "id": "5c4ac1de",
   "metadata": {},
   "outputs": [
    {
     "name": "stdout",
     "output_type": "stream",
     "text": [
      "['2004 Summer Olympics', '5 cent euro coins', 'Ab Urbe Condita Libri', 'Accademia Nazionale di Santa Cecilia Musical Instruments Museum', 'Alluvium', 'Alms', 'Amedeo Maiuri', 'Amphitheatre', 'Ancient Corinth', 'Anicius Maximus', 'Antonio de Guevara', 'Apollo', 'Apollo Belvedere', 'Appian Way', 'Appian Way Regional Park', 'Aqua Alexandrina', 'Aqua Anio Vetus', 'Aqua Claudia', 'Ara Pacis', 'Arch of Constantine', 'Arch of Dolabella', 'Arch of Drusus', 'Arch of Gallienus', 'Arch of Janus', 'Arch of Septimius Severus', 'Arch of Titus', 'Archaeologists', 'Archbasilica of Saint John Lateran', 'Arcus Novus', 'Arx (Roman)', \"Assassin's Creed: Brotherhood\", 'Athens', 'Attic', 'Augustan literature (ancient Rome)', 'Augustus of Prima Porta', 'Aurelian Walls', 'Aurochs', 'Ave Imperator, morituri te salutant', 'Aventine Hill', 'Avignon Papacy', 'Awning', 'Babuino', 'Barbary lion', 'Bartolomeo Marliani', 'Basilica Argentaria', 'Basilica Julia', 'Basilica Ulpia', 'Basilica of Junius Bassus', 'Basilica of Maxentius', 'Basilica of Neptune', 'Basilica of Saint Paul Outside the Walls', 'Baths of Agrippa', 'Baths of Caracalla', 'Baths of Diocletian', 'Baths of Nero', 'Baths of Trajan', 'Bears', 'Bede', 'Benedict Joseph Labre', 'Benedict XIV', 'Benito Mussolini', 'Billy Joel', 'Bioparco di Roma', 'Bird migration', 'Bocca della Verità', 'Boncompagni Ludovisi Decorative Art Museum', 'British Columbia', 'Bronze', 'Bullfight', 'Caelian Hill', 'Caesar (title)', 'Campo Verano', \"Campo de' Fiori\", 'Canal', 'Capitoline Hill', 'Capitoline Museums', 'Capo di Bove', 'Casa dei Cavalieri di Rodi', 'Casa di Goethe', 'Casal Rotondo', 'Caspian tiger', 'Cassius Dio', \"Castel Sant'Angelo\", 'Castello Orsini-Odescalchi', 'Castra Praetoria', 'Catacombs of Domitilla', 'Catacombs of Rome', 'Catacombs of San Sebastiano', 'Catalan language', 'Catholic Encyclopedia', 'Chichen Itza', 'Chigi Palace', \"Childe Harold's Pilgrimage\", 'Christ the Redeemer (statue)', 'Christian cross', 'Christian martyr', 'Christoffer Wilhelm Eckersberg', 'Chronography of 354', 'Churches of Rome', 'Circus Flaminius', 'Circus Maximus', 'Circus of Maxentius', 'Circus of Nero', 'Classical antiquity', 'Classical mythology', 'Classicists', 'Clivus Capitolinus', 'Cloaca Maxima', 'Colosseo', 'Colosseo (Rome Metro)', 'Colosseum (disambiguation)', 'Colossus of Constantine', 'Colossus of Nero', 'Colossus of Rhodes', 'Columbarium of Pomponius Hylas', 'Column of Antoninus Pius', 'Column of Marcus Aurelius', 'Column of Phocas', 'Column of the Immaculate Conception, Rome', 'Comitium', 'Connecticut', 'Constantine the Great', 'Corbel', 'Corfu', 'Corinthian order', 'Corpus Inscriptionum Latinarum', 'Crocodile', 'Cubic foot', 'Culture of Rome', 'Curia Julia', 'Dacia', 'Damnatio ad bestias', 'Decius Marius Venantius Basilius', 'Diego Della Valle', 'Dio Cassius', 'Domenico Panaroli', 'Domitian', 'Domus Augustana', 'Domus Aurea', 'Domus Internationalis Paulus VI', 'Domus Transitoria', 'Doria Pamphilj Gallery', 'Doric order', 'Early Church', 'Early Middle Ages', 'Early Modern English', 'Ecstasy of Saint Teresa', 'Elephant', 'Elephant and Obelisk', 'Ellipse', 'Elton John', 'Equestrian (Roman)', 'Eros', 'Esquiline Hill', 'Festa della Repubblica', 'Filippo Coarelli', 'First Jewish–Roman War', 'Five-Columns Monument', 'Flaminio Obelisk', 'Flavia (gens)', 'Flavian Amphitheatre (Pozzuoli)', 'Flavian Palace', 'Flavian dynasty', 'Flora (plants)', 'Fontana dei Quattro Fiumi', 'Fontana del Moro', 'Fontana del Nettuno, Piazza del Popolo', 'Fontana del Pantheon', 'Fontana del Pianto', 'Fontana del Tritone, Rome', \"Fontana dell'Acqua Felice\", \"Fontana dell'Acqua Paola\", 'Fontana della Barcaccia', 'Fontana della Navicella, Rome', 'Fontana della Piazza dei Quiriti', 'Fontana delle Api', 'Fontana delle Tartarughe', 'Fontana di Piazza Colonna', 'Fontana di Piazza Nicosia', \"Fontana di Piazza d'Aracoeli\", 'Fontane di Piazza Farnese', 'Fontanone di Ponte Sisto', 'Forge of Empires', 'Fortress', 'Forum Boarium', 'Forum Holitorium', 'Forum of Augustus', 'Forum of Caesar', 'Forum of Nerva', 'Fountain in Piazza Santa Maria in Trastevere', 'Fountain of Neptune, Rome', 'Fountain of the Tritons', 'Frangipani family', 'Frascati', 'Galleria Borghese', \"Galleria Comunale d'Arte Moderna, Rome\", \"Galleria Nazionale d'Arte Antica\", \"Galleria Nazionale d'Arte Moderna\", 'Galleria Spada', 'Gardens of Maecenas', 'Gardens of Sallust', 'Geographic coordinate system', 'George Gordon Byron, 6th Baron Byron', 'Germany', 'Giorgio de Chirico House Museum', 'Giovanni Battista Piranesi', 'Giraffe', 'Giuseppe Cassioli', 'Gladiator', 'Gladiator (2000 film)', 'Gladiatorial', 'Good Friday', 'Grammatical gender', 'Great Fire of Rome', 'Great Pyramid of Giza', 'Great Wall of China', 'Hadrian', \"Hadrian's Villa\", 'Harvard University Press', 'Helios', 'High Middle Ages', 'Hindustan Times', 'Hippopotamus', 'Honorius (emperor)', 'House of Augustus', 'House of the Vestals', 'Hydraulic', 'Hypogeum', 'ISBN (identifier)', 'Ignatius of Antioch', 'Il Facchino', 'Imperial Rome', 'Imperial fora', 'Inaugural games of the Flavian Amphitheatre', \"Insula dell'Ara Coeli\", 'Ionic order', 'Irenaeus', 'Italian euro coins', 'Italian language', 'Italian lira', 'Italy', 'JHU Press', 'Janet DeLaine', 'Janiculum walls', 'Jean-Léon Gérôme', 'Jewish Museum of Rome', 'John Bourchier, 2nd Baron Berners', 'John Capgrave', 'John Evelyn', 'Johns Hopkins University', 'Johns Hopkins University Press', 'Jumper (2008 film)', 'Keats–Shelley Memorial House', 'Keith Hopkins', 'Laocoön and His Sons', 'Largo di Torre Argentina', 'Lateran Obelisk', 'Lateran Palace', 'Latin adjective', 'Latin language', 'Latin noun', 'Leonard of Port Maurice', 'Leonine City', 'Leopard', 'Lexikon der gesamten Technik', 'List of Roman amphitheatres', 'List of ancient monuments in Rome', 'List of museums in Rome', 'List of obelisks in Rome', 'List of parks and gardens in Rome', 'List of streets in Rome', 'List of tallest structures built before the 20th century', 'Livy', 'Los Angeles Memorial Coliseum', 'Ludovisi Battle sarcophagus', 'Ludus Magnus', 'Lupercal', 'MAXXI', 'Machu Picchu', 'Magic (paranormal)', 'Marcus Aurelius', 'Marforio', 'Martyr', 'Mary Beard (classicist)', 'Massimo Polidoro', 'Mausoleum of Augustus', 'Mausoleum of Helena', 'Mausoleum of Maxentius', \"McCaig's Tower\", 'Medieval Latin language', 'Metropolitan City of Rome Capital', 'Middle English language', 'Middle French', 'Migne', 'Mirabilia Urbis Romae', 'Misenum', 'Monte Testaccio', 'Moshe Safdie', 'Munera (ancient Rome)', 'Murus Romuli', 'Murus Terreus', 'Museo Archeologico Ostiense', 'Museo Barracco di Scultura Antica', 'Museo Civico di Zoologia', 'Museo Nazionale Romano', \"Museo Storico Nazionale dell'Arte Sanitaria\", 'Museo delle Mura', 'Museo delle anime del Purgatorio', 'Museo di Roma', 'Museo di Roma in Trastevere', 'Museo nazionale del Palazzo di Venezia', 'Museum of Contemporary Art of Rome', 'Museum of Roman Civilization', 'Museum of the Ara Pacis', 'Museum of the Liberation of Rome', 'Naples', 'Nasone', 'National Etruscan Museum', 'National Museum of Oriental Art', 'Naumachia', 'Nazi Party Rally grounds', 'Nero', 'Neuter (grammar)', 'New 7 Wonders of the World', 'Nuremberg', 'Oban', 'Obelisk of Montecitorio', 'Old French language', 'Olympic medal', 'Ospedale di Santo Spirito in Sassia', 'Ostia Antica', 'Ostrich', 'Oxford English Dictionary', 'Oxford University Press', 'Paganism', 'Palace of Domitian', 'Palace of Justice, Rome', 'Palatine Hill', 'Palazzo Aragona Gonzaga', 'Palazzo Barberini', 'Palazzo Borghese', 'Palazzo Colonna', 'Palazzo Corsini, Rome', 'Palazzo Farnese', 'Palazzo Fusconi-Pighini', 'Palazzo Giustiniani, Rome', 'Palazzo Madama, Rome', 'Palazzo Malta', 'Palazzo Massimo alle Colonne', 'Palazzo Mattei', 'Palazzo Pamphilj', 'Palazzo Poli', 'Palazzo Ruspoli, Rome', 'Palazzo Spada', 'Palazzo Valentini', 'Palazzo Vidoni-Caffarelli', 'Palazzo Wedekind', 'Palazzo Zuccari, Rome', 'Palazzo del Viminale', 'Palazzo della Cancelleria', 'Palazzo della Civilta Italiana', 'Palazzo della Consulta', 'Palazzo delle Esposizioni', 'Panathinaiko Stadium', 'Pantheon, Rome', 'Parco degli Acquedotti', 'Passion (Christianity)', 'Paul McCartney', 'Persecution of Christians in the Roman Empire', 'Persecution of early Christians by the Romans', 'Petra', 'Philemon Holland', 'Piazza Colonna', 'Piazza Farnese', 'Piazza Navona', 'Piazza Venezia', \"Piazza d'Aracoeli\", 'Piazza del Popolo', 'Piazza della Minerva', 'Piazza della Repubblica, Rome', 'Piazza di Spagna', 'Pigorini National Museum of Prehistory and Ethnography', 'Pilaster', 'Plebs', \"Pliny's Natural History\", 'Podium', 'Pollice Verso (Gérôme)', 'Pons Cestius', 'Pons Fabricius', 'Ponte Milvio', \"Ponte Sant'Angelo\", 'Ponte Sisto', 'Pope', 'Pope Benedict XIV', 'Pope Benedict XVI', 'Pope Clement X', 'Pope John Paul II', 'Pope Sixtus V', 'Porta Ardeatina', 'Porta Asinaria', 'Porta Caelimontana', 'Porta Cavalleggeri', 'Porta Esquilina', 'Porta Latina', 'Porta Maggiore', 'Porta Maggiore Basilica', 'Porta Metronia', 'Porta Nomentana', 'Porta Pertusa', 'Porta Pia', 'Porta Pinciana', 'Porta Portese', 'Porta San Giovanni (Rome)', 'Porta San Pancrazio', 'Porta San Paolo', 'Porta San Paolo Railway Museum', 'Porta San Sebastiano', 'Porta Santo Spirito', 'Porta Settimiana', 'Porta Tiburtina', 'Porta del Popolo', 'Portico Dii Consentes', 'Porticus Aemilia', 'Porticus Octaviae', 'Portonaccio sarcophagus', 'Portuguese language', 'Public–private partnership', 'Puteoli', 'Pyramid of Cestius', 'Quarry', 'Quattro Fontane', 'Quicklime', 'Quirinal Hill', 'Quirinal Palace', 'Raphael Rooms', 'Ray Charles', 'Regio III Isis et Serapis', 'Religious order', 'Rhinoceros', 'Roland Fréart de Chambray', 'Roman Catholic Church', 'Roman Emperor', 'Roman Empire', 'Roman Forum', 'Roman Holiday', 'Roman Senate', 'Roman amphitheatre', 'Roman art', 'Roman concrete', 'Roman mythology', 'Roman numerals', 'Roman theatre (structure)', 'Rome', 'Rome Film Festival', 'Rome Quadriennale', 'Ryse: Son of Rome', 'Sacro Cuore di Cristo Re', 'Sacro Cuore di Gesù a Castro Pretorio', 'Sacro Cuore di Maria', \"San Bartolomeo all'Isola\", 'San Camillo de Lellis', 'San Carlo al Corso', 'San Clemente al Laterano', 'San Crisogono, Rome', 'San Giovanni a Porta Latina', 'San Giovanni dei Fiorentini', 'San Lorenzo fuori le mura', 'San Lorenzo in Damaso', 'San Lorenzo in Lucina', 'San Marco Evangelista al Campidoglio, Rome', 'San Martino ai Monti', 'San Nicola in Carcere', 'San Pancrazio', 'San Pietro in Vincoli', 'San Saba, Rome', 'San Sebastiano fuori le mura', 'San Silvestro in Capite', 'San Sisto Vecchio', 'San Vitale, Rome', \"Sant'Agnese fuori le mura\", \"Sant'Agostino, Rome\", \"Sant'Anastasia al Palatino\", \"Sant'Andrea della Valle\", \"Sant'Andrea delle Fratte\", \"Sant'Antonio da Padova in Via Merulana\", \"Sant'Apollinare, Rome\", \"Sant'Eugenio\", \"Sant'Eustachio\", 'Santa Balbina', 'Santa Cecilia in Trastevere', 'Santa Croce in Gerusalemme', 'Santa Croce in Via Flaminia', 'Santa Francesca Romana, Rome', 'Santa Maria Ausiliatrice, Rome', 'Santa Maria Maggiore', 'Santa Maria degli Angeli e dei Martiri', 'Santa Maria dei Miracoli and Santa Maria in Montesanto', 'Santa Maria del Popolo', 'Santa Maria della Vittoria, Rome', 'Santa Maria in Ara Coeli', 'Santa Maria in Cosmedin', 'Santa Maria in Domnica', 'Santa Maria in Trastevere', 'Santa Maria in Via', 'Santa Maria in Via Lata', 'Santa Maria sopra Minerva', 'Santa Prassede', 'Santa Pudenziana', 'Santa Sabina', 'Santa Sofia a Via Boccea', 'Santa Teresa, Rome', 'Santi Apostoli, Rome', 'Santi Bonifacio ed Alessio', 'Santi Celso e Giuliano', 'Santi Cosma e Damiano', 'Santi Giovanni e Paolo al Celio', 'Santi Nereo e Achilleo', 'Santi Quattro Coronati', 'Santo Stefano al Monte Celio', 'Scriptural Way of the Cross', 'Seating capacity', 'Second Temple', 'Servian Wall', 'Sestertius', 'Seven hills of Rome', 'Siege of Jerusalem (70)', 'Sistine Chapel', 'Sistine Chapel ceiling', 'Skeptical Inquirer', 'Slavery', 'Solar crown', 'Spanish Steps', 'Spanish language', 'Spolia', \"St. Peter's Basilica\", \"St. Peter's Square\", 'Stadium of Domitian', 'Stations of the Cross', 'Stucco', 'Suetonius', 'Summer Olympic Games', 'Superposed order', 'Tabularium', 'Taj Mahal', 'Temple of Antoninus and Faustina', 'Temple of Apollo Palatinus', 'Temple of Apollo Sosianus', 'Temple of Hadrian', 'Temple of Hercules Victor', 'Temple of Janus (Forum Holitorium)', 'Temple of Minerva Medica (nymphaeum)', 'Temple of Peace, Rome', 'Temple of Portunus', 'Temple of Saturn', 'Temple of Venus and Roma', 'Temple of Vesta', 'The Atlantic', 'The Core', 'The Way of the Dragon', 'Theatre of Marcellus', 'Theatre of Pompey', 'Theodoric the Great', 'Theodosius II', 'Thomas Cole', 'Tiber Island', 'Titus', \"Tod's\", 'Tomb of Eurysaces the Baker', 'Tomb of Hilarus Fuscus', 'Tomb of Priscilla', 'Tomb of the Haterii', 'Tomb of the Scipios', 'Tomb of the Unknown Soldier (Italy)', 'Tombs of Via Latina', 'Torre dei Capocci', 'Torre dei Conti', 'Torre delle Milizie', 'Tourist attraction', 'Trajan', \"Trajan's Column\", \"Trajan's Forum\", \"Trajan's Market\", 'Travertine', 'Trevi Fountain', 'Tuff', 'University of Michigan Press', 'Valentinian III', 'Vancouver Public Library', 'Vatican City', 'Velarium', 'Velletri Sarcophagus', 'Venanzo Crocetti Museum', 'Venatio', 'Venationes', 'Vespasian', 'Vestal Virgins', 'Via Crucis', 'Via Sacra', 'Via Veneto', 'Via dei Coronari', 'Via dei Fori Imperiali', 'Via del Corso', 'Via della Conciliazione', 'Victor Emmanuel II Monument', 'Vigna Randanini', 'Villa Ada', 'Villa Aldobrandini', 'Villa Borghese gardens', 'Villa Doria Pamphili', 'Villa Farnese', 'Villa Farnesina', 'Villa Giulia', 'Villa Gordiani', 'Villa Madama', 'Villa Medici', 'Villa Torlonia (Rome)', \"Villa d'Este\", 'Villa dei Sette Bassi', 'Villa of Livia', 'Villa of the Quintilii', 'Viminal Hill', 'Vomitorium', 'Wayback Machine', 'Wisent', 'Year of the Four Emperors']\n"
     ]
    }
   ],
   "source": [
    "get_links_wikipedia(buildings_list[0])"
   ]
  },
  {
   "cell_type": "markdown",
   "id": "815efe29",
   "metadata": {},
   "source": [
    "#### Content"
   ]
  },
  {
   "cell_type": "code",
   "execution_count": 25,
   "id": "07222479",
   "metadata": {},
   "outputs": [
    {
     "name": "stdout",
     "output_type": "stream",
     "text": [
      "The Colosseum ( KOL-ə-SEE-əm; Italian: Colosseo [kolosˈsɛːo]) is an elliptical amphitheatre in the centre of the city of Rome, Italy, just east of the Roman Forum. It is the largest ancient amphitheatre ever built, and is still the largest standing amphitheatre in the world, despite its age. Construction began under the emperor Vespasian (r. 69–79 AD) in 72 and was completed in 80 AD under his successor and heir, Titus (r. 79–81). Further modifications were made during the reign of Domitian (r. 81–96). The three emperors who were patrons of the work are known as the Flavian dynasty, and the amphitheatre was named the Flavian Amphitheatre (Latin: Amphitheatrum Flavium; Italian: Anfiteatro Flavio [aɱfiteˈaːtro ˈflaːvjo]) by later classicists and archaeologists for its association with their family name (Flavius).\n",
      "The Colosseum is built of travertine limestone, tuff (volcanic rock), and brick-faced concrete. It could hold an estimated 50,000 to 80,000 spectators at various points in its history, having an average audience of some 65,000; it was used for gladiatorial contests and public spectacles including animal hunts, executions, re-enactments of famous battles, and dramas based on Roman mythology, and briefly mock sea battles. The building ceased to be used for entertainment in the early medieval era. It was later reused for such purposes as housing, workshops, quarters for a religious order, a fortress, a quarry, and a Christian shrine.\n",
      "Although substantially ruined by earthquakes and stone robbers taking spolia, the Colosseum is still a renowned symbol of Imperial Rome and was listed as one of the New 7 Wonders of the World. It is one of Rome's most popular tourist attractions and also has links to the Roman Catholic Church, as each Good Friday the Pope leads a torchlit \"Way of the Cross\" procession that starts in the area around the Colosseum. The Colosseum is depicted on the Italian version of the five-cent euro coin.\n",
      "\n",
      "\n",
      "== Name ==\n",
      "Originally, the building's Latin name was simply amphitheatrum, 'amphitheatre'. Though the modern name Flavian Amphitheatre (Latin: Amphitheatrum Flavium) is often used, there is no evidence it was used in classical antiquity. This name refers to the patronage of the Flavian dynasty, during whose reigns the building was constructed, but the structure is better known as the Colosseum. In antiquity, Romans may have referred to the Colosseum by the unofficial name Amphitheatrum Caesareum (with Caesareum an adjective pertaining to the title Caesar), but this name may have been strictly poetic as it was not exclusive to the Colosseum; Vespasian and Titus, builders of the Colosseum, also constructed a Flavian Amphitheatre in Puteoli (modern Pozzuoli).The name Colosseum is believed to be derived from a colossal statue of Nero on the model of the Colossus of Rhodes. The giant bronze sculpture of Nero as a solar deity was moved to its position beside the amphitheatre by the emperor Hadrian (r. 117–138). The word colosseum is a neuter Latin noun formed from the adjective colosseus, meaning \"gigantic\" or \"colossean\". By the year 1000 the Latin name \"Colosseum\" had been coined to refer to the amphitheatre from the nearby \"Colossus Solis\".The spelling was sometimes altered in Medieval Latin: coloseum and coliseum are attested from the 12th and 14th centuries respectively. In the 12th century, the structure was recorded as the amphitheatrum colisei, 'Amphitheatre of the Colossus'. In the High Middle Ages, the Flavian amphitheatre is attested as the late 13th-century Old French: colosé, and in Middle French as: colisée by the early 16th century, by which time the word could be applied to any amphitheatre. From Middle French: colisée derived the Middle English: colisee, in use by the middle of the 15th century and employed by John Capgrave in his Solace of Pilgrims, in which he remarked: Middle English: collise eke is a meruelous place … þe moost part of it stant at þis day. An English translation by John Bourchier, 2nd Baron Berners, of Antonio de Guevara's biography of Marcus Aurelius (r. 161–180) in about 1533 referred to Middle English: this Emperour, beynge with the Senate at Collisee .... Similarly, the Italian: colosseo, or coliseo, are attested as referring first to the amphitheatre in Rome, and then to any amphitheatre (as Italian: culiseo in 1367). By 1460, an equivalent existed in Catalan: coliseu; by 1495 had appeared the Spanish: coliseo, and by 1548 the Portuguese: coliseu.\n",
      "\n",
      "The earliest citation for the name Colosseum in Early Modern English is the 1600 translation, by Philemon Holland, of the Urbis Romae topographia of Bartolomeo Marliani, which he used in the preparation of his translation of Livy's Augustan era Ab Urbe Condita Libri. The text states: \"This Amphitheatre was commonly called Colosseum, of Neroes Colossus, which was set up in the porch of Neroes house.\" Similarly, John Evelyn, translating the Middle French name: le Colisée used by the architectural theorist Roland Fréart de Chambray, wrote \"And 'tis indeed a kind of miracle to see that the Colosseum … and innumerable other Structures which seemed to have been built for Eternity, should be at present so ruinous and dilapidated\".\n",
      "\n",
      "\n",
      "=== Related to the Colossus of Nero statue ===\n",
      "After Nero's suicide and the civil wars of the Year of the Four Emperors, the Colossus of Nero statue was remodeled by the condemned emperor's successors into the likeness of Helios (Sol) or Apollo, the sun god, by adding the appropriate solar crown. It was then commonly referred to as the \"Colossus solis\". Nero's head was also replaced several times with the heads of succeeding emperors. Despite its pagan links, the statue remained standing well into the medieval era and was credited with magical powers. The emperor Constantine the Great remodeled the statue's face as his own.In the 8th century, an epigram attributed to the Venerable Bede celebrated the symbolic significance of the statue in a prophecy that is variously quoted: Quamdiu stat Colisæus, stat et Roma; quando cadet colisæus, cadet et Roma; quando cadet Roma, cadet et mundus (\"as long as the Colossus stands, so shall Rome; when the Colossus falls, Rome shall fall; when Rome falls, so falls the world\"). This is often mistranslated to refer to the Colosseum rather than the Colossus (as in, for instance, Byron's poem Childe Harold's Pilgrimage). However, at the time that the Pseudo-Bede wrote, the masculine noun coliseus was applied to the statue rather than to the amphitheatre.The Colossus did eventually fall, possibly being pulled down to reuse its bronze. The statue itself was largely forgotten and only its base survives, between the Colosseum and the nearby Temple of Venus and Roma.\n",
      "\n",
      "\n",
      "== History ==\n",
      "\n",
      "\n",
      "=== Construction, inauguration, and Roman renovations ===\n",
      "\n",
      "The site chosen was a flat area on the floor of a low valley between the Caelian, Esquiline and Palatine Hills, through which a canalised stream ran as well as an artificial lake/marsh. By the 2nd century BC the area was densely inhabited. It was devastated by the Great Fire of Rome in 64 AD, following which Nero seized much of the area to add to his personal domain. He built the grandiose Domus Aurea on the site, in front of which he created an artificial lake surrounded by pavilions, gardens and porticoes. The existing Aqua Claudia aqueduct was extended to supply water to the area and the gigantic bronze Colossus of Nero was set up nearby at the entrance to the Domus Aurea.  Although the Colossus was preserved, much of the Domus Aurea was torn down. The lake was filled in and the land reused as the location for the new Flavian Amphitheatre. Gladiatorial schools and other support buildings were constructed nearby within the former grounds of the Domus Aurea. Vespasian's decision to build the Colosseum on the site of Nero's lake can be seen as a populist gesture of returning to the people an area of the city which Nero had appropriated for his own use. In contrast to many other amphitheatres, which were on the outskirts of a city, the Colosseum was constructed in the city centre, in effect, placing it both symbolically and precisely at the heart of Rome.\n",
      "Construction was funded by the opulent spoils taken from the Jewish Temple after the First Jewish–Roman War in 70 AD led to the Siege of Jerusalem. According to a reconstructed inscription found on the site, \"the emperor Vespasian ordered this new amphitheatre to be erected from his general's share of the booty.\" It is often assumed that Jewish prisoners of war were brought back to Rome and contributed to the massive workforce needed for the construction of the amphitheatre, but there is no ancient evidence for that; it would, nonetheless, be commensurate with Roman practice to add humiliation to the defeated population. Along with this free source of unskilled labor, teams of professional Roman builders, engineers, artists, painters and decorators undertook the more specialized tasks necessary for building the Colosseum. The Colosseum was constructed with several different materials: wood, limestone, tuff, tiles, cement, and mortar.\n",
      "Construction of the Colosseum began under the rule of Vespasian in around 70–72 AD (73–75 AD according to some sources). The Colosseum had been completed up to the third story by the time of Vespasian's death in 79. The top level was finished by his son, Titus, in 80, and the inaugural games were held in 80 or 81 AD. Dio Cassius recounts that over 9,000 wild animals were killed during the inaugural games of the amphitheatre. Commemorative coinage was issued celebrating the inauguration. The building was remodelled further under Vespasian's younger son, the newly designated Emperor Domitian, who constructed the hypogeum, a series of tunnels used to house animals and slaves. He also added a gallery to the top of the Colosseum to increase its seating capacity.In 217, the Colosseum was badly damaged by a major fire (caused by lightning, according to Dio Cassius), which destroyed the wooden upper levels of the amphitheatre's interior. It was not fully repaired until about 240 and underwent further repairs in 250 or 252 and again in 320. Honorius banned the practice of gladiator fights in 399 and again in 404. Gladiatorial fights are last mentioned around 435. An inscription records the restoration of various parts of the Colosseum under Theodosius II and Valentinian III (reigned 425–455), possibly to repair damage caused by a major earthquake in 443; more work followed in 484 and 508. The arena continued to be used for contests well into the 6th century. Animal hunts continued until at least 523, when Anicius Maximus celebrated his consulship with some venationes, criticised by King Theodoric the Great for their high cost.\n",
      "\n",
      "\n",
      "=== Medieval ===\n",
      "\n",
      "The Colosseum underwent several radical changes of use. By the late 6th century a small chapel had been built into the structure of the amphitheater, though this apparently did not confer any particular religious significance on the building as a whole. The arena was converted into a cemetery. The numerous vaulted spaces in the arcades under the seating were converted into housing and workshops, and are recorded as still being rented out as late as the 12th century. Around 1200 the Frangipani family took over the Colosseum and fortified it, apparently using it as a castle. In the early to mid 14th century, the Pope's relocation to Avignon caused a population decline in Rome that left the region insecure. The colosseum was largely abandoned by the public and became a popular den for bandits.Severe damage was inflicted on the Colosseum by the great earthquake in 1349, causing the outer south side, lying on a less stable alluvial terrain, to collapse. Much of the tumbled stone was reused to build palaces, churches, hospitals and other buildings elsewhere in Rome. In 1377, after the Pope's return to Rome, the Colosseum was restored by a religious order called Arciconfraternita del SS. Salvatore ad Sancta Sanctorum, who then inhabited a northern portion of it until as late as the early 19th century. The interior of the amphitheater was extensively stripped of stone, which was reused elsewhere, or (in the case of the marble façade) was burned to make quicklime. The iron clamps which held the stonework together were pried or hacked out of the walls, leaving numerous pockmarks which still scar the building today.\n",
      "\n",
      "\n",
      "=== Modern ===\n",
      "\n",
      " \n",
      "\n",
      "During the 16th and 17th century, Church officials sought a productive role for the Colosseum. Pope Sixtus V (1585–1590) planned to turn the building into a wool factory to provide employment for Rome's prostitutes, though this proposal fell through with his premature death. In 1671 Cardinal Altieri authorized its use for bullfights; a public outcry caused the idea to be hastily abandoned.\n",
      "\n",
      "In 1749, Pope Benedict XIV endorsed the view that the Colosseum was a sacred site where early Christians had been martyred. He forbade the use of the Colosseum as a quarry and consecrated the building to the Passion of Christ and installed Stations of the Cross, declaring it sanctified by the blood of the Christian martyrs who perished there (see Significance in Christianity). However, there is no historical evidence to support Benedict's claim, nor is there even any evidence that anyone before the 16th century suggested this might be the case; the Catholic Encyclopedia concludes that there are no historical grounds for the supposition, other than the reasonably plausible conjecture that some of the many martyrs may well have been.\n",
      "\n",
      "Later popes initiated various stabilization and restoration projects, removing the extensive vegetation which had overgrown the structure and threatened to damage it further. The façade was reinforced with triangular brick wedges in 1807 and 1827, and the interior was repaired in 1831, 1846 and in the 1930s. The arena substructure was partly excavated in 1810–1814 and 1874 and was fully exposed under Benito Mussolini in the 1930s.The Colosseum is today one of Rome's most popular tourist attractions, receiving millions of visitors annually. The effects of pollution and general deterioration over time prompted a major restoration programme carried out between 1993 and 2000, at a cost of Lire 40 billion ($19.3m / €20.6m at 2000 prices).\n",
      "In recent years, the Colosseum has become a symbol of the international campaign against capital punishment, which was abolished in Italy in 1948. Several anti–death penalty demonstrations took place in front of the Colosseum in 2000. Since that time, as a gesture against the death penalty, the local authorities of Rome change the color of the Colosseum's night time illumination from white to gold whenever a person condemned to the death penalty anywhere in the world gets their sentence commuted or is released, or if a jurisdiction abolishes the death penalty. Most recently, the Colosseum was illuminated in gold in November 2012 following the abolishment of capital punishment in the American state of Connecticut in April 2012.Because of the ruined state of the interior, it is impractical to use the Colosseum to host large events; only a few hundred spectators can be accommodated in temporary seating. However, much larger concerts have been held just outside, using the Colosseum as a backdrop. Performers who have played at the Colosseum in recent years have included Ray Charles (May 2002), Paul McCartney (May 2003), Elton John (September 2005), and Billy Joel (July 2006).\n",
      "\n",
      "\n",
      "== Physical description ==\n",
      "\n",
      "\n",
      "=== Exterior ===\n",
      "\n",
      "Unlike Roman theatres that were built into hillsides, the Colosseum is an entirely free-standing structure. It derives its basic exterior and interior architecture from that of two theatres back to back. It is elliptical in plan and is 189 meters (615 ft / 640 Roman feet) long, and 156 meters (510 ft / 528 Roman feet) wide, with a base area of 24,000 square metres (6 acres). The height of the outer wall is 48 meters (157 ft / 165 Roman feet). The perimeter originally measured 545 meters (1,788 ft / 1,835 Roman feet). The central arena is an ellipse 87 m (287 ft) long and 55 m (180 ft) wide, surrounded by a wall 5 m (15 ft) high, above which rose tiers of seating.\n",
      "The outer wall is estimated to have required over 100,000 cubic metres (3.5 million cubic feet) of travertine stone which were set without mortar; they were held together by 300 tons of iron clamps. However, it has suffered extensive damage over the centuries, with large segments having collapsed following earthquakes. The north side of the perimeter wall is still standing; the distinctive triangular brick wedges at each end are modern additions, having been constructed in the early 19th century to shore up the wall. The remainder of the present-day exterior of the Colosseum is in fact the original interior wall.\n",
      "\n",
      "The surviving part of the outer wall's monumental façade comprises three superposed storeys surmounted by a podium on which stands a tall attic, both of which are pierced by windows interspersed at regular intervals. The arcades are framed by half-columns of the Doric, Ionic, and Corinthian orders, while the attic is decorated with Corinthian pilasters. Each of the arches in the second- and third-floor arcades framed statues, probably honoring divinities and other figures from Classical mythology.\n",
      "Two hundred and forty mast corbels were positioned around the top of the attic. They originally supported a retractable awning, known as the velarium, that kept the sun and rain off spectators. This consisted of a canvas-covered, net-like structure made of ropes, with a hole in the center. It covered two-thirds of the arena, and sloped down towards the center to catch the wind and provide a breeze for the audience. Sailors, specially enlisted from the Roman naval headquarters at Misenum and housed in the nearby Castra Misenatium, were used to work the velarium.\n",
      "\n",
      "The Colosseum's huge crowd capacity made it essential that the venue could be filled or evacuated quickly. Its architects adopted solutions very similar to those used in modern stadia to deal with the same problem. The amphitheatre was ringed by eighty entrances at ground level, 76 of which were used by ordinary spectators. Each entrance and exit was numbered, as was each staircase. The northern main entrance was reserved for the Roman Emperor and his aides, whilst the other three axial entrances were most likely used by the elite. All four axial entrances were richly decorated with painted stucco reliefs, of which fragments survive. Many of the original outer entrances have disappeared with the collapse of the perimeter wall, but entrances XXIII (23) to LIIII (54) survive.Spectators were given tickets in the form of numbered pottery shards, which directed them to the appropriate section and row. They accessed their seats via vomitoria (singular vomitorium), passageways that opened into a tier of seats from below or behind. These quickly dispersed people into their seats and, upon conclusion of the event or in an emergency evacuation, could permit their exit within only a few minutes. The name vomitoria derived from the Latin word for a rapid discharge, from which English derives the word vomit.\n",
      "\n",
      "\n",
      "=== Interior seating ===\n",
      "\n",
      "According to the Codex-Calendar of 354, the Colosseum could accommodate 87,000 people, although modern estimates put the figure at around 50,000. They were seated in a tiered arrangement that reflected the rigidly stratified nature of Roman society. Special boxes were provided at the north and south ends respectively for the Emperor and the Vestal Virgins, providing the best views of the arena. Flanking them at the same level was a broad platform or podium for the senatorial class, who were allowed to bring their own chairs. The names of some 5th century senators can still be seen carved into the stonework, presumably reserving areas for their use.\n",
      "\n",
      "The tier above the senators, known as the maenianum primum, was occupied by the non-senatorial noble class or knights (equites). The next level up, the maenianum secundum, was originally reserved for ordinary Roman citizens (plebeians) and was divided into two sections. The lower part (the immum) was for wealthy citizens, while the upper part (the summum) was for poor citizens. Specific sectors were provided for other social groups: for instance, boys with their tutors, soldiers on leave, foreign dignitaries, scribes, heralds, priests and so on. Stone (and later marble) seating was provided for the citizens and nobles, who presumably would have brought their own cushions with them. Inscriptions identified the areas reserved for specific groups.\n",
      "Another level, the maenianum secundum in legneis, was added at the very top of the building during the reign of Domitian. This comprised a gallery for the common poor, slaves and women. It would have been either standing room only, or would have had very steep wooden benches. Some groups were banned altogether from the Colosseum, notably gravediggers, actors and former gladiators.Each tier was divided into sections (maeniana) by curved passages and low walls (praecinctiones or baltei), and were subdivided into cunei, or wedges, by the steps and aisles from the vomitoria. Each row (gradus) of seats was numbered, permitting each individual seat to be exactly designated by its gradus, cuneus, and number.\n",
      "\n",
      "\n",
      "=== Arena and hypogeum ===\n",
      "\n",
      "The arena itself was 83 meters by 48 meters (272 ft by 157 ft / 280 by 163 Roman feet). It comprised a wooden floor covered by sand (the Latin word for sand is harena or arena), covering an elaborate underground structure called the hypogeum (literally meaning \"underground\"). The hypogeum was not part of the original construction but was ordered to be built by Emperor Domitian. Little now remains of the original arena floor, but the hypogeum is still clearly visible. It consisted of a two-level subterranean network of tunnels and cages beneath the arena where gladiators and animals were held before contests began. Eighty vertical shafts provided instant access to the arena for caged animals and scenery pieces concealed underneath; larger hinged platforms, called hegmata, provided access for elephants and the like. It was restructured on numerous occasions; at least twelve different phases of construction can be seen.\n",
      "\n",
      "The hypogeum was connected by tunnels to a number of points outside the Colosseum. Animals and performers were brought through the tunnel from nearby stables, with the gladiators' barracks at the Ludus Magnus to the east also being connected by tunnels. Separate tunnels were provided for the Emperor and the Vestal Virgins to permit them to enter and exit the Colosseum without needing to pass through the crowds.Substantial quantities of machinery also existed in the hypogeum. Elevators and pulleys raised and lowered scenery and props, as well as lifting caged animals to the surface for release. There is evidence for the existence of major hydraulic mechanisms and according to ancient accounts, it was possible to flood the arena rapidly, presumably via a connection to a nearby aqueduct. However, the construction of the hypogeum at Domitian's behest put an end to the practise of flooding, and thus also to naval battles, early in the Colosseum's existence.\n",
      "\n",
      "\n",
      "=== Supporting buildings ===\n",
      "The Colosseum and its activities supported a substantial industry in the area. In addition to the amphitheatre itself, many other buildings nearby were linked to the games. Immediately to the east is the remains of the Ludus Magnus, a training school for gladiators. This was connected to the Colosseum by an underground passage, to allow easy access for the gladiators. The Ludus Magnus had its own miniature training arena, which was itself a popular attraction for Roman spectators. Other training schools were in the same area, including the Ludus Matutinus (Morning School), where fighters of animals were trained, plus the Dacian and Gallic Schools.\n",
      "Also nearby were the Armamentarium, comprising an armory to store weapons; the Summum Choragium, where machinery was stored; the Sanitarium, which had facilities to treat wounded gladiators; and the Spoliarium, where bodies of dead gladiators were stripped of their armor and disposed of.\n",
      "Around the perimeter of the Colosseum, at a distance of 18 m (59 ft) from the perimeter, was a series of tall stone posts, with five remaining on the eastern side. Various explanations have been advanced for their presence; they may have been a religious boundary, or an outer boundary for ticket checks, or an anchor for the velarium or awning.\n",
      "\n",
      "\n",
      "== Use ==\n",
      "\n",
      "The Colosseum was used to host gladiatorial shows as well as a variety of other events. The shows, called munera, were always given by private individuals rather than the state. They had a strong religious element but were also demonstrations of power and family prestige, and were immensely popular with the population. Another popular type of show was the animal hunt, or venatio. This utilized a great variety of wild beasts, mainly imported from Africa and the Middle East, and included creatures such as rhinoceros, hippopotamuses, elephants, giraffes, aurochs, wisents, Barbary lions, panthers, leopards, bears, Caspian tigers, crocodiles and ostriches. Battles and hunts were often staged amid elaborate sets with movable trees and buildings. Such events were occasionally on a huge scale; Trajan is said to have celebrated his victories in Dacia in 107 with contests involving 11,000 animals and 10,000 gladiators over the course of 123 days. During lunch intervals, executions ad bestias would be staged. Those condemned to death would be sent into the arena, naked and unarmed, to face the beasts of death which would literally tear them to pieces.  Other performances would also take place by acrobats and magicians, typically during the intervals.\n",
      "During the early days of the Colosseum, ancient writers recorded that the building was used for naumachiae (more properly known as navalia proelia) or simulated sea battles. Accounts of the inaugural games held by Titus in AD 80 describe it being filled with water for a display of specially trained swimming horses and bulls. There is also an account of a re-enactment of a famous sea battle between the Corcyrean (Corfiot) Greeks and the Corinthians. This has been the subject of some debate among historians; although providing the water would not have been a problem, it is unclear how the arena could have been waterproofed, nor would there have been enough space in the arena for the warships to move around. It has been suggested that the reports either have the location wrong or that the Colosseum originally featured a wide floodable channel down its central axis (which would later have been replaced by the hypogeum).Sylvae or recreations of natural scenes were also held in the arena. Painters, technicians and architects would construct a simulation of a forest with real trees and bushes planted in the arena's floor, and animals would then be introduced. Such scenes might be used simply to display a natural environment for the urban population, or could otherwise be used as the backdrop for hunts or dramas depicting episodes from mythology. They were also occasionally used for executions in which the hero of the story – played by a condemned person – was killed in one of various gruesome but mythologically authentic ways, such as being mauled by beasts or burned to death.\n",
      "\n",
      "\n",
      "=== Modern use ===\n",
      "\n",
      "The Colosseum today is a major tourist attraction in Rome with thousands of tourists each year entering to view the interior arena. There is now a museum dedicated to Eros in the upper floor of the outer wall of the building. Part of the arena floor has been re-floored. Beneath the Colosseum, a network of subterranean passageways once used to transport wild animals and gladiators to the arena opened to the public in summer 2010.The Colosseum is also the site of Roman Catholic ceremonies in the 20th and 21st centuries. For instance, Pope Benedict XVI led the Stations of the Cross called the Scriptural Way of the Cross (which calls for more meditation) at the Colosseum on Good Fridays.\n",
      "\n",
      "\n",
      "==== Restoration ====\n",
      "\n",
      "In 2011 Diego Della Valle, head of the shoe firm Tod's, entered into an agreement with local officials to sponsor a €25 million restoration of the Colosseum. Work was planned to begin at the end of 2011, taking up to two and a half years. Due to the controversial nature of using a public–private partnership to fund the restoration, work was delayed and began in 2013. The restoration is the first full cleaning and repair in the Colosseum's history. The first stage is to clean and restore the Colosseum's arcaded façade and replace the metal enclosures that block the ground-level arches. After three years, the work was completed on 1 July 2016, when the Italian minister of culture, Dario Franceschini, also announced that the funds have been committed to replace the floors by the end of 2018. These will provide a stage that Franceschini says will be used for \"cultural events of the highest level.\" The project also includes creating a services center and restoring the galleries and underground spaces inside the Colosseum. Since 1 November 2017, the top two levels have been opened for guided visits. The fourth level held the marketplace, and the top fifth tier is where the poorest citizens, the plebeians, gathered and watched the show, bringing picnics for the day-long event.\n",
      "\n",
      "\n",
      "== Significance in Christianity ==\n",
      "\n",
      "The Colosseum is generally regarded by Christians as a site of the martyrdom of large numbers of believers during the persecution of Christians in the Roman Empire, as evidenced by Church history and tradition. On the other hand, other scholars believe that the majority of martyrdoms may have occurred at other venues within the city of Rome, rather than at the Colosseum, citing a lack of still-intact physical evidence or historical records. These scholars assert that \"some Christians were executed as common criminals in the Colosseum—their crime being refusal to reverence the Roman gods\", but most Christian martyrs of the early Church were executed for their faith at the Circus Maximus. According to Irenaeus (died about 202), Ignatius of Antioch was fed to the lions in Rome around 107 A.D and although Irenaeus says nothing about this happening at the Colosseum, tradition ascribes it to that place.In the Middle Ages, the Colosseum was not regarded as a monument, and was used as what some modern sources label a \"quarry,\" which is to say that stones from the Colosseum were taken for the building of other sacred sites. This fact is used to support the idea that, at a time when sites associated with martyrs were highly venerated the Colosseum was not being treated as a sacred site. It was not included in the itineraries compiled for the use of pilgrims nor in works such as the 12th century Mirabilia Urbis Romae (\"Marvels of the City of Rome\"), which claims the Circus Flaminius – but not the Colosseum – as the site of martyrdoms. Part of the structure was inhabited by a Christian religious order, but it is not known whether this was for any particular religious reason.\n",
      "Pope Pius V (1566–1572) is said to have recommended that pilgrims gather sand from the arena of the Colosseum to serve as a relic, on the grounds that it was impregnated with the blood of martyrs, although some of his contemporaries did not share his conviction. A century later Fioravante Martinelli listed the Colosseum at the head of a list of places sacred to the martyrs in his 1653 book Roma ex ethnica sacra. Martinelli's book evidently had an effect on public opinion; in response to Cardinal Altieri's proposal some years later to turn the Colosseum into a bullring, Carlo Tomassi published a pamphlet in protest against what he regarded as an act of desecration. The ensuing controversy persuaded Pope Clement X to close the Colosseum's external arcades and declare it a sanctuary.\n",
      "\n",
      "At the insistence of St. Leonard of Port Maurice, Pope Benedict XIV (1740–1758) forbade the quarrying of the Colosseum and erected Stations of the Cross around the arena, which remained until February 1874. Benedict Joseph Labre spent the later years of his life within the walls of the Colosseum, living on alms, before he died in 1783. Several 19th century popes funded repair and restoration work on the Colosseum, and it still retains its Christian connection today. A Christian cross stands in the Colosseum, with a plaque, stating:\n",
      "\n",
      "The amphitheater, one consecrated to triumphs, entertainments, and the impious worship of pagan gods, is now dedicated to the sufferings of the martyrs purified from impious superstitions.\n",
      "Other Christian crosses stand in several points around the arena and every Good Friday the Pope leads a Via Crucis procession to the amphitheater.\n",
      "\n",
      "\n",
      "== Flora ==\n",
      "\n",
      "The Colosseum has a wide and well-documented history of flora ever since Domenico Panaroli made the first catalogue of its plants in 1643. Since then, 684 species have been identified there. The peak was in 1855 (420 species). Attempts were made in 1871 to eradicate the vegetation, because of concerns over the damage that was being caused to the masonry, but much of it has returned. 242 species have been counted today and of the species first identified by Panaroli, 200 remain.\n",
      "The variation of plants can be explained by the change of climate in Rome through the centuries. Additionally, bird migration, flower blooming, and the growth of Rome that caused the Colosseum to become embedded within the modern city centre rather than on the outskirts of the ancient city, as well as deliberate transport of species, are also contributing causes. Another reason often given is their seeds being unwittingly transported either on the fur or in the feces of animals brought there from all corners of the empire.\n",
      "\n",
      "\n",
      "== In popular culture ==\n",
      "The Colosseum has appeared in numerous films, artworks and games. It is featured in movies such as Roman Holiday, Gladiator, The Way of the Dragon, The Core and Jumper and games like Assassin's Creed: Brotherhood, Ryse: Son of Rome and Forge of Empires.\n",
      "Several architectural works have also been modelled on or inspired by, the Colosseum. These include:\n",
      "\n",
      "The Kongresshalle, or \"Congress Hall\", (1935, unfinished) at the Nazi Party Rally grounds, Nuremberg, Germany\n",
      "The Summer Olympic Games medal from 1928 to 2000, designed by Giuseppe Cassioli, features a depiction of the Colosseum. At the 2004 Summer Olympics in Athens the Colosseum was replaced by a depiction of the Panathinaiko Stadium\n",
      "The exterior of the Vancouver Public Library in British Columbia resembles the current state of the Colosseum. It was designed by Moshe Safdie.\n",
      "The Los Angeles Memorial Coliseum entrance was inspired by the Colosseum.\n",
      "The Palazzo della Civilta Italiana was very closely modelled on the Colosseum. It was built for Mussolini for the Universal Exhibition of 1942 but the exhibition never happened due to the outbreak of World War II. The architects were Giovanni Guerrini, Ernesto Bruno La Padula, and Mario Romano.\n",
      "McCaig's Tower, overlooking Oban, Scotland.\n",
      "\n",
      "\n",
      "== Gallery ==\n",
      "\n",
      "\t\t\n",
      "\t\t\n",
      "\t\t\n",
      "\t\t\n",
      "\t\t\n",
      "\t\t\n",
      "\n",
      "\n",
      "== See also ==\n",
      "Stadium of Domitian – Ancient Roman stadium, a landmark of Rome, Italy\n",
      "List of Roman amphitheatres\n",
      "List of tallest structures built before the 20th century\n",
      "Roman amphitheatre – Ancient Roman open-air venues\n",
      "\n",
      "\n",
      "== References ==\n",
      "\n",
      "\n",
      "=== Notes ===\n",
      "\n",
      "\n",
      "=== Bibliography ===\n",
      "\n",
      "\n",
      "== External links ==\n",
      "Official website \n",
      "Virtual tour of the Colosseum\n",
      "A 3D model of Colosseum on Sketchfab\n",
      "\"Colosseum\" . The New Student's Reference Work . 1914.\n",
      " Colosseum travel guide from Wikivoyage\n",
      "3D model of the past and present of the colosseum – The Only Progress is Human Media related to Colosseum at Wikimedia Commons\n"
     ]
    }
   ],
   "source": [
    "get_content_wikipedia(buildings_list[0])"
   ]
  },
  {
   "cell_type": "markdown",
   "id": "8c708dfd",
   "metadata": {},
   "source": [
    "#### References"
   ]
  },
  {
   "cell_type": "code",
   "execution_count": 26,
   "id": "7661899d",
   "metadata": {},
   "outputs": [
    {
     "name": "stdout",
     "output_type": "stream",
     "text": [
      "['http://ionarts.blogspot.com/2005/02/colosseum-was-skydome.html', 'http://edition.cnn.com/SPECIALS/views/y/2000/02/young.italydeath.feb24/', 'http://events.frommers.com/sisp/index.htm?fx=event&event_id=11442', 'http://www.hindustantimes.com/StoryPage/StoryPage.aspx?id=c7e6494a-0e6c-46b4-9982-60b6b4bf20c1&ParentID=f702d4d5-e16e-4a07-bd0a-5bebf5c9b825&MatchID1=4488&TeamID1=8&TeamID2=10&MatchType1=1&SeriesID1=1120&PrimaryID=4488&Headline=The+new+Seven+Wonders+of+the+World', 'http://www.italymagazine.com/news/colosseum-open-top-levels-public', 'http://artsbeat.blogs.nytimes.com/2012/07/31/colosseum-wont-be-restored-in-a-day-but-work-is-finally-scheduled-to-start/', 'http://db.edcs.eu/epigr/epi_einzel_en.php?p_belegstelle=CIL+06,+01716&r_sortierung=Belegstelle', 'http://www.theatre-architecture.eu/db/?theatreId=361', 'http://uli.nli.org.il/F/?func=find-b&local_base=NLX10&find_code=UID&request=987007287923905171', 'http://the-colosseum.net/history/medium.htm', 'http://www.the-colosseum.net/architecture/lacus_en.htm', 'http://www.the-colosseum.net/history/h1.htm', 'http://www.the-colosseum.net/history/quarry.htm', 'http://www.the-colosseum.net/idx-en.htm', 'http://www.deathpenaltyinfo.org/international-roman-colosseum-lit-mark-connecticuts-abolition-death-penalty', 'http://www.newadvent.org/cathen/04101b.htm', 'http://geohack.toolforge.org/geohack.php?pagename=Colosseum&params=41_53_25_N_12_29_32_E_type:landmark', 'http://www.tribunesandtriumphs.org/colosseum/building-the-colosseum.htm', 'http://www.tribunesandtriumphs.org/colosseum/colosseum-christian-martyrs.htm', 'http://news.bbc.co.uk/1/hi/entertainment/music/1983176.stm', 'http://news.bbc.co.uk/1/hi/entertainment/music/3019241.stm', 'http://news.bbc.co.uk/1/hi/entertainment/music/4213352.stm', 'http://www.pcf.va/holy_father/john_paul_ii/speeches/documents/hf_jp-ii_spe_20000421_via-crucis_en.html', 'https://www.3ds.com/progress-is-human/heritage-and-future/colosseum', 'https://books.google.com/books?id=HPjqJWakX7IC&pg=PA227', 'https://books.google.com/books?id=K_qjo30tjHAC&pg=PA7', 'https://books.google.com/books?id=USiAdRTlS6MC&dq=beda+%2B+colosseo&pg=PA67', 'https://books.google.com/books?id=gxEONS0FFlsC&pg=PA359', 'https://www.oed.com/view/Entry/36587', 'https://sketchfab.com/models/544c64b6445e4899a17350c949b7766a', 'https://skift.com/2016/07/03/italy-completes-a-long-overdue-restoration-of-romes-iconic-colosseum/', 'https://www.theatlantic.com/science/archive/2017/12/romes-colosseum-garden/547535/', 'https://www.wsj.com/news/articles/SB10001424052702304518704579521583112244014', 'https://aleph.nkp.cz/F/?func=find-c&local_base=aut&ccl_term=ica=mzk2004237516&CON_LNG=ENG', 'https://penelope.uchicago.edu/Thayer/E/Gazetteer/Places/Europe/Italy/Lazio/Roma/Rome/_Texts/PLATOP*/Amphitheatrum_Flavium.html', 'https://id.loc.gov/authorities/subjects/sh87004621', 'https://d-nb.info/gnd/4258895-9', 'https://parcocolosseo.it/', 'https://structurae.net/structures/20001048', 'https://www.wonders-of-the-world.net/Colosseum/History-of-the-Colosseum.php', 'https://archive.org/details/colosseum00hopk', 'https://archive.org/details/romeoxfordarchae00aman/page/276', 'https://archive.org/details/understandingarc00roth', 'https://web.archive.org/web/20070930043832/http://www.hindustantimes.com/StoryPage/StoryPage.aspx?id=c7e6494a-0e6c-46b4-9982-60b6b4bf20c1&ParentID=f702d4d5-e16e-4a07-bd0a-5bebf5c9b825&MatchID1=4488&TeamID1=8&TeamID2=10&MatchType1=1&SeriesID1=1120&PrimaryID=4488&Headline=The+new+Seven+Wonders+of+the+World', 'https://web.archive.org/web/20090107161525/http://events.frommers.com/sisp/index.htm?fx=event&event_id=11442', 'https://web.archive.org/web/20120416051239/http://rome.arounder.com/it/monumenti/colosseo/colosseum-by-night.html', 'https://web.archive.org/web/20130603105242/http://www.pcf.va/holy_father/john_paul_ii/speeches/documents/hf_jp-ii_spe_20000421_via-crucis_en.html', 'https://web.archive.org/web/20180618193426/https://www.csicop.org/si/show/myths_and_secrets_of_the_colosseum', 'https://www.csicop.org/si/show/myths_and_secrets_of_the_colosseum', 'https://ghostarchive.org/archive/20220111/https://www.telegraph.co.uk/news/worldnews/europe/italy/7849829/Colosseum-to-open-gladiator-passageways-for-first-time.html', 'https://musicbrainz.org/place/124e7d58-1a8f-4f22-8db0-57add502c756', 'https://pleiades.stoa.org/places/285857974', 'https://viaf.org/viaf/134678625', 'https://viaf.org/viaf/295358893', 'https://viaf.org/viaf/400154387233230970007', 'https://www.wikidata.org/wiki/Q10285#P856', 'https://www.wikidata.org/wiki/Q10285#identifiers', \"https://en.wikisource.org/wiki/The_New_Student's_Reference_Work/Colosseum\", \"https://en.wikisource.org/wiki/The_New_Student's_Reference_Work\", 'https://www.worldcat.org/identities/viaf-134678625/', 'https://www.worldcat.org/identities/viaf-167878600/', 'https://www.worldcat.org/identities/viaf-295358893/', 'https://www.worldcat.org/oclc/2078742', 'https://www.bbc.co.uk/history/ancient/romans/colosseum_01.shtml', 'https://www.bbc.co.uk/history/ancient/romans/colosseum_02.shtml', 'https://www.bbc.co.uk/news/world-europe-12256813', 'https://www.telegraph.co.uk/news/worldnews/europe/italy/7849829/Colosseum-to-open-gladiator-passageways-for-first-time.html']\n"
     ]
    }
   ],
   "source": [
    "get_references(buildings_list[0])"
   ]
  },
  {
   "cell_type": "markdown",
   "id": "a4103b96",
   "metadata": {},
   "source": [
    "####  <span style=\"color:green\">??? How would you characterize the data that we get from Wikipedia </span>"
   ]
  },
  {
   "cell_type": "raw",
   "id": "3cd85230",
   "metadata": {},
   "source": [
    "Answer here ..."
   ]
  },
  {
   "cell_type": "markdown",
   "id": "050b5a00",
   "metadata": {},
   "source": [
    "## Querying Wikidata "
   ]
  },
  {
   "cell_type": "markdown",
   "id": "364d0aa2",
   "metadata": {},
   "source": [
    "[let's explore Wikidata](https://www.wikidata.org/w/index.php?go=Go&search=Colosseum&search=Colosseum&title=Special%3ASearch&ns0=1&ns120=1)\n"
   ]
  },
  {
   "cell_type": "code",
   "execution_count": null,
   "id": "a29c7881",
   "metadata": {},
   "outputs": [],
   "source": [
    "def query_wikidata(sparql_query, sparql_service_url):\n",
    "    \"\"\"\n",
    "    \n",
    "    Query the endpoint with the given query string and return the results as a pandas Dataframe.\n",
    "    \n",
    "    \"\"\"\n",
    "    # create the connection to the endpoint\n",
    "\n",
    "    sparql = SPARQLWrapper(sparql_service_url)  \n",
    "    \n",
    "    sparql.setQuery(sparql_query)\n",
    "    sparql.setReturnFormat(JSON)\n",
    "\n",
    "    # ask for the result\n",
    "    result = sparql.query().convert()\n",
    "    result = pd.json_normalize(result[\"results\"][\"bindings\"])\n",
    "    result = result.loc[:, result.columns.str.contains('value')]\n",
    "    result.columns = result.columns.str.replace('.value', '')\n",
    "    return result"
   ]
  },
  {
   "cell_type": "markdown",
   "id": "3fcd1342",
   "metadata": {},
   "source": [
    "### Let's first look at the properties that we are going to retrieve from Wikidata"
   ]
  },
  {
   "cell_type": "code",
   "execution_count": null,
   "id": "f185ef8d",
   "metadata": {},
   "outputs": [],
   "source": [
    "wikidata_service_url = \"https://query.wikidata.org/sparql\"\n",
    "\n",
    "properties_query = \"\"\"\n",
    "PREFIX wikibase: <http://wikiba.se/ontology#>\n",
    "PREFIX wd: <http://www.wikidata.org/entity/>\n",
    "PREFIX wdt: <http://www.wikidata.org/prop/direct/>\n",
    "\n",
    "SELECT ?property ?propLabel ?propDescription WHERE {\n",
    "  VALUES ?property { wdt:P31 wdt:P361 wdt:P571 wdt:P112 wdt:P131 wdt:P625 wdt:P18 wdt:P186 wdt:P149 wdt:P366 wdt:P84 }\n",
    "  ?prop wikibase:directClaim ?property .\n",
    "  ?prop schema:description ?propDescription .\n",
    "  FILTER (lang(?propDescription) = \"en\")\n",
    "  SERVICE wikibase:label { bd:serviceParam wikibase:language \"en\". }\n",
    "}\n",
    "\"\"\"\n",
    "query_wikidata(properties_query, wikidata_service_url)"
   ]
  },
  {
   "cell_type": "markdown",
   "id": "260ac578",
   "metadata": {},
   "source": [
    "### Working with Wikidata identifiers\n",
    "Each building from the list has a unique Wikidata identifier. You will find a corresponding identifier in the next cell. "
   ]
  },
  {
   "cell_type": "raw",
   "id": "147634f0",
   "metadata": {},
   "source": [
    "Colosseum: wd:Q10285\n",
    "Tempietto: wd:Q12960184\n",
    "Santa Casa of Loreto: wd:Q3674052\n",
    "Villa Emo: wd:Q1258865\n",
    "Versailles: wd:Q2946\n",
    "Panthéon: wd:Q188856\n",
    "Altes Museum: wd:Q156722\n"
   ]
  },
  {
   "cell_type": "markdown",
   "id": "82dc6e82",
   "metadata": {},
   "source": [
    "####  <span style=\"color:DarkRed\">!!! Action needed: Change the identifier within the qoutes in the \"my_building\" variable </span>\n",
    "\n"
   ]
  },
  {
   "cell_type": "code",
   "execution_count": null,
   "id": "bb6f29f5",
   "metadata": {},
   "outputs": [],
   "source": [
    "my_building = \"wd:Q10285\" # please change this value to the wiki id of your building of interest\n",
    "wikidata_service_url = \"https://query.wikidata.org/sparql\"\n",
    "building_query = \"\"\"\n",
    "    PREFIX wd: <http://www.wikidata.org/entity/>\n",
    "PREFIX wdt: <http://www.wikidata.org/prop/direct/>\n",
    "PREFIX schema: <http://schema.org/>\n",
    "SELECT ?subjectLabel ?description ?predicateLabel ?propertyLabel ?objectLabel  WHERE {{\n",
    "  ?subject wdt:P31/wdt:P279* wd:Q41176 .\n",
    "  ?subject ?predicate ?object .\n",
    "  ?subject schema:description ?description .\n",
    "  FILTER(LANG(?description) = \"en\")\n",
    "  FILTER (?subject = {})\n",
    "  FILTER (?predicate IN (wdt:P31, wdt:P361, wdt:P571, wdt:P112, wdt:P131, wdt:P625, wdt:P18, wdt:P186, wdt:P149, wdt:P366, wdt:P84))\n",
    "  SERVICE wikibase:label {{ bd:serviceParam wikibase:language \"en\". }}\n",
    "  ?property wikibase:directClaim ?predicate .\n",
    "}}  \n",
    "\"\"\".format(my_building)\n",
    "wikidata_table = query_wikidata(building_query, wikidata_service_url)\n",
    "wikidata_table"
   ]
  },
  {
   "cell_type": "markdown",
   "id": "e023fc74",
   "metadata": {},
   "source": [
    "#### <span style=\"color:green\"> ??? How does the data differ from Wikipedia results? </span>\n",
    "#### <span style=\"color:green\"> ??? What about the level of complexity of data? </span>\n",
    "#### <span style=\"color:green\"> ??? How does granularity of data relate to the complexity of data? </span>\n",
    "\n",
    "\n"
   ]
  },
  {
   "cell_type": "raw",
   "id": "ba2fc9ed",
   "metadata": {},
   "source": [
    "Answer here ... "
   ]
  },
  {
   "cell_type": "markdown",
   "id": "56fb865a",
   "metadata": {
    "heading_collapsed": true
   },
   "source": [
    "## Create a database entry (Group Work)\n",
    "Based on the information we have retrieved from Wikipedia and Wikidata, create a mock up database entry by filling in the fields variables"
   ]
  },
  {
   "cell_type": "markdown",
   "id": "9dd5f8ce",
   "metadata": {
    "hidden": true
   },
   "source": [
    "####  <span style=\"color:DarkRed\">!!! Action needed: Change the variables of labels and fields to fit your content</span>"
   ]
  },
  {
   "cell_type": "code",
   "execution_count": 27,
   "id": "6f16882e",
   "metadata": {
    "hidden": true
   },
   "outputs": [
    {
     "data": {
      "text/html": [
       "<style>\n",
       "\n",
       ".database-entry {\n",
       "  display: flex;\n",
       "  flex-direction: row;\n",
       "  align-items: center;\n",
       "  margin-bottom: 20px;\n",
       "}\n",
       ".entry-title {\n",
       "font-size:40px;\n",
       "padding-bottom: 40px;\n",
       "}\n",
       ".image-container {\n",
       "  margin-right: 20px;\n",
       "  max-width: 300px;\n",
       "}\n",
       ".fields-container {\n",
       "  display: flex;\n",
       "  flex-direction: column;\n",
       "}\n",
       "\n",
       ".field {\n",
       "  display: flex;\n",
       "  flex-direction: row;\n",
       "  align-items: center;\n",
       "  margin-bottom: 10px;\n",
       "}\n",
       "\n",
       ".field label {\n",
       "  margin-right: 10px;\n",
       "  font-weight: bold;\n",
       "}\n",
       "</style>"
      ],
      "text/plain": [
       "<IPython.core.display.HTML object>"
      ]
     },
     "metadata": {},
     "output_type": "display_data"
    },
    {
     "data": {
      "text/html": [
       "\n",
       "<div class=\"database-entry\">\n",
       "  <!-- Image goes here -->\n",
       "  <div class=\"image-container\">\n",
       "    <img src=\"http://commons.wikimedia.org/wiki/Special:FilePath/Lustgarten%201.JPG\" alt=\"Image\">\n",
       "  </div>\n",
       "  <!-- Fields go here -->\n",
       "  <div class=\"fields-container\">\n",
       "    <div class=\"entry-title\">\n",
       "      <span>Title</span>\n",
       "    </div>\n",
       "    <!-- Field 1 -->\n",
       "    <div class=\"field\">\n",
       "      <label>Label Value 1</label>\n",
       "      <span>Value 1</span>\n",
       "    </div>\n",
       "    <!-- Field 2 -->\n",
       "    <div class=\"field\">\n",
       "      <label>Label Value 2</label>\n",
       "      <span>Value 2</span>\n",
       "    </div>\n",
       "    <!-- Field 3 -->\n",
       "    <div class=\"field\">\n",
       "      <label>Label Value 3</label>\n",
       "      <span>Value 3</span>\n",
       "      </div>\n",
       "        <!-- Field 4 -->\n",
       "    <div class=\"field\">\n",
       "      <label>Label Value 4</label>\n",
       "      <span>Value 4</span>\n",
       "    </div>\n",
       "    <!-- Field 5 -->\n",
       "    <div class=\"field\">\n",
       "      <label>Label Value 5</label>\n",
       "      <span>Value 5</span>\n",
       "    </div>\n",
       "    <!-- Field 6 -->\n",
       "    <div class=\"field\">\n",
       "      <label>Label Value 6</label>\n",
       "      <span>Value 6</span>\n",
       "    </div>\n",
       "  </div>\n",
       "</div>\n"
      ],
      "text/plain": [
       "<IPython.core.display.HTML object>"
      ]
     },
     "metadata": {},
     "output_type": "display_data"
    }
   ],
   "source": [
    "# Define variables for each field\n",
    "label_field_one = \"Label Value 1\" #replace the content\n",
    "label_field_two = \"Label Value 2\" #replace the content\n",
    "label_field_three = \"Label Value 3\" #replace the content\n",
    "label_field_four = \"Label Value 4\" #replace the content\n",
    "label_field_five = \"Label Value 5\" #replace the content\n",
    "label_field_six = \"Label Value 6\" #replace the content\n",
    "field_one = \"Value 1\" #replace the content\n",
    "field_two = \"Value 2\" #replace the content\n",
    "field_three = \"Value 3\" #replace the content\n",
    "field_four = \"Value 4\" #replace the content\n",
    "field_five = \"Value 5\" #replace the content\n",
    "field_six = \"Value 6\" #replace the content\n",
    "entry_title = \"Title\" #replace the content\n",
    "image_url = \"http://commons.wikimedia.org/wiki/Special:FilePath/Lustgarten%201.JPG\" #replace the content\n",
    "\n",
    "# Define the HTML template for the entry\n",
    "template = \"\"\"\n",
    "<div class=\"database-entry\">\n",
    "  <!-- Image goes here -->\n",
    "  <div class=\"image-container\">\n",
    "    <img src=\"{image_url}\" alt=\"Image\">\n",
    "  </div>\n",
    "  <!-- Fields go here -->\n",
    "  <div class=\"fields-container\">\n",
    "    <div class=\"entry-title\">\n",
    "      <span>{entry_title}</span>\n",
    "    </div>\n",
    "    <!-- Field 1 -->\n",
    "    <div class=\"field\">\n",
    "      <label>{label_field_one}</label>\n",
    "      <span>{field_one}</span>\n",
    "    </div>\n",
    "    <!-- Field 2 -->\n",
    "    <div class=\"field\">\n",
    "      <label>{label_field_two}</label>\n",
    "      <span>{field_two}</span>\n",
    "    </div>\n",
    "    <!-- Field 3 -->\n",
    "    <div class=\"field\">\n",
    "      <label>{label_field_three}</label>\n",
    "      <span>{field_three}</span>\n",
    "      </div>\n",
    "        <!-- Field 4 -->\n",
    "    <div class=\"field\">\n",
    "      <label>{label_field_four}</label>\n",
    "      <span>{field_four}</span>\n",
    "    </div>\n",
    "    <!-- Field 5 -->\n",
    "    <div class=\"field\">\n",
    "      <label>{label_field_five}</label>\n",
    "      <span>{field_five}</span>\n",
    "    </div>\n",
    "    <!-- Field 6 -->\n",
    "    <div class=\"field\">\n",
    "      <label>{label_field_six}</label>\n",
    "      <span>{field_six}</span>\n",
    "    </div>\n",
    "  </div>\n",
    "</div>\n",
    "\"\"\"\n",
    "\n",
    "# Define the CSS code for the template\n",
    "css = \"\"\"\n",
    "\n",
    ".database-entry {\n",
    "  display: flex;\n",
    "  flex-direction: row;\n",
    "  align-items: center;\n",
    "  margin-bottom: 20px;\n",
    "}\n",
    ".entry-title {\n",
    "font-size:40px;\n",
    "padding-bottom: 40px;\n",
    "}\n",
    ".image-container {\n",
    "  margin-right: 20px;\n",
    "  max-width: 300px;\n",
    "}\n",
    ".fields-container {\n",
    "  display: flex;\n",
    "  flex-direction: column;\n",
    "}\n",
    "\n",
    ".field {\n",
    "  display: flex;\n",
    "  flex-direction: row;\n",
    "  align-items: center;\n",
    "  margin-bottom: 10px;\n",
    "}\n",
    "\n",
    ".field label {\n",
    "  margin-right: 10px;\n",
    "  font-weight: bold;\n",
    "}\n",
    "\"\"\"\n",
    "\n",
    "# Format the template with the variables\n",
    "entry_html = template.format(label_field_one=label_field_one, label_field_two=label_field_two, label_field_three = label_field_three, label_field_four=label_field_four, label_field_five=label_field_five, label_field_six=label_field_six, field_one=field_one, field_two=field_two, field_three=field_three, field_four=field_four, field_five=field_five, field_six=field_six, image_url=image_url, entry_title = entry_title)\n",
    "\n",
    "# Display the entry HTML and CSS\n",
    "from IPython.core.display import HTML\n",
    "display(HTML(f\"<style>{css}</style>\"))\n",
    "display(HTML(entry_html))\n"
   ]
  },
  {
   "cell_type": "markdown",
   "id": "7962c549",
   "metadata": {
    "hidden": true
   },
   "source": [
    "####  <span style=\"color:green\">??? How have you decided to structure your data entry? </span>\n",
    "####  <span style=\"color:green\">??? Which information you used and why? </span>\n",
    "####  <span style=\"color:green\">??? Have you decided to use plain text of wikipedia or more structured results from Wikidata? Why? </span>\n",
    "####  <span style=\"color:green\">??? Have you summarized and analysed any information yourself? </span>"
   ]
  },
  {
   "cell_type": "raw",
   "id": "c10626c1",
   "metadata": {
    "hidden": true
   },
   "source": [
    "Answer here ..."
   ]
  },
  {
   "cell_type": "markdown",
   "id": "731549bc",
   "metadata": {
    "heading_collapsed": true
   },
   "source": [
    "## <span style=\"background-image: linear-gradient(to left, violet, indigo, green, blue, orange, red); color:white;\">  Congratulations! You have become a data creator! </span>"
   ]
  },
  {
   "cell_type": "code",
   "execution_count": null,
   "id": "f4d1aa71",
   "metadata": {
    "hidden": true
   },
   "outputs": [],
   "source": []
  }
 ],
 "metadata": {
  "kernelspec": {
   "display_name": "Python 3",
   "language": "python",
   "name": "python3"
  },
  "language_info": {
   "codemirror_mode": {
    "name": "ipython",
    "version": 3
   },
   "file_extension": ".py",
   "mimetype": "text/x-python",
   "name": "python",
   "nbconvert_exporter": "python",
   "pygments_lexer": "ipython3",
   "version": "3.8.8"
  }
 },
 "nbformat": 4,
 "nbformat_minor": 5
}
