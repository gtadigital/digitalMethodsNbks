{
 "cells": [
  {
   "cell_type": "markdown",
   "id": "4d0e69f2",
   "metadata": {},
   "source": [
    "# Data and Databases"
   ]
  },
  {
   "cell_type": "code",
   "execution_count": 71,
   "id": "c0b5018c",
   "metadata": {},
   "outputs": [],
   "source": [
    "#import dependencies\n",
    "import pandas as pd\n",
    "import numpy as np\n",
    "import wikipedia\n",
    "from wiktionaryparser import WiktionaryParser\n",
    "from SPARQLWrapper import SPARQLWrapper, JSON\n",
    "pd.set_option('display.max_columns', None)\n",
    "pd.set_option('display.expand_frame_repr', False)\n",
    "pd.set_option('max_colwidth', None)"
   ]
  },
  {
   "cell_type": "markdown",
   "id": "00833389",
   "metadata": {},
   "source": [
    "## What data do we work with?"
   ]
  },
  {
   "cell_type": "markdown",
   "id": "88d6521e",
   "metadata": {
    "heading_collapsed": true
   },
   "source": [
    "### List of buildings relevant to the course content"
   ]
  },
  {
   "cell_type": "code",
   "execution_count": 12,
   "id": "5cb24a54",
   "metadata": {
    "hidden": true
   },
   "outputs": [
    {
     "name": "stdout",
     "output_type": "stream",
     "text": [
      "Coloseum (Unknown) \n",
      "Tempietto (Bramante)\n",
      "Santa Casa of Loreto - shrine (Bramante, Sansovino, et al.)\n",
      "Villa Emo (Palladio)\n",
      "Versailles (Le Vau, Hardouin-Mansart, Le Brun)\n",
      "Panthéon - St. Geneviève (Soufflot, Rondelet)\n",
      "Altes Museum (Schinkel)\n"
     ]
    }
   ],
   "source": [
    "list_of_building_from_Alex = \"Coloseum (Unknown) \\nTempietto (Bramante)\\nSanta Casa of Loreto - shrine (Bramante, Sansovino, et al.)\\\n",
    "\\nVilla Emo (Palladio)\\nVersailles (Le Vau, Hardouin-Mansart, Le Brun)\\nPanthéon - St. Geneviève (Soufflot, Rondelet)\\\n",
    "\\nAltes Museum (Schinkel)\"\n",
    "print(list_of_building_from_Alex)"
   ]
  },
  {
   "cell_type": "markdown",
   "id": "4f4fc2ea",
   "metadata": {
    "hidden": true
   },
   "source": [
    "#### <span style=\"color:green\"> ??? How can you describe the list? </span>\n",
    "#### <span style=\"color:green\"> ??? What is the information in the brackets? </span>\n",
    "#### <span style=\"color:green\"> ??? Why do we need the information in the brackets? </span>\n",
    "\n",
    "\n",
    "\n",
    "\n"
   ]
  },
  {
   "cell_type": "markdown",
   "id": "df8f7e30",
   "metadata": {
    "heading_collapsed": true
   },
   "source": [
    "### Let us investigate a list of 7 buildings and try to find information about them in Wikipedia and Wikidata:"
   ]
  },
  {
   "cell_type": "code",
   "execution_count": 62,
   "id": "d9c5a640",
   "metadata": {
    "hidden": true
   },
   "outputs": [
    {
     "name": "stdout",
     "output_type": "stream",
     "text": [
      "Colosseum\n",
      "Tempietto di San Pietro in Montorio\n",
      "Santa Casa of Loreto - shrine\n",
      "Villa Emo\n",
      "The Palace of Versailles\n",
      "Panthéon - St. Geneviève\n",
      "Altes Museum\n"
     ]
    }
   ],
   "source": [
    "buildings_list = [\"Colosseum\", \"Tempietto di San Pietro in Montorio\", \"Santa Casa of Loreto - shrine\", \"Villa Emo\", \"The Palace of Versailles\", \"Panthéon - St. Geneviève\", \"Altes Museum\"]\n",
    "for building in buildings_list:\n",
    "    print(building)"
   ]
  },
  {
   "cell_type": "markdown",
   "id": "eeebbf9c",
   "metadata": {
    "hidden": true
   },
   "source": [
    "#### <span style=\"color:green\"> ??? What does \"to query\" mean? </span>\n",
    "\n"
   ]
  },
  {
   "cell_type": "markdown",
   "id": "15af2d53",
   "metadata": {
    "hidden": true
   },
   "source": [
    "#### Let's query Wiktionary for the meaning of \"query\""
   ]
  },
  {
   "cell_type": "code",
   "execution_count": 14,
   "id": "d4a51ff6",
   "metadata": {
    "hidden": true,
    "scrolled": true
   },
   "outputs": [
    {
     "data": {
      "text/plain": [
       "[{'etymology': 'An anglicisation of quere, an obsolete variant form of Latin quaere, second-person singular present active imperative of quaerō (“seek, look for; ask”). Cognate with French quérir, Italian chiedere, Portuguese querer, Romanian cere, and Spanish querer. Compare question.\\n',\n",
       "  'definitions': [{'partOfSpeech': 'noun',\n",
       "    'text': ['query (plural queries)',\n",
       "     'A question, an inquiry (US), an enquiry (UK).',\n",
       "     'A question mark.',\n",
       "     '(computing, databases) A set of instructions passed to a database.'],\n",
       "    'relatedWords': [{'relationshipType': 'hyponyms', 'words': ['subquery']}],\n",
       "    'examples': ['The teacher answered the student’s query concerning biosynthesis.',\n",
       "     'Carried somehow, somewhither, for some reason, on these surging floods, were these travelers, of errand not wholly obvious to their fellows, yet of such sort as to call into query alike the nature of their errand and their own relations.',\n",
       "     \"His Glossary has 'bouchen, to stop people's mouths,' but this is followed by a query, to show that it was but a guess. I have shown, from the MSS. and other  sources, that it should be bonched, i.e. bunched, bumped, knocked, smote.\",\n",
       "     'She had written in her diary: \"I don\\'t think I am in a concentration-camp??????\", the queries growing larger and more numerous till they covered the entire page  […]',\n",
       "     'I refer you to your line above, where you use a query and a bang together.',\n",
       "     'The database admin switched on query logging for debugging purposes.']},\n",
       "   {'partOfSpeech': 'verb',\n",
       "    'text': ['query (third-person singular simple present queries, present participle querying, simple past and past participle queried)',\n",
       "     '(intransitive) To ask a question.',\n",
       "     '(transitive) To ask, inquire.',\n",
       "     '(transitive) To question or call into doubt.',\n",
       "     '(computing, databases) To pass a set of instructions to a database to retrieve information from it.',\n",
       "     '(transitive, Internet) To send a private message to (a user on IRC).',\n",
       "     '(intransitive, publishing) To send out a query letter.'],\n",
       "    'relatedWords': [],\n",
       "    'examples': ['I tried that once in an AOL thing called \"The Arena\", I can\\'t remember who the celebrity was, but I posed some divinely thoughtful, inspired, well-crafted question, and they chose one, instead, that querried her favourite colour, quelle banel.',\n",
       "     'The story struck the depressingly familiar note with which true stories ring in the tried ears of experienced policemen. No one queried it. It was in the classic pattern of human weakness, mean and embarrassing and sad.',\n",
       "     'Linked tables can be accessed, queried, combined and reorganised much more flexibly and in a number of ways that may not be immediately predictable when the database is under construction.',\n",
       "     'He parted the channel saying \"SHUTUP!\"... so I queried him, asking if there was something I could do.. maybe talk...',\n",
       "     'if you know someone who is in the channel, you can query them and ask for the key.']}],\n",
       "  'pronunciations': {'text': ['(Received Pronunciation) IPA: /ˈkwɪə.ɹi/',\n",
       "    '(General American) IPA: /ˈkwɪ.ɹi/, /ˈkwɛ.ɹi/',\n",
       "    'Rhymes: -ɪəɹi, -ɛɹi'],\n",
       "   'audio': []}}]"
      ]
     },
     "execution_count": 14,
     "metadata": {},
     "output_type": "execute_result"
    }
   ],
   "source": [
    "parser = WiktionaryParser()\n",
    "query = parser.fetch('query')\n",
    "query"
   ]
  },
  {
   "cell_type": "code",
   "execution_count": 15,
   "id": "035aff31",
   "metadata": {
    "hidden": true
   },
   "outputs": [
    {
     "data": {
      "text/plain": [
       "'An anglicisation of quere, an obsolete variant form of Latin quaere, second-person singular present active imperative of quaerō (“seek, look for; ask”). Cognate with French quérir, Italian chiedere, Portuguese querer, Romanian cere, and Spanish querer. Compare question.\\n'"
      ]
     },
     "execution_count": 15,
     "metadata": {},
     "output_type": "execute_result"
    }
   ],
   "source": [
    "query[0]['etymology']"
   ]
  },
  {
   "cell_type": "code",
   "execution_count": 16,
   "id": "33350c67",
   "metadata": {
    "hidden": true
   },
   "outputs": [
    {
     "data": {
      "text/plain": [
       "[{'partOfSpeech': 'noun',\n",
       "  'text': ['query (plural queries)',\n",
       "   'A question, an inquiry (US), an enquiry (UK).',\n",
       "   'A question mark.',\n",
       "   '(computing, databases) A set of instructions passed to a database.'],\n",
       "  'relatedWords': [{'relationshipType': 'hyponyms', 'words': ['subquery']}],\n",
       "  'examples': ['The teacher answered the student’s query concerning biosynthesis.',\n",
       "   'Carried somehow, somewhither, for some reason, on these surging floods, were these travelers, of errand not wholly obvious to their fellows, yet of such sort as to call into query alike the nature of their errand and their own relations.',\n",
       "   \"His Glossary has 'bouchen, to stop people's mouths,' but this is followed by a query, to show that it was but a guess. I have shown, from the MSS. and other  sources, that it should be bonched, i.e. bunched, bumped, knocked, smote.\",\n",
       "   'She had written in her diary: \"I don\\'t think I am in a concentration-camp??????\", the queries growing larger and more numerous till they covered the entire page  […]',\n",
       "   'I refer you to your line above, where you use a query and a bang together.',\n",
       "   'The database admin switched on query logging for debugging purposes.']},\n",
       " {'partOfSpeech': 'verb',\n",
       "  'text': ['query (third-person singular simple present queries, present participle querying, simple past and past participle queried)',\n",
       "   '(intransitive) To ask a question.',\n",
       "   '(transitive) To ask, inquire.',\n",
       "   '(transitive) To question or call into doubt.',\n",
       "   '(computing, databases) To pass a set of instructions to a database to retrieve information from it.',\n",
       "   '(transitive, Internet) To send a private message to (a user on IRC).',\n",
       "   '(intransitive, publishing) To send out a query letter.'],\n",
       "  'relatedWords': [],\n",
       "  'examples': ['I tried that once in an AOL thing called \"The Arena\", I can\\'t remember who the celebrity was, but I posed some divinely thoughtful, inspired, well-crafted question, and they chose one, instead, that querried her favourite colour, quelle banel.',\n",
       "   'The story struck the depressingly familiar note with which true stories ring in the tried ears of experienced policemen. No one queried it. It was in the classic pattern of human weakness, mean and embarrassing and sad.',\n",
       "   'Linked tables can be accessed, queried, combined and reorganised much more flexibly and in a number of ways that may not be immediately predictable when the database is under construction.',\n",
       "   'He parted the channel saying \"SHUTUP!\"... so I queried him, asking if there was something I could do.. maybe talk...',\n",
       "   'if you know someone who is in the channel, you can query them and ask for the key.']}]"
      ]
     },
     "execution_count": 16,
     "metadata": {},
     "output_type": "execute_result"
    }
   ],
   "source": [
    "query[0]['definitions']"
   ]
  },
  {
   "cell_type": "markdown",
   "id": "76a1c599",
   "metadata": {
    "hidden": true
   },
   "source": [
    "#### <span style=\"color:green\"> ??? When it comes to classification of data into: raw, semi-structured, structured, what is the kind of data we got as a response from Wiktionary?  </span>\n",
    "#### <span style=\"color:green\"> ??? How intuitive is it to understand the data without being the one who created it and having no guidance?  </span>\n"
   ]
  },
  {
   "cell_type": "markdown",
   "id": "3c428d78",
   "metadata": {
    "heading_collapsed": true
   },
   "source": [
    "### Let us start with getting the summary of a Coloseum record from Wikipedia: "
   ]
  },
  {
   "cell_type": "code",
   "execution_count": 17,
   "id": "668495ba",
   "metadata": {
    "hidden": true
   },
   "outputs": [
    {
     "name": "stdout",
     "output_type": "stream",
     "text": [
      "The Colosseum ( KOL-ə-SEE-əm; Italian: Colosseo [kolosˈsɛːo]) is an elliptical amphitheatre in the centre of the city of Rome, Italy, just east of the Roman Forum. It is the largest ancient amphitheatre ever built, and is still the largest standing amphitheatre in the world, despite its age. Construction began under the emperor Vespasian (r. 69–79 AD) in 72 and was completed in 80 AD under his successor and heir, Titus (r. 79–81). Further modifications were made during the reign of Domitian (r. 81–96). The three emperors who were patrons of the work are known as the Flavian dynasty, and the amphitheatre was named the Flavian Amphitheatre (Latin: Amphitheatrum Flavium; Italian: Anfiteatro Flavio [aɱfiteˈaːtro ˈflaːvjo]) by later classicists and archaeologists for its association with their family name (Flavius).\n",
      "The Colosseum is built of travertine limestone, tuff (volcanic rock), and brick-faced concrete. It could hold an estimated 50,000 to 80,000 spectators at various points in its history, having an average audience of some 65,000; it was used for gladiatorial contests and public spectacles including animal hunts, executions, re-enactments of famous battles, and dramas based on Roman mythology, and briefly mock sea battles. The building ceased to be used for entertainment in the early medieval era. It was later reused for such purposes as housing, workshops, quarters for a religious order, a fortress, a quarry, and a Christian shrine.\n",
      "Although substantially ruined by earthquakes and stone robbers taking spolia, the Colosseum is still a renowned symbol of Imperial Rome and was listed as one of the New 7 Wonders of the World. It is one of Rome's most popular tourist attractions and also has links to the Roman Catholic Church, as each Good Friday the Pope leads a torchlit \"Way of the Cross\" procession that starts in the area around the Colosseum. The Colosseum is depicted on the Italian version of the five-cent euro coin.\n"
     ]
    }
   ],
   "source": [
    "def get_summary_wikipedia(building):\n",
    "    print(wikipedia.summary(building))\n",
    "    \n",
    "    \n",
    "get_summary_wikipedia(buildings_list[0])"
   ]
  },
  {
   "cell_type": "markdown",
   "id": "4113d18a",
   "metadata": {
    "heading_collapsed": true
   },
   "source": [
    "### Let us try to see if it will seamlessly work with the second entry from the list"
   ]
  },
  {
   "cell_type": "code",
   "execution_count": 21,
   "id": "173811ad",
   "metadata": {
    "hidden": true
   },
   "outputs": [
    {
     "ename": "DisambiguationError",
     "evalue": "\"Tempietto\" may refer to: \nSan Pietro in Montorio#The Tempietto\nVilla Barbaro#Church (Tempietto Barbaro)\nTempietto of Sant'Antonio, Rimini\nTemple of Aesculapius (Villa Borghese)\nTemple of Clitumnus\nTempietto del Petrarca, Canossa\nSant'Emidio alle Grotte\nSant'Emidio Rosso\nSanctuary of Santa Maria infra Saxa, Genga\nOratorio di Santa Maria in Valle\nPitigliano#Tempietto\nTempietto di Santa Croce (Bergamo)\nTempietto di San Fedelino sul Lago Mezzola\nRucellai Sepulchre",
     "output_type": "error",
     "traceback": [
      "\u001b[0;31m---------------------------------------------------------------------------\u001b[0m",
      "\u001b[0;31mDisambiguationError\u001b[0m                       Traceback (most recent call last)",
      "\u001b[0;32m<ipython-input-21-6a305abed2ef>\u001b[0m in \u001b[0;36m<module>\u001b[0;34m\u001b[0m\n\u001b[1;32m      1\u001b[0m \u001b[0mtempietto_invariants\u001b[0m \u001b[0;34m=\u001b[0m \u001b[0;34m[\u001b[0m\u001b[0;34m\"Tempietto\"\u001b[0m\u001b[0;34m,\u001b[0m \u001b[0;34m\"Tempietto Bramante\"\u001b[0m\u001b[0;34m]\u001b[0m\u001b[0;34m\u001b[0m\u001b[0;34m\u001b[0m\u001b[0m\n\u001b[0;32m----> 2\u001b[0;31m \u001b[0mget_summary_wikipedia\u001b[0m\u001b[0;34m(\u001b[0m\u001b[0mtempietto_invariants\u001b[0m\u001b[0;34m[\u001b[0m\u001b[0;36m0\u001b[0m\u001b[0;34m]\u001b[0m\u001b[0;34m)\u001b[0m\u001b[0;34m\u001b[0m\u001b[0;34m\u001b[0m\u001b[0m\n\u001b[0m",
      "\u001b[0;32m<ipython-input-17-323831357a07>\u001b[0m in \u001b[0;36mget_summary_wikipedia\u001b[0;34m(building)\u001b[0m\n\u001b[1;32m      1\u001b[0m \u001b[0;32mdef\u001b[0m \u001b[0mget_summary_wikipedia\u001b[0m\u001b[0;34m(\u001b[0m\u001b[0mbuilding\u001b[0m\u001b[0;34m)\u001b[0m\u001b[0;34m:\u001b[0m\u001b[0;34m\u001b[0m\u001b[0;34m\u001b[0m\u001b[0m\n\u001b[0;32m----> 2\u001b[0;31m     \u001b[0mprint\u001b[0m\u001b[0;34m(\u001b[0m\u001b[0mwikipedia\u001b[0m\u001b[0;34m.\u001b[0m\u001b[0msummary\u001b[0m\u001b[0;34m(\u001b[0m\u001b[0mbuilding\u001b[0m\u001b[0;34m)\u001b[0m\u001b[0;34m)\u001b[0m\u001b[0;34m\u001b[0m\u001b[0;34m\u001b[0m\u001b[0m\n\u001b[0m\u001b[1;32m      3\u001b[0m \u001b[0;34m\u001b[0m\u001b[0m\n\u001b[1;32m      4\u001b[0m \u001b[0;34m\u001b[0m\u001b[0m\n\u001b[1;32m      5\u001b[0m \u001b[0mget_summary_wikipedia\u001b[0m\u001b[0;34m(\u001b[0m\u001b[0mbuildings_list\u001b[0m\u001b[0;34m[\u001b[0m\u001b[0;36m0\u001b[0m\u001b[0;34m]\u001b[0m\u001b[0;34m)\u001b[0m\u001b[0;34m\u001b[0m\u001b[0;34m\u001b[0m\u001b[0m\n",
      "\u001b[0;32m~/anaconda3/lib/python3.8/site-packages/wikipedia/util.py\u001b[0m in \u001b[0;36m__call__\u001b[0;34m(self, *args, **kwargs)\u001b[0m\n\u001b[1;32m     26\u001b[0m       \u001b[0mret\u001b[0m \u001b[0;34m=\u001b[0m \u001b[0mself\u001b[0m\u001b[0;34m.\u001b[0m\u001b[0m_cache\u001b[0m\u001b[0;34m[\u001b[0m\u001b[0mkey\u001b[0m\u001b[0;34m]\u001b[0m\u001b[0;34m\u001b[0m\u001b[0;34m\u001b[0m\u001b[0m\n\u001b[1;32m     27\u001b[0m     \u001b[0;32melse\u001b[0m\u001b[0;34m:\u001b[0m\u001b[0;34m\u001b[0m\u001b[0;34m\u001b[0m\u001b[0m\n\u001b[0;32m---> 28\u001b[0;31m       \u001b[0mret\u001b[0m \u001b[0;34m=\u001b[0m \u001b[0mself\u001b[0m\u001b[0;34m.\u001b[0m\u001b[0m_cache\u001b[0m\u001b[0;34m[\u001b[0m\u001b[0mkey\u001b[0m\u001b[0;34m]\u001b[0m \u001b[0;34m=\u001b[0m \u001b[0mself\u001b[0m\u001b[0;34m.\u001b[0m\u001b[0mfn\u001b[0m\u001b[0;34m(\u001b[0m\u001b[0;34m*\u001b[0m\u001b[0margs\u001b[0m\u001b[0;34m,\u001b[0m \u001b[0;34m**\u001b[0m\u001b[0mkwargs\u001b[0m\u001b[0;34m)\u001b[0m\u001b[0;34m\u001b[0m\u001b[0;34m\u001b[0m\u001b[0m\n\u001b[0m\u001b[1;32m     29\u001b[0m \u001b[0;34m\u001b[0m\u001b[0m\n\u001b[1;32m     30\u001b[0m     \u001b[0;32mreturn\u001b[0m \u001b[0mret\u001b[0m\u001b[0;34m\u001b[0m\u001b[0;34m\u001b[0m\u001b[0m\n",
      "\u001b[0;32m~/anaconda3/lib/python3.8/site-packages/wikipedia/wikipedia.py\u001b[0m in \u001b[0;36msummary\u001b[0;34m(title, sentences, chars, auto_suggest, redirect)\u001b[0m\n\u001b[1;32m    229\u001b[0m   \u001b[0;31m# use auto_suggest and redirect to get the correct article\u001b[0m\u001b[0;34m\u001b[0m\u001b[0;34m\u001b[0m\u001b[0;34m\u001b[0m\u001b[0m\n\u001b[1;32m    230\u001b[0m   \u001b[0;31m# also, use page's error checking to raise DisambiguationError if necessary\u001b[0m\u001b[0;34m\u001b[0m\u001b[0;34m\u001b[0m\u001b[0;34m\u001b[0m\u001b[0m\n\u001b[0;32m--> 231\u001b[0;31m   \u001b[0mpage_info\u001b[0m \u001b[0;34m=\u001b[0m \u001b[0mpage\u001b[0m\u001b[0;34m(\u001b[0m\u001b[0mtitle\u001b[0m\u001b[0;34m,\u001b[0m \u001b[0mauto_suggest\u001b[0m\u001b[0;34m=\u001b[0m\u001b[0mauto_suggest\u001b[0m\u001b[0;34m,\u001b[0m \u001b[0mredirect\u001b[0m\u001b[0;34m=\u001b[0m\u001b[0mredirect\u001b[0m\u001b[0;34m)\u001b[0m\u001b[0;34m\u001b[0m\u001b[0;34m\u001b[0m\u001b[0m\n\u001b[0m\u001b[1;32m    232\u001b[0m   \u001b[0mtitle\u001b[0m \u001b[0;34m=\u001b[0m \u001b[0mpage_info\u001b[0m\u001b[0;34m.\u001b[0m\u001b[0mtitle\u001b[0m\u001b[0;34m\u001b[0m\u001b[0;34m\u001b[0m\u001b[0m\n\u001b[1;32m    233\u001b[0m   \u001b[0mpageid\u001b[0m \u001b[0;34m=\u001b[0m \u001b[0mpage_info\u001b[0m\u001b[0;34m.\u001b[0m\u001b[0mpageid\u001b[0m\u001b[0;34m\u001b[0m\u001b[0;34m\u001b[0m\u001b[0m\n",
      "\u001b[0;32m~/anaconda3/lib/python3.8/site-packages/wikipedia/wikipedia.py\u001b[0m in \u001b[0;36mpage\u001b[0;34m(title, pageid, auto_suggest, redirect, preload)\u001b[0m\n\u001b[1;32m    274\u001b[0m         \u001b[0;31m# if there is no suggestion or search results, the page doesn't exist\u001b[0m\u001b[0;34m\u001b[0m\u001b[0;34m\u001b[0m\u001b[0;34m\u001b[0m\u001b[0m\n\u001b[1;32m    275\u001b[0m         \u001b[0;32mraise\u001b[0m \u001b[0mPageError\u001b[0m\u001b[0;34m(\u001b[0m\u001b[0mtitle\u001b[0m\u001b[0;34m)\u001b[0m\u001b[0;34m\u001b[0m\u001b[0;34m\u001b[0m\u001b[0m\n\u001b[0;32m--> 276\u001b[0;31m     \u001b[0;32mreturn\u001b[0m \u001b[0mWikipediaPage\u001b[0m\u001b[0;34m(\u001b[0m\u001b[0mtitle\u001b[0m\u001b[0;34m,\u001b[0m \u001b[0mredirect\u001b[0m\u001b[0;34m=\u001b[0m\u001b[0mredirect\u001b[0m\u001b[0;34m,\u001b[0m \u001b[0mpreload\u001b[0m\u001b[0;34m=\u001b[0m\u001b[0mpreload\u001b[0m\u001b[0;34m)\u001b[0m\u001b[0;34m\u001b[0m\u001b[0;34m\u001b[0m\u001b[0m\n\u001b[0m\u001b[1;32m    277\u001b[0m   \u001b[0;32melif\u001b[0m \u001b[0mpageid\u001b[0m \u001b[0;32mis\u001b[0m \u001b[0;32mnot\u001b[0m \u001b[0;32mNone\u001b[0m\u001b[0;34m:\u001b[0m\u001b[0;34m\u001b[0m\u001b[0;34m\u001b[0m\u001b[0m\n\u001b[1;32m    278\u001b[0m     \u001b[0;32mreturn\u001b[0m \u001b[0mWikipediaPage\u001b[0m\u001b[0;34m(\u001b[0m\u001b[0mpageid\u001b[0m\u001b[0;34m=\u001b[0m\u001b[0mpageid\u001b[0m\u001b[0;34m,\u001b[0m \u001b[0mpreload\u001b[0m\u001b[0;34m=\u001b[0m\u001b[0mpreload\u001b[0m\u001b[0;34m)\u001b[0m\u001b[0;34m\u001b[0m\u001b[0;34m\u001b[0m\u001b[0m\n",
      "\u001b[0;32m~/anaconda3/lib/python3.8/site-packages/wikipedia/wikipedia.py\u001b[0m in \u001b[0;36m__init__\u001b[0;34m(self, title, pageid, redirect, preload, original_title)\u001b[0m\n\u001b[1;32m    297\u001b[0m       \u001b[0;32mraise\u001b[0m \u001b[0mValueError\u001b[0m\u001b[0;34m(\u001b[0m\u001b[0;34m\"Either a title or a pageid must be specified\"\u001b[0m\u001b[0;34m)\u001b[0m\u001b[0;34m\u001b[0m\u001b[0;34m\u001b[0m\u001b[0m\n\u001b[1;32m    298\u001b[0m \u001b[0;34m\u001b[0m\u001b[0m\n\u001b[0;32m--> 299\u001b[0;31m     \u001b[0mself\u001b[0m\u001b[0;34m.\u001b[0m\u001b[0m__load\u001b[0m\u001b[0;34m(\u001b[0m\u001b[0mredirect\u001b[0m\u001b[0;34m=\u001b[0m\u001b[0mredirect\u001b[0m\u001b[0;34m,\u001b[0m \u001b[0mpreload\u001b[0m\u001b[0;34m=\u001b[0m\u001b[0mpreload\u001b[0m\u001b[0;34m)\u001b[0m\u001b[0;34m\u001b[0m\u001b[0;34m\u001b[0m\u001b[0m\n\u001b[0m\u001b[1;32m    300\u001b[0m \u001b[0;34m\u001b[0m\u001b[0m\n\u001b[1;32m    301\u001b[0m     \u001b[0;32mif\u001b[0m \u001b[0mpreload\u001b[0m\u001b[0;34m:\u001b[0m\u001b[0;34m\u001b[0m\u001b[0;34m\u001b[0m\u001b[0m\n",
      "\u001b[0;32m~/anaconda3/lib/python3.8/site-packages/wikipedia/wikipedia.py\u001b[0m in \u001b[0;36m__load\u001b[0;34m(self, redirect, preload)\u001b[0m\n\u001b[1;32m    391\u001b[0m       \u001b[0mmay_refer_to\u001b[0m \u001b[0;34m=\u001b[0m \u001b[0;34m[\u001b[0m\u001b[0mli\u001b[0m\u001b[0;34m.\u001b[0m\u001b[0ma\u001b[0m\u001b[0;34m.\u001b[0m\u001b[0mget_text\u001b[0m\u001b[0;34m(\u001b[0m\u001b[0;34m)\u001b[0m \u001b[0;32mfor\u001b[0m \u001b[0mli\u001b[0m \u001b[0;32min\u001b[0m \u001b[0mfiltered_lis\u001b[0m \u001b[0;32mif\u001b[0m \u001b[0mli\u001b[0m\u001b[0;34m.\u001b[0m\u001b[0ma\u001b[0m\u001b[0;34m]\u001b[0m\u001b[0;34m\u001b[0m\u001b[0;34m\u001b[0m\u001b[0m\n\u001b[1;32m    392\u001b[0m \u001b[0;34m\u001b[0m\u001b[0m\n\u001b[0;32m--> 393\u001b[0;31m       \u001b[0;32mraise\u001b[0m \u001b[0mDisambiguationError\u001b[0m\u001b[0;34m(\u001b[0m\u001b[0mgetattr\u001b[0m\u001b[0;34m(\u001b[0m\u001b[0mself\u001b[0m\u001b[0;34m,\u001b[0m \u001b[0;34m'title'\u001b[0m\u001b[0;34m,\u001b[0m \u001b[0mpage\u001b[0m\u001b[0;34m[\u001b[0m\u001b[0;34m'title'\u001b[0m\u001b[0;34m]\u001b[0m\u001b[0;34m)\u001b[0m\u001b[0;34m,\u001b[0m \u001b[0mmay_refer_to\u001b[0m\u001b[0;34m)\u001b[0m\u001b[0;34m\u001b[0m\u001b[0;34m\u001b[0m\u001b[0m\n\u001b[0m\u001b[1;32m    394\u001b[0m \u001b[0;34m\u001b[0m\u001b[0m\n\u001b[1;32m    395\u001b[0m     \u001b[0;32melse\u001b[0m\u001b[0;34m:\u001b[0m\u001b[0;34m\u001b[0m\u001b[0;34m\u001b[0m\u001b[0m\n",
      "\u001b[0;31mDisambiguationError\u001b[0m: \"Tempietto\" may refer to: \nSan Pietro in Montorio#The Tempietto\nVilla Barbaro#Church (Tempietto Barbaro)\nTempietto of Sant'Antonio, Rimini\nTemple of Aesculapius (Villa Borghese)\nTemple of Clitumnus\nTempietto del Petrarca, Canossa\nSant'Emidio alle Grotte\nSant'Emidio Rosso\nSanctuary of Santa Maria infra Saxa, Genga\nOratorio di Santa Maria in Valle\nPitigliano#Tempietto\nTempietto di Santa Croce (Bergamo)\nTempietto di San Fedelino sul Lago Mezzola\nRucellai Sepulchre"
     ]
    }
   ],
   "source": [
    "tempietto_invariants = [\"Tempietto\", \"Tempietto Bramante\"]\n",
    "get_summary_wikipedia(tempietto_invariants[0])"
   ]
  },
  {
   "cell_type": "markdown",
   "id": "384e4534",
   "metadata": {
    "hidden": true
   },
   "source": [
    "#### <span style=\"color:green\"> ??? What does the error mean? </span>"
   ]
  },
  {
   "cell_type": "markdown",
   "id": "21fb9ba2",
   "metadata": {
    "heading_collapsed": true
   },
   "source": [
    "### What if we look for \"Tempietto Bramante\"?"
   ]
  },
  {
   "cell_type": "code",
   "execution_count": 22,
   "id": "0962e075",
   "metadata": {
    "hidden": true
   },
   "outputs": [
    {
     "ename": "PageError",
     "evalue": "Page id \"tempietto brabant\" does not match any pages. Try another id!",
     "output_type": "error",
     "traceback": [
      "\u001b[0;31m---------------------------------------------------------------------------\u001b[0m",
      "\u001b[0;31mPageError\u001b[0m                                 Traceback (most recent call last)",
      "\u001b[0;32m<ipython-input-22-a453292b548e>\u001b[0m in \u001b[0;36m<module>\u001b[0;34m\u001b[0m\n\u001b[0;32m----> 1\u001b[0;31m \u001b[0mget_summary_wikipedia\u001b[0m\u001b[0;34m(\u001b[0m\u001b[0mtempietto_invariants\u001b[0m\u001b[0;34m[\u001b[0m\u001b[0;36m1\u001b[0m\u001b[0;34m]\u001b[0m\u001b[0;34m)\u001b[0m\u001b[0;34m\u001b[0m\u001b[0;34m\u001b[0m\u001b[0m\n\u001b[0m",
      "\u001b[0;32m<ipython-input-17-323831357a07>\u001b[0m in \u001b[0;36mget_summary_wikipedia\u001b[0;34m(building)\u001b[0m\n\u001b[1;32m      1\u001b[0m \u001b[0;32mdef\u001b[0m \u001b[0mget_summary_wikipedia\u001b[0m\u001b[0;34m(\u001b[0m\u001b[0mbuilding\u001b[0m\u001b[0;34m)\u001b[0m\u001b[0;34m:\u001b[0m\u001b[0;34m\u001b[0m\u001b[0;34m\u001b[0m\u001b[0m\n\u001b[0;32m----> 2\u001b[0;31m     \u001b[0mprint\u001b[0m\u001b[0;34m(\u001b[0m\u001b[0mwikipedia\u001b[0m\u001b[0;34m.\u001b[0m\u001b[0msummary\u001b[0m\u001b[0;34m(\u001b[0m\u001b[0mbuilding\u001b[0m\u001b[0;34m)\u001b[0m\u001b[0;34m)\u001b[0m\u001b[0;34m\u001b[0m\u001b[0;34m\u001b[0m\u001b[0m\n\u001b[0m\u001b[1;32m      3\u001b[0m \u001b[0;34m\u001b[0m\u001b[0m\n\u001b[1;32m      4\u001b[0m \u001b[0;34m\u001b[0m\u001b[0m\n\u001b[1;32m      5\u001b[0m \u001b[0mget_summary_wikipedia\u001b[0m\u001b[0;34m(\u001b[0m\u001b[0mbuildings_list\u001b[0m\u001b[0;34m[\u001b[0m\u001b[0;36m0\u001b[0m\u001b[0;34m]\u001b[0m\u001b[0;34m)\u001b[0m\u001b[0;34m\u001b[0m\u001b[0;34m\u001b[0m\u001b[0m\n",
      "\u001b[0;32m~/anaconda3/lib/python3.8/site-packages/wikipedia/util.py\u001b[0m in \u001b[0;36m__call__\u001b[0;34m(self, *args, **kwargs)\u001b[0m\n\u001b[1;32m     26\u001b[0m       \u001b[0mret\u001b[0m \u001b[0;34m=\u001b[0m \u001b[0mself\u001b[0m\u001b[0;34m.\u001b[0m\u001b[0m_cache\u001b[0m\u001b[0;34m[\u001b[0m\u001b[0mkey\u001b[0m\u001b[0;34m]\u001b[0m\u001b[0;34m\u001b[0m\u001b[0;34m\u001b[0m\u001b[0m\n\u001b[1;32m     27\u001b[0m     \u001b[0;32melse\u001b[0m\u001b[0;34m:\u001b[0m\u001b[0;34m\u001b[0m\u001b[0;34m\u001b[0m\u001b[0m\n\u001b[0;32m---> 28\u001b[0;31m       \u001b[0mret\u001b[0m \u001b[0;34m=\u001b[0m \u001b[0mself\u001b[0m\u001b[0;34m.\u001b[0m\u001b[0m_cache\u001b[0m\u001b[0;34m[\u001b[0m\u001b[0mkey\u001b[0m\u001b[0;34m]\u001b[0m \u001b[0;34m=\u001b[0m \u001b[0mself\u001b[0m\u001b[0;34m.\u001b[0m\u001b[0mfn\u001b[0m\u001b[0;34m(\u001b[0m\u001b[0;34m*\u001b[0m\u001b[0margs\u001b[0m\u001b[0;34m,\u001b[0m \u001b[0;34m**\u001b[0m\u001b[0mkwargs\u001b[0m\u001b[0;34m)\u001b[0m\u001b[0;34m\u001b[0m\u001b[0;34m\u001b[0m\u001b[0m\n\u001b[0m\u001b[1;32m     29\u001b[0m \u001b[0;34m\u001b[0m\u001b[0m\n\u001b[1;32m     30\u001b[0m     \u001b[0;32mreturn\u001b[0m \u001b[0mret\u001b[0m\u001b[0;34m\u001b[0m\u001b[0;34m\u001b[0m\u001b[0m\n",
      "\u001b[0;32m~/anaconda3/lib/python3.8/site-packages/wikipedia/wikipedia.py\u001b[0m in \u001b[0;36msummary\u001b[0;34m(title, sentences, chars, auto_suggest, redirect)\u001b[0m\n\u001b[1;32m    229\u001b[0m   \u001b[0;31m# use auto_suggest and redirect to get the correct article\u001b[0m\u001b[0;34m\u001b[0m\u001b[0;34m\u001b[0m\u001b[0;34m\u001b[0m\u001b[0m\n\u001b[1;32m    230\u001b[0m   \u001b[0;31m# also, use page's error checking to raise DisambiguationError if necessary\u001b[0m\u001b[0;34m\u001b[0m\u001b[0;34m\u001b[0m\u001b[0;34m\u001b[0m\u001b[0m\n\u001b[0;32m--> 231\u001b[0;31m   \u001b[0mpage_info\u001b[0m \u001b[0;34m=\u001b[0m \u001b[0mpage\u001b[0m\u001b[0;34m(\u001b[0m\u001b[0mtitle\u001b[0m\u001b[0;34m,\u001b[0m \u001b[0mauto_suggest\u001b[0m\u001b[0;34m=\u001b[0m\u001b[0mauto_suggest\u001b[0m\u001b[0;34m,\u001b[0m \u001b[0mredirect\u001b[0m\u001b[0;34m=\u001b[0m\u001b[0mredirect\u001b[0m\u001b[0;34m)\u001b[0m\u001b[0;34m\u001b[0m\u001b[0;34m\u001b[0m\u001b[0m\n\u001b[0m\u001b[1;32m    232\u001b[0m   \u001b[0mtitle\u001b[0m \u001b[0;34m=\u001b[0m \u001b[0mpage_info\u001b[0m\u001b[0;34m.\u001b[0m\u001b[0mtitle\u001b[0m\u001b[0;34m\u001b[0m\u001b[0;34m\u001b[0m\u001b[0m\n\u001b[1;32m    233\u001b[0m   \u001b[0mpageid\u001b[0m \u001b[0;34m=\u001b[0m \u001b[0mpage_info\u001b[0m\u001b[0;34m.\u001b[0m\u001b[0mpageid\u001b[0m\u001b[0;34m\u001b[0m\u001b[0;34m\u001b[0m\u001b[0m\n",
      "\u001b[0;32m~/anaconda3/lib/python3.8/site-packages/wikipedia/wikipedia.py\u001b[0m in \u001b[0;36mpage\u001b[0;34m(title, pageid, auto_suggest, redirect, preload)\u001b[0m\n\u001b[1;32m    274\u001b[0m         \u001b[0;31m# if there is no suggestion or search results, the page doesn't exist\u001b[0m\u001b[0;34m\u001b[0m\u001b[0;34m\u001b[0m\u001b[0;34m\u001b[0m\u001b[0m\n\u001b[1;32m    275\u001b[0m         \u001b[0;32mraise\u001b[0m \u001b[0mPageError\u001b[0m\u001b[0;34m(\u001b[0m\u001b[0mtitle\u001b[0m\u001b[0;34m)\u001b[0m\u001b[0;34m\u001b[0m\u001b[0;34m\u001b[0m\u001b[0m\n\u001b[0;32m--> 276\u001b[0;31m     \u001b[0;32mreturn\u001b[0m \u001b[0mWikipediaPage\u001b[0m\u001b[0;34m(\u001b[0m\u001b[0mtitle\u001b[0m\u001b[0;34m,\u001b[0m \u001b[0mredirect\u001b[0m\u001b[0;34m=\u001b[0m\u001b[0mredirect\u001b[0m\u001b[0;34m,\u001b[0m \u001b[0mpreload\u001b[0m\u001b[0;34m=\u001b[0m\u001b[0mpreload\u001b[0m\u001b[0;34m)\u001b[0m\u001b[0;34m\u001b[0m\u001b[0;34m\u001b[0m\u001b[0m\n\u001b[0m\u001b[1;32m    277\u001b[0m   \u001b[0;32melif\u001b[0m \u001b[0mpageid\u001b[0m \u001b[0;32mis\u001b[0m \u001b[0;32mnot\u001b[0m \u001b[0;32mNone\u001b[0m\u001b[0;34m:\u001b[0m\u001b[0;34m\u001b[0m\u001b[0;34m\u001b[0m\u001b[0m\n\u001b[1;32m    278\u001b[0m     \u001b[0;32mreturn\u001b[0m \u001b[0mWikipediaPage\u001b[0m\u001b[0;34m(\u001b[0m\u001b[0mpageid\u001b[0m\u001b[0;34m=\u001b[0m\u001b[0mpageid\u001b[0m\u001b[0;34m,\u001b[0m \u001b[0mpreload\u001b[0m\u001b[0;34m=\u001b[0m\u001b[0mpreload\u001b[0m\u001b[0;34m)\u001b[0m\u001b[0;34m\u001b[0m\u001b[0;34m\u001b[0m\u001b[0m\n",
      "\u001b[0;32m~/anaconda3/lib/python3.8/site-packages/wikipedia/wikipedia.py\u001b[0m in \u001b[0;36m__init__\u001b[0;34m(self, title, pageid, redirect, preload, original_title)\u001b[0m\n\u001b[1;32m    297\u001b[0m       \u001b[0;32mraise\u001b[0m \u001b[0mValueError\u001b[0m\u001b[0;34m(\u001b[0m\u001b[0;34m\"Either a title or a pageid must be specified\"\u001b[0m\u001b[0;34m)\u001b[0m\u001b[0;34m\u001b[0m\u001b[0;34m\u001b[0m\u001b[0m\n\u001b[1;32m    298\u001b[0m \u001b[0;34m\u001b[0m\u001b[0m\n\u001b[0;32m--> 299\u001b[0;31m     \u001b[0mself\u001b[0m\u001b[0;34m.\u001b[0m\u001b[0m__load\u001b[0m\u001b[0;34m(\u001b[0m\u001b[0mredirect\u001b[0m\u001b[0;34m=\u001b[0m\u001b[0mredirect\u001b[0m\u001b[0;34m,\u001b[0m \u001b[0mpreload\u001b[0m\u001b[0;34m=\u001b[0m\u001b[0mpreload\u001b[0m\u001b[0;34m)\u001b[0m\u001b[0;34m\u001b[0m\u001b[0;34m\u001b[0m\u001b[0m\n\u001b[0m\u001b[1;32m    300\u001b[0m \u001b[0;34m\u001b[0m\u001b[0m\n\u001b[1;32m    301\u001b[0m     \u001b[0;32mif\u001b[0m \u001b[0mpreload\u001b[0m\u001b[0;34m:\u001b[0m\u001b[0;34m\u001b[0m\u001b[0;34m\u001b[0m\u001b[0m\n",
      "\u001b[0;32m~/anaconda3/lib/python3.8/site-packages/wikipedia/wikipedia.py\u001b[0m in \u001b[0;36m__load\u001b[0;34m(self, redirect, preload)\u001b[0m\n\u001b[1;32m    343\u001b[0m     \u001b[0;32mif\u001b[0m \u001b[0;34m'missing'\u001b[0m \u001b[0;32min\u001b[0m \u001b[0mpage\u001b[0m\u001b[0;34m:\u001b[0m\u001b[0;34m\u001b[0m\u001b[0;34m\u001b[0m\u001b[0m\n\u001b[1;32m    344\u001b[0m       \u001b[0;32mif\u001b[0m \u001b[0mhasattr\u001b[0m\u001b[0;34m(\u001b[0m\u001b[0mself\u001b[0m\u001b[0;34m,\u001b[0m \u001b[0;34m'title'\u001b[0m\u001b[0;34m)\u001b[0m\u001b[0;34m:\u001b[0m\u001b[0;34m\u001b[0m\u001b[0;34m\u001b[0m\u001b[0m\n\u001b[0;32m--> 345\u001b[0;31m         \u001b[0;32mraise\u001b[0m \u001b[0mPageError\u001b[0m\u001b[0;34m(\u001b[0m\u001b[0mself\u001b[0m\u001b[0;34m.\u001b[0m\u001b[0mtitle\u001b[0m\u001b[0;34m)\u001b[0m\u001b[0;34m\u001b[0m\u001b[0;34m\u001b[0m\u001b[0m\n\u001b[0m\u001b[1;32m    346\u001b[0m       \u001b[0;32melse\u001b[0m\u001b[0;34m:\u001b[0m\u001b[0;34m\u001b[0m\u001b[0;34m\u001b[0m\u001b[0m\n\u001b[1;32m    347\u001b[0m         \u001b[0;32mraise\u001b[0m \u001b[0mPageError\u001b[0m\u001b[0;34m(\u001b[0m\u001b[0mpageid\u001b[0m\u001b[0;34m=\u001b[0m\u001b[0mself\u001b[0m\u001b[0;34m.\u001b[0m\u001b[0mpageid\u001b[0m\u001b[0;34m)\u001b[0m\u001b[0;34m\u001b[0m\u001b[0;34m\u001b[0m\u001b[0m\n",
      "\u001b[0;31mPageError\u001b[0m: Page id \"tempietto brabant\" does not match any pages. Try another id!"
     ]
    }
   ],
   "source": [
    "get_summary_wikipedia(tempietto_invariants[1])"
   ]
  },
  {
   "cell_type": "markdown",
   "id": "023636ec",
   "metadata": {
    "heading_collapsed": true
   },
   "source": [
    "### The correct search title for the Wikipedia page will be \"Tempietto di San Pietro in Montorio\" "
   ]
  },
  {
   "cell_type": "code",
   "execution_count": 23,
   "id": "6541b593",
   "metadata": {
    "hidden": true
   },
   "outputs": [
    {
     "name": "stdout",
     "output_type": "stream",
     "text": [
      "San Pietro in Montorio (Saint Peter on the Golden Mountain) is a church in Rome, Italy, which includes in its courtyard the Tempietto, a small commemorative martyrium (tomb) built by Donato Bramante.\n"
     ]
    }
   ],
   "source": [
    "get_summary_wikipedia(buildings_list[1])"
   ]
  },
  {
   "cell_type": "markdown",
   "id": "ae69b559",
   "metadata": {
    "hidden": true
   },
   "source": [
    "####  <span style=\"color:green\">??? What do the two examples above indicate? (Hint: make a link with normalization and formalization) </span>\n",
    "####  <span style=\"color:green\">??? How do you think one could deal with the ambiguity on the level of database? </span>\n"
   ]
  },
  {
   "cell_type": "markdown",
   "id": "37af4830",
   "metadata": {},
   "source": [
    "## Explore Wikipedia entries (Group Work)\n",
    "Titles, Categories, Links, Content, References"
   ]
  },
  {
   "cell_type": "markdown",
   "id": "328bf264",
   "metadata": {},
   "source": [
    "####  <span style=\"color:green\">??? How granular is data structured in Wikipedia? </span>"
   ]
  },
  {
   "cell_type": "code",
   "execution_count": 24,
   "id": "a5ab0604",
   "metadata": {},
   "outputs": [],
   "source": [
    "#title\n",
    "def get_title_wikipedia(building):\n",
    "    page = wikipedia.page(building)\n",
    "    title = page.title\n",
    "    print(title)\n",
    "\n",
    "#categories    \n",
    "def get_categories(building):\n",
    "    page = wikipedia.page(building)\n",
    "    categories = page.categories\n",
    "    print(categories)\n",
    "\n",
    "#links    \n",
    "def get_links_wikipedia(building):\n",
    "    page = wikipedia.page(building)\n",
    "    links = page.links\n",
    "    print(links)\n",
    "    \n",
    "#content\n",
    "def get_content_wikipedia(building):\n",
    "    page = wikipedia.page(building)\n",
    "    content = page.content\n",
    "    print(content)\n",
    "\n",
    "#references    \n",
    "def get_references(building):\n",
    "    page = wikipedia.page(building)\n",
    "    references = page.references\n",
    "    print(references)"
   ]
  },
  {
   "cell_type": "markdown",
   "id": "232294cf",
   "metadata": {},
   "source": [
    "### Group 1 Santa Casa of Loreto"
   ]
  },
  {
   "cell_type": "markdown",
   "id": "e9654809",
   "metadata": {},
   "source": [
    "#### Title"
   ]
  },
  {
   "cell_type": "code",
   "execution_count": 25,
   "id": "67e05bfc",
   "metadata": {},
   "outputs": [
    {
     "name": "stdout",
     "output_type": "stream",
     "text": [
      "Basilica della Santa Casa\n"
     ]
    }
   ],
   "source": [
    "get_title_wikipedia(buildings_list[2])"
   ]
  },
  {
   "cell_type": "markdown",
   "id": "961e5079",
   "metadata": {},
   "source": [
    "#### Summary"
   ]
  },
  {
   "cell_type": "code",
   "execution_count": 26,
   "id": "47e03783",
   "metadata": {},
   "outputs": [
    {
     "name": "stdout",
     "output_type": "stream",
     "text": [
      "The Basilica della Santa Casa (English: Basilica of the Holy House) is a Marian shrine in Loreto, in the Marches, Italy. The basilica is known for enshrining the house in which the Blessed Virgin Mary is believed by some Catholics to have lived. Pious legends claim the same house was flown over by angelic beings from Nazareth to Tersatto (Trsat in Croatia), then to Recanati, before arriving at the current site.The basilica is also known for enshrining the Madonna and Child image of \"Our Lady of Loreto\". Pope Benedict XV designated the religious image as patroness of air passengers and auspicious travel on 24 March 1920. Pope Pius XI granted a Canonical Coronation to the venerated image made of Cedar of Lebanon wood on 5 September 1922, replacing the original Marian image consumed in fire on 23 February 1921.\n"
     ]
    }
   ],
   "source": [
    "get_summary_wikipedia(buildings_list[2])"
   ]
  },
  {
   "cell_type": "markdown",
   "id": "b40b6c51",
   "metadata": {},
   "source": [
    "#### Categories"
   ]
  },
  {
   "cell_type": "code",
   "execution_count": 27,
   "id": "fd5c721c",
   "metadata": {},
   "outputs": [
    {
     "name": "stdout",
     "output_type": "stream",
     "text": [
      "['All articles with unsourced statements', 'Articles containing explicitly cited English-language text', 'Articles incorporating a citation from the 1913 Catholic Encyclopedia without Wikisource reference', 'Articles incorporating text from the 1913 Catholic Encyclopedia without Wikisource reference', 'Articles with BNF identifiers', 'Articles with BNFdata identifiers', 'Articles with GND identifiers', 'Articles with ISNI identifiers', 'Articles with J9U identifiers', 'Articles with LCCN identifiers', 'Articles with SUDOC identifiers', 'Articles with VIAF identifiers', 'Articles with WorldCat identifiers', 'Articles with short description', 'Articles with unsourced statements from April 2020', 'Articles with unsourced statements from August 2022', 'Articles with unsourced statements from January 2022', 'Articles with unsourced statements from May 2021', 'Articles with unsourced statements from October 2021', 'CS1 Italian-language sources (it)', 'CS1 Latin-language sources (la)', 'Catholic pilgrimage sites', 'Commons category link is on Wikidata', 'Coordinates on Wikidata', 'Infobox mapframe without OSM relation ID on Wikidata', 'Loreto, Marche', 'Minor basilicas in Marche', 'Pages using the Kartographer extension', 'Properties of the Holy See', 'Short description is different from Wikidata', 'Shrines to the Virgin Mary', 'Source attribution', 'Use dmy dates from January 2022', 'Wikipedia articles incorporating a citation from the 1911 Encyclopaedia Britannica with Wikisource reference', 'Wikipedia articles incorporating text from the 1911 Encyclopædia Britannica']\n"
     ]
    }
   ],
   "source": [
    "get_categories(buildings_list[2])"
   ]
  },
  {
   "cell_type": "markdown",
   "id": "9fe9ceee",
   "metadata": {},
   "source": [
    "#### Links"
   ]
  },
  {
   "cell_type": "code",
   "execution_count": 28,
   "id": "5c4ac1de",
   "metadata": {},
   "outputs": [
    {
     "name": "stdout",
     "output_type": "stream",
     "text": [
      "['Abbey of Saint Scholastica, Subiaco', 'Acre, Israel', 'Acta Apostolicae Sedis', 'Adriatic Sea', 'Age of majority', 'Ancona', 'Andrea Sansovino', 'Angel', 'Angelos', 'Anne Catherine Emmerich', 'Annunciation', 'Apollo 8', 'Apostolic Camera', 'Apostolic Penitentiary', 'Apostolic Signatura', 'Apostolic nunciature', 'Apostolic see', 'Apostolic vicariate', 'Archbasilica of Saint John Lateran', 'Aromanians', 'Ascension of Jesus Christ', 'Avignon Papacy', 'Bambino Gesù Hospital', 'Baptismal font', 'Barberini', 'Basilica di Santa Maria Maggiore', 'Basilica of Annunciation', 'Basilica of Saint Anthony of Padua', 'Basilica of Saint Francis of Assisi', 'Basilica of Saint Paul Outside the Walls', 'Basilica of the Annunciation', 'Basilica of the Holy House', 'Beda College', 'Benedict XVI', 'Bishop in the Catholic Church', 'Black Madonna', 'Blessed Virgin Mary', 'Byzantine', 'Campanile', 'Cannara', 'Canonical Coronation', 'Cardinal (Catholic Church)', 'Cardinal Secretary of State', 'Cardinal Vicar', 'Catholic', 'Catholic Church', 'Catholic Encyclopedia', 'Cedar of Lebanon', 'Charles II of Naples', 'Charles Lindbergh', 'Christian denomination', 'Church of Saint Anne, Jerusalem', 'City of London', 'College of Cardinals', 'Collegio Bellarmino', 'Collegio Teutonico', 'Collegium Russicum', 'Concordat', 'Congregation (Roman Curia)', 'Council of Cardinal Advisers', 'Cristoforo Roncalli', 'Croatia', 'Crusaders', 'Crusades', 'Dalmatia', 'Dicastery', 'Diocese of Rome', 'Domenichino', 'Donation of Pepin', 'Donation of Sutri', 'Donato Bramante', 'Doukas', 'Duchy of Rome', 'Duke of Athens', 'Ecclesiastical Province of Rome', 'Edward the Confessor', 'Encyclopædia Britannica Eleventh Edition', 'Episcopal see', 'Eucharist', 'Extraterritoriality', 'Façade', 'Flavius Blondus', 'Foreign relations of the Holy See', 'Fresco', 'Full communion', 'Geographic coordinate system', 'Gianicolo', 'Giovanni Tonucci', 'Girolamo Lombardo', 'Giuliano da Maiano', 'Giuliano da Sangallo', 'Gothic architecture', 'Governance', 'Graffiti', 'Guido Reni', 'Guy II de la Roche', 'Helena Angelina Komnene', 'Herbert Thurston', 'History of Italian Renaissance domes', 'History of early modern period domes', 'History of medieval Arabic and Western European domes', 'History of papal primacy', 'History of the papacy', 'Holy Family', 'Holy Land', 'Holy See', 'Holy See and the United Nations', 'Holy See–European Union relations', 'Holy See–Italy relations', 'Holy See–Soviet Union relations', 'Holy Spirit', 'House of the Virgin Mary', 'ISBN (identifier)', 'Illyria', 'Immaculate Heart of Mary', 'Intarsia', 'International law', 'Investiture Controversy', 'Italian language', 'Italy', 'John I Doukas of Thessaly', 'John XXIII', 'Jubilee in the Catholic Church', 'Judea (Roman province)', 'Julius II', 'Kingdom of Jerusalem', 'Komnenos', 'Lateran Museum', 'Lateran Palace', 'Lateran Treaty', 'Legal status of the Holy See', 'List of diplomatic missions of the Holy See', 'List of diplomatic missions to the Holy See', 'List of heads of the diplomatic missions of the Holy See', 'List of living cardinals', 'Litany of the Blessed Virgin Mary', 'Loreta (Prague)', 'Loreto, Marche', 'Loreto (AN)', 'Loretto Chapel', 'Louvre', 'Luca Signorelli', 'Luigi Vanvitelli', 'Madonna and Child', 'Major basilica', 'Mannerism', 'Mantuanus', 'Mary, the mother of Jesus', 'Melozzo da Forlì', 'Miracle', 'Mosaic', 'Multilateral foreign policy of the Holy See', 'Muslim', 'Napoleon', 'Nativity of Jesus in art', 'Nativity of the Blessed Virgin Mary', 'Nazareth', 'Nikephoros I Komnenos Doukas', 'Nuncio', 'Nympheum of Nero', 'Official', \"Old St. Peter's Basilica\", 'Orders, decorations, and medals of the Holy See', \"Our Lady of Loreto and St Winefride's, Kew\", 'Our Lady of Walsingham', 'Palace of Maffei Marescotti', 'Palace of the Holy Office', 'Palazzo Pio (Borgo)', 'Palazzo San Callisto', 'Palazzo dei Convertendi', 'Palazzo della Cancelleria', 'Palazzo di Propaganda Fide', 'Palestine (region)', 'Papal Palace of Castel Gandolfo', 'Papal States', 'Papal conclave', 'Papal household', 'Papal primacy', 'Parvis', 'Patrimony of Saint Peter', 'Patron saint', 'Paul VI Audience Hall', 'Permanent Observer of the Holy See to the Council of Europe', 'Permanent Observer of the Holy See to the United Nations', 'Permanent Observer of the Holy See to the United Nations in Geneva', \"Peter's Pence\", 'Philip I, Prince of Taranto', 'Pietro Parolin', 'Politics of Vatican City', 'Pontifical Commission for Vatican City State', 'Pontifical Lateran University', 'Pontifical Lombard Seminary', 'Pontifical North American College', 'Pontifical Oratory of San Paolo', 'Pontifical Oriental Institute', 'Pontifical Roman Major Seminary', 'Pontifical Urban University', 'Pontifical commission', 'Pontifical council', 'Pontifical minor basilica', 'Pontificio Collegio Urbano de Propaganda Fide', 'Pope', 'Pope Benedict XV', 'Pope Calixtus III', 'Pope Clement VII', 'Pope Eugene IV', 'Pope Francis', 'Pope Leo X', 'Pope Nicholas V', 'Pope Paul III', 'Pope Paul V', 'Pope Pius II', 'Pope Pius XI', 'Pope Sixtus V', 'Popes during the Age of Revolution', 'Porto Recanati', 'Primacy of Peter', 'Prisoner in the Vatican', 'Properties of the Holy See', 'Public domain', 'Raffaello da Montelupo', 'Recanati', 'Resurrection of Jesus', 'Rijeka', 'Roman Catholic Archdiocese of Gaeta', 'Roman Catholic Diocese of Anagni-Alatri', 'Roman Catholic Diocese of Civita Castellana', 'Roman Catholic Diocese of Civitavecchia-Tarquinia', 'Roman Catholic Diocese of Frosinone-Veroli-Ferentino', 'Roman Catholic Diocese of Latina-Terracina-Sezze-Priverno', 'Roman Catholic Diocese of Rieti', 'Roman Catholic Diocese of Sora-Cassino-Aquino-Pontecorvo', 'Roman Catholic Diocese of Tivoli', 'Roman Catholic Diocese of Viterbo', 'Roman Catholic Suburbicarian Diocese of Albano', 'Roman Catholic Suburbicarian Diocese of Frascati', 'Roman Catholic Suburbicarian Diocese of Ostia', 'Roman Catholic Suburbicarian Diocese of Palestrina', 'Roman Catholic Suburbicarian Diocese of Porto-Santa Rufina', 'Roman Catholic Suburbicarian Diocese of Sabina-Poggio Mirteto', 'Roman Catholic Suburbicarian Diocese of Velletri-Segni', 'Roman Catholic Territorial Prelature of Loreto', 'Roman Curia', 'Roman Rota', 'Rome', 'Sacred architecture', 'Sacristy', 'Saint Luke', 'Saint Peter', 'San Carlo ai Catinari', 'Sancta Sanctorum (Lateran, Rome)', \"Sant'Apollinare alle Terme Neroniane-Alessandrine\", 'Santi Apostoli, Rome', 'Scala Sancta', 'Secretariat of State (Holy See)', 'Section for Relations with States (Roman Curia)', 'Sovereignty', \"St. Peter's Basilica\", 'Suburbicarian diocese', 'Suffragan diocese', 'Swiss Guard', 'Synod of Bishops in the Catholic Church', 'Temporal power of the Holy See', 'Territorial Abbey of Montecassino', 'Territorial abbey', 'Territorial prelature of Loreto', 'Tersatto', 'Teutonic Cemetery', 'Thamar Angelina Komnene', 'The Jerusalem Post', 'The Marches', 'Thessaly', 'Tiburzio Vergelli', 'Transept', 'Translation (relic)', 'Treaties of the Holy See', 'Treaty of Tolentino', 'Treia', 'Tribolo', 'Twelve Apostles', 'Universal jurisdiction', 'Vatican City', 'Vatican City in World War II', 'Vatican Radio', 'Vatican during the Savoyard era (1870–1929)', 'Vicar General for Vatican City', 'William I de la Roche', 'World Synod of Bishops']\n"
     ]
    }
   ],
   "source": [
    "get_links_wikipedia(buildings_list[2])"
   ]
  },
  {
   "cell_type": "markdown",
   "id": "815efe29",
   "metadata": {},
   "source": [
    "#### Content"
   ]
  },
  {
   "cell_type": "code",
   "execution_count": 29,
   "id": "07222479",
   "metadata": {},
   "outputs": [
    {
     "name": "stdout",
     "output_type": "stream",
     "text": [
      "The Basilica della Santa Casa (English: Basilica of the Holy House) is a Marian shrine in Loreto, in the Marches, Italy. The basilica is known for enshrining the house in which the Blessed Virgin Mary is believed by some Catholics to have lived. Pious legends claim the same house was flown over by angelic beings from Nazareth to Tersatto (Trsat in Croatia), then to Recanati, before arriving at the current site.The basilica is also known for enshrining the Madonna and Child image of \"Our Lady of Loreto\". Pope Benedict XV designated the religious image as patroness of air passengers and auspicious travel on 24 March 1920. Pope Pius XI granted a Canonical Coronation to the venerated image made of Cedar of Lebanon wood on 5 September 1922, replacing the original Marian image consumed in fire on 23 February 1921.\n",
      "\n",
      "\n",
      "== The church ==\n",
      "The basilica containing the Santa Casa is a Late Gothic structure built starting from 1468, and continued by Giuliano da Maiano, Giuliano da Sangallo, and Donato Bramante. It is 93 meters long, 60 meters wide, and its campanile is 75.6 meters high.\n",
      "The façade of the church was erected under Sixtus V, who in 1586 fortified Loreto and gave it the privileges of a town; his colossal statue stands on the parvis, above the front steps, a third of the way to the left as one enters. Over the principal doorway there is a lifesize bronze statue of the Virgin and Child by Girolamo Lombardo; the three superb bronze doors executed at the latter end of the 16th century under the reign of Paul V (1605–1621) are also by Lombardo (1506-1590), his sons and his pupils, among them Tiburzio Vergelli (1551-1609), who also made the fine bronze font in the interior. The doors and hanging lamps are by the same artists.The richly decorated campanile (1750 to 1754), by Luigi Vanvitelli, is of great height; the principal bell, presented by Leo X in 1516, weighs 11 tons.\n",
      "The interior of the church has mosaics by Domenichino and Guido Reni and other works of art, including statues by Raffaello da Montelupo. In the sacristies on each side of the right transept are frescoes, on the right by Melozzo da Forlì, on the left by Luca Signorelli and in both there are some fine intarsias; the basilica as a whole is thus a collaborative work by generations of architects and artists.\n",
      "\n",
      "\n",
      "== The Santa Casa ==\n",
      "\n",
      "The main focus of Loreto is the Holy House itself (in Italian, the Santa Casa di Loreto). It has been a Catholic pilgrimage destination since at least the 14th century and a popular tourist destination as well.\n",
      "\n",
      "\n",
      "=== The House ===\n",
      "The House itself consists of three stone walls. It is a plain stone structure, with a door on the north side and a window on the west. The size is 31 x 13 feet, i.e. 9 x 4 m (or 9.52 m by 4.10 m and 4.30 m) high.\n",
      "\n",
      "\n",
      "=== The Black Madonna of Our Lady of Loreto ===\n",
      "\n",
      "A niche contains a 33 inch high image of the Virgin and Child, richly adorned with jewels, above the altar. The statue was commissioned after a fire in the Santa Casa in 1921 destroyed the original Madonna, and it was granted a Canonical Coronation in 1922 by Pope Pius XI.\n",
      "A legend attributes the original statue of olive wood to Saint Luke, but the style suggests it was created in the 15th century. The original statue, dating back to the 1400s, was an image of the Black Madonna with the Christ Child, both of whom were covered since the 16th century with a jeweled mantle or dalmatic.The statue was stolen by Napoleonic troops in 1797 and taken to Paris. It was returned with the Treaty of Tolentino and ended up in Rome, from where the image made an eight-day journey as a pilgrim Madonna, arriving in Loreto on 9 December 1801. During the absence of the original statue from the Holy House, a copy made of poplar wood was placed in the niche and remains the only copy to have been venerated in the Holy House. This copy is now enshrined at the Chiesa della Buona Morte in Cannara.In 1921, a fire broke out inside the Holy House which incinerated the sculpture. At the behest of Pope Pius XI, a new image similar to the original was immediately carved, using the wood of a cedar of Lebanon from the Vatican Gardens. It was modeled by Enrico Quattrini and executed and painted by Leopoldo Celani. In 1922, the statue was crowned in St. Peter's Basilica in the Vatican and solemnly transported to Loreto.There is a local tradition in the city of Treia that the original statue of Our Lady of Loreto was hidden and replaced with a copy before Napoleon's troops looted the basilica. When the copy was returned to Loreto, the exchange with the original statue never took place. Thus, it was the copy that was destroyed by fire. The original statue was hidden in a convent and then taken by Visitandine nuns to Treia, where it is enshrined at the Church of Santa Chiara. Much like the Holy House, it is associated with miracles.\n",
      "\n",
      "\n",
      "=== The sculpted marble screen ===\n",
      "Around the house is a tall marble screen designed by Bramante and executed under Popes Leo X, Clement VII and Paul III. A small part of this sculpture was the work of Andrea Sansovino, but the greater part was executed by Raffaello da Montelupo, Tribolo and others of his assistants and pupils. The four sides represent the Annunciation, the Nativity, the Arrival of the Santa Casa at Loreto and the Nativity of the Virgin, respectively.\n",
      "\n",
      "\n",
      "== The Hall of the Treasury ==\n",
      "The Hall of the Treasury dates from the beginning of the 17th century. It contains votive offerings, liturgical objects and vestments. The frescoes on the vaulted ceiling are exquisite examples of late Roman Mannerism and were created between 1605 and 1610 by Cristoforo Roncalli, known as Pomarancio. The apse is decorated with 19th-century German frescoes.\n",
      "\n",
      "\n",
      "== Traditional account ==\n",
      "\n",
      "\n",
      "=== 1st-century Judaea ===\n",
      "Late medieval religious traditions developed suggesting that this was the house in which the Holy Family (Mary, Joseph and Jesus) had lived while in Judea at the start of the first century AD. According to this narrative, this is the Nazareth house in which Mary had been born and brought up, received the Annunciation, conceived Jesus through the Holy Spirit, and had lived during the childhood of Christ. After Jesus's Ascension, the house was converted into a church where the Apostles placed an altar, at which Saint Peter celebrated the first Eucharist after the Resurrection, the \"Altar of the Apostles\" inside the \"house\" being venerated as the authentic one.\n",
      "\n",
      "\n",
      "=== 1291 miraculous translation to Dalmatia ===\n",
      "Just before the final expulsion of the Christian Crusaders from the Holy Land, in order to protect it from Muslim soldiers, the house was miraculously carried by angels and initially deposited in 1291 on a hill at Tersatto (now Trsat, a suburb of Rijeka, Croatia), where an appearance of the Virgin and numerous miraculous cures attested to its sanctity. The miraculous translation of the house is said to have been confirmed by investigations made at Nazareth by messengers from the governor of Dalmatia.\n",
      "\n",
      "\n",
      "=== 1294: miraculous translation to Italy ===\n",
      "As pilgrims were prey to bandits, in 1294, angels again carried it across the Adriatic Sea to the woods near Ancona (although the reasoning is not clear as to why this happened); from these woods (Latin lauretum, Italian Colle dei Lauri or from the name of its proprietress Laureta) the chapel derived the name which it still retains (Lat. sacellum gloriosæ Virginis in Laureto). The house that gave rise to the title Our Lady of Loreto, applied to the Virgin.\n",
      "\n",
      "\n",
      "=== 1295-96: three more translations ===\n",
      "\"By the will of God\", it was afterwards moved again thrice:  in 1295 to a hill near Recanati, but being too close to the sea and therefore exposed to the dangers of Turkish raids, after eight months it was again moved to a hill a mile away, Monte Prodo, near Loreto. Here two counts sought to acquire title to the land in order to profit from the pilgrimages. In 1296, the Santa Casa is moved for the fifth time to the road that goes from Recanati to Porto Recanati, and therefore not on private property.\n",
      "\n",
      "\n",
      "== Historicity ==\n",
      "An authority on Loreto has summed up the controversy concerning the miraculous flight of the Holy House by writing that it has attracted \"the ridicule of one half of the world and the devotion of the other.\"\n",
      "\n",
      "\n",
      "=== Archaeological pro arguments ===\n",
      "Analysis by Italian archaeologists and architects, mentioned in 1906, reached the conclusion that the Holy House\n",
      "\n",
      "is built of two types of limestone found in Nazareth, but not in Loreto and the Marches\n",
      "the mortar between the stones is typical for 1st century Palestine, but not for Italy\n",
      "the graffiti on the walls [1] are similar and contemporary to those discovered at the Grotto of the Annunciation in Nazareth\n",
      "the \"house\" has no foundations, stands directly on dusty ground not cleared in any way and containing snail shells, acorns and a dried walnut, and even stands atop a thorny bush\n",
      "the three-wall \"house\" fits exactly the measurements of the foundations excavated in front of the Grotto in Nazareth, and those of the \"missing\" wall fit the Grotto, therefore:\n",
      "The Holy House is placed partly on a public road connecting Recanati with Porto Recanati, its apparition forcing the magistrates of Recanati to build a diversion of the road - this makes an intentional construction at such a location look improbable\n",
      "\n",
      "\n",
      "=== Earliest mentions of the house ===\n",
      "The documented history of the house can only be traced as far back as the close of the Crusades, around the 14th century. An early brief reference is made in the Italia Illustrata of Flavius Blondus (1392–1463), secretary to Popes Eugene IV, Nicholas V, Calixtus III and Pius II; it can be read in its entirety in the Redemptoris mundi Matris Ecclesiæ Lauretana historia, contained in the Opera Omnia (1576) of Baptista Mantuanus.The first deatailed mention of the tradition is a 1472 leaflet by Teramano.\n",
      "\n",
      "\n",
      "=== Translation by Angelos/Angeli family theory ===\n",
      "In modern times, the Church traced the linguistic origins of the story to an aristocratic family called \"Angelos\", which were responsible for the transfer. There are 16th-century bas-reliefs, which suggest that the Holy House was transported by sea. In May 1900, papal physician Giuseppe Lapponi indicated that he had read in the Vatican archives documents suggesting that the members of the noble Byzantine family named Angelos had saved the stones of the House from Muslim devastation and transported them to Loreto. In a second step, in late 1294, Nikephoros, ruler of Epirus from the Angelos family (in Italian: Niceforo Angeli), sent on the bricks to Italy as a wedding gift for his daughter who had married Prince Philip, the son of the King of Naples, in October that year. In both Greek and Latin, the family name Angelos/Angeli means \"angels\". The stones considered by researchers to be authentic are still visibly marked with Roman numerals, by scratching or with coal, which suggests that the three walls were carefully taken apart with the intention to faithfully reassemble them at another location, which actually happened. The traditional date of the miraculous translation, 12 May 1291, is compatible with the historical dates - the port city of Acre, the Crusader capital, fell six days later, theoretically allowing for the shipment of the stones, once they had been carried by cart from Nazareth to the port of Acre.Archaeological excavations were carried out between 1962 and 1965. Among the numerous coins found underneath the building, there were two bearing the inscription \"Gui Dux Atenes\". This refers to Guy II de la Roche, the Regent of Athens from 1280 to 1287. His parents were the Frankish nobleman, William I, Duke of Athens, and the Aromanian Greek princess Helena Angelina Komnene, the daughter of John Doukas, Prince of Thessaly, also known as John Angelos. Through his mother, Guy was related to the Byzantine families of the Komnenos and Doukas, Emperors of Constantinople and Epirus. Helena was Regent of the Duchy of Athens from the death of her husband in 1287 until her son's reaching the age of majority in 1294, covering the entire time span of the translation of the Holy House from Nazareth, to Epirus, to Recanati (Loreto). The presence of the two coins are proof that the Angelos family, known in Italian as Angeli and later as De Angeli, supervised the event. The law of Recanati categorically prohibited construction of any type of building on public roads, providing for its immediate demolition; only an intervention from a very high authority could have led to a suspension of the law, as obviously happened in the case of the House. Archaeological examination offered further proof for both the provenance of the stones from Nazareth, and for them being reassembled at Loreto, where several phases of support construction for the three-wall structure could be detected.\n",
      "\n",
      "\n",
      "=== Counter-arguments: chronology and late origin ===\n",
      "According to Herbert Thurston, in some respects, the Lauretan tradition is \"beset with difficulties of the gravest kind\", which were noted in a 1906 work on the subject.There are documents which indicate that a church dedicated to the Blessed Virgin already existed at Loreto in the twelfth and thirteenth centuries, that is: at least a century before the supposed translation.There is no mention by early pilgrims or other sources of a building at the venerated site in Nazareth, other than the rock-hewn chamber. Neither does any document from the time following the alleged transition mention any missing structure at the site.There is also no mention of the alleged transition before 1472, that is: for 180 years after the time of the supposed translation .\n",
      "\n",
      "\n",
      "=== Statue-before-house-legend theory ===\n",
      "Thurston suggests that a miracle-working statue or picture of the Madonna was brought from Tersatto in Illyria (more precisely: Dalmatia) to Loreto by some pious Christians and was then confounded with the ancient rustic chapel in which it was harboured, the veneration formerly given to the statue afterwards passing to the building.\n",
      "\n",
      "\n",
      "== Vision of Blessed Anne Catherine Emmerich ==\n",
      "Blessed Anne Catherine Emmerich (1774–1824) explicitly claims that the house was transported by angels, even to her own near-disbelief:\n",
      "\n",
      "I have often in vision witnessed the transporting of the Holy House to Loretto. For a long time, I could not believe it, and yet I continued to see it. I saw the Holy House borne over the sea by seven angels. It had no foundation, but there was under it a shining surface of light. On either side was something like a handle. Three angels carried it on one side and three on the other; the seventh hovered in front of it, a long train of light after him.\n",
      "\n",
      "\n",
      "== Modern era ==\n",
      "In 1797, Napoleon's troops sacked the church. The treasury was emptied, either looted by soldiers, or its contents requisitioned by the pope who needed money for the payments required by the Treaty of Tolentino, which he had signed with Napoleon. Still, by 1821 the Black Madonna had been returned from the Louvre via Rome, and the treasury was again filled with valuable offerings.\n",
      "\n",
      "\n",
      "== Papal support ==\n",
      "Papal support of the Loreto tradition comes relatively late. The first Bull mentioning the translation is that of Julius II in 1507, and is a rather guarded expression. Julius introduces the clause \"ut pie creditur et fama est\", \"as is piously believed and reported to be\".On 4 October 2012, Benedict XVI visited the Shrine to mark the 50th anniversary of John XXIII's visit. In his visit, Benedict formally entrusted the World Synod of Bishops and the Year of Faith to the Virgin of Loreto.On 20 June 2020, during the Feast of the Immaculate Heart of Mary, Pope Francis added three invocations to the Litany of Loreto: Mother of mercy, Mother of hope, and Solace of migrants. He later approved the extension of the Jubilee Year of Loreto to 2021. The jubilee year marks the 100th anniversary of the official proclamation of Our Lady of Loreto as the patroness of pilots and air passengers. It began 8 December 2019 and was due to end 10 December 2020, the feast of Our Lady of Loreto, but was extended to 10 December 2021 because of disruptions due to the coronavirus.\n",
      "\n",
      "\n",
      "== Similar traditions ==\n",
      "\n",
      "\n",
      "=== Nazareth ===\n",
      "A competing tradition holds that the location of the Annunciation was at or near the site of the present Basilica of the Annunciation, whose lower level holds the Grotto of the Annunciation, said to be the remains of Mary's childhood home. (The Church of Saint Anne in Jerusalem is also said to have been built on the site of Mary's childhood home.) However, proponents of Loreto maintain that the Holy House and the Grotto were originally part of the same dwelling.\n",
      "\n",
      "\n",
      "=== Walsingham, England ===\n",
      "The shrine at Walsingham is the principal shrine of the Blessed Virgin in England. The legend of \"Our Lady's house\" (written down about 1465, and consequently earlier than the Loreto translation tradition) supposes that in the time of St. Edward the Confessor a chapel was built at Walsingham, which exactly reproduced the dimensions of the Holy House of Nazareth. When the carpenters could not complete it upon the site that had been chosen, it was moved and erected by angels' hands at a spot two hundred feet away.\n",
      "\n",
      "\n",
      "== Veneration ==\n",
      "Our Lady of Loreto is the title of the Virgin Mary with respect to the Holy House of Loreto and the image displayed therein.\n",
      "In the 1600s, a Mass and a Marian litany was approved. The \"Litany of Loreto\" is the Litany of the Blessed Virgin Mary, one of the five litanies approved for public recitation by the Church.\n",
      "The Russian icon of the Mother of God \"Addition of Mind\" is based on the image of Our Lady of Loreto.\n",
      "\n",
      "\n",
      "=== Feast day ===\n",
      "In October 2019 Pope Francis restored to the universal Roman calendar, the feast of Our Lady of Loreto, as an optional memorial commemorated on 10 December.\n",
      "\n",
      "\n",
      "=== Patronage ===\n",
      "In 1920 Pope Benedict XV declared the Madonna of Loreto patron saint of air travellers and pilots.\n",
      "\n",
      "\n",
      "=== Iconography ===\n",
      "The Santa Casa is occasionally represented in religious art borne by angels.\n",
      "\n",
      "\n",
      "== In popular culture ==\n",
      "Due to Our Lady of Loreto being the patroness of aviators, Charles Lindbergh took a Loreto statuette with him on his flight across the Atlantic, and Apollo 8 carried a Loreto medallion on its flight to the moon.\n",
      "\n",
      "\n",
      "== See also ==\n",
      "\n",
      "Basilica of the Annunciation in Nazareth\n",
      "House of the Virgin Mary near Ephesus\n",
      "Our Lady of Loreto and St Winefride's, Kew\n",
      "Territorial prelature of Loreto\n",
      "Giovanni Tonucci (b. 1941), archbishop in charge of Loreto since 2007\n",
      "History of medieval Arabic and Western European domes\n",
      "History of Italian Renaissance domes\n",
      "History of early modern period domes\n",
      "\n",
      "\n",
      "== References ==\n",
      "\n",
      "\n",
      "== Bibliography ==\n",
      "Grimaldi, Floriano (1984). La Chiesa di Santa Maria di Loreto nei documenti dei secoli XII - XV (in Italian and Latin). Ancona: Stabilimento Tipografico Mierma.\n",
      "Grimaldi, Floriano (1993). La historia della Chiesa di Santa Maria de Loreto (in Italian). Loreto: Carilo.\n",
      "Hutchison, William Antony (1863). Loreto and Nazareth: Two Lectures, Containing the Results of Personal Investigation of the Two Sanctuaries. London: E. Dillon.\n",
      "Leopardi, Monaldo (1841). La Santa Casa di Loreto: discussioni istoriche e critiche (in Italian). Lugano: presso Francesco Veladini e C. p. 1.\n",
      "Vélez, Karin (2018). The Miraculous Flying House of Loreto: Spreading Catholicism in the Early Modern World. Princeton University Press. ISBN 978-0-691-18449-4. This article incorporates text from a publication now in the public domain: Herbermann, Charles, ed. (1913). \"Santa Casa di Loreto\". Catholic Encyclopedia. New York: Robert Appleton Company.\n",
      "\n",
      "\n",
      "== External links ==\n",
      "Sanctuary of Loreto - Official site\n",
      "Frescoes in the Sacristy of St John, Basilica of Santa Casa, Loreto\n",
      "For the treasury:\n",
      "Video of the painted ceiling. Retrieved 10 April 2020.\n",
      "Photos of various exhibits. Retrieved 10 April 2020.\n"
     ]
    }
   ],
   "source": [
    "get_content_wikipedia(buildings_list[2])"
   ]
  },
  {
   "cell_type": "markdown",
   "id": "8c708dfd",
   "metadata": {},
   "source": [
    "#### References"
   ]
  },
  {
   "cell_type": "code",
   "execution_count": 30,
   "id": "7661899d",
   "metadata": {},
   "outputs": [
    {
     "name": "stdout",
     "output_type": "stream",
     "text": [
      "['http://oprelesti.blogspot.com/2012/03/icon-of-mother-of-god-addition-of-mind.html', 'http://www.catholicnews.com/data/stories/cns/1204169.htm', 'http://www.catholicnewsagency.com/news/pope-entrusts-year-of-faith-evangelization-synod-to-mary/', 'http://catholicnewsherald.com/news/world/93-news/vatican/5082-pope-adds-feast-of-our-lady-of-loreto-to-universal-calendar', 'http://www.ewtn.com/v/experts/showmessage.asp?number=444755', 'http://www.jpost.com/Travel/Jerusalem/Off-the-Beaten-Track-The-Church-of-St-Anne', 'http://webarchive.loc.gov/all/20121205203916/http://www.catholicnews.com/data/stories/cns/1204169.htm', 'http://uli.nli.org.il/F/?func=find-b&local_base=NLX10&find_code=UID&request=987007569930005171', 'http://uli.nli.org.il/F/?func=find-b&local_base=NLX10&find_code=UID&request=987007354280405171', 'http://www.italia.it/en/travel-ideas/religion-and-spirituality/the-sanctuary-of-loreto.html', 'http://www.perfettaletizia.it/archivio/servizi/loreto/img/striscia_graffiti.gif', 'http://www.perfettaletizia.it/archivio/servizi/loreto/scheda_english.html', 'http://www.newadvent.org/cathen/13454b.htm', 'http://www.newliturgicalmovement.org/2016/12/the-treasury-of-holy-house-of-loreto.html#.XpBAN0pMTIV', 'http://geohack.toolforge.org/geohack.php?pagename=Basilica_della_Santa_Casa&params=43.44095_N_13.610578_E_source:itwiki_region:IT', 'http://press.vatican.va/content/salastampa/en/bollettino/pubblico/2020/06/20/200620c.html', 'http://www.vatican.va/content/benedict-xvi/en/homilies/2012/documents/hf_ben-xvi_hom_20121004_loreto.html', 'http://www.vatican.va/content/benedict-xvi/en/prayers/documents/hf_ben-xvi_20070901_prayer-loreto.html', 'https://www.camminolauretano.com/en/La-statua', 'https://www.catholicnewsagency.com/news/45516/pope-francis-extends-loreto-jubilee-to-2021', 'https://www.catholicnewsagency.com/news/did-angels-really-carry-the-holy-house-of-mary-to-loreto-italy-25088', 'https://www.fodors.com/world/europe/italy/umbria-and-the-marches/things-to-do/sights/reviews/basilica-della-santa-casa-160757', 'https://books.google.com/books?id=4yBDgxav7dYC&pg=PP13', 'https://books.google.com/books?id=JkSk4euA-TEC&pg=PA300', 'https://books.google.com/books?id=KfhADwAAQBAJ&q=indemnity', 'https://books.google.com/books?id=VT5hDwAAQBAJ&pg=PA127', 'https://books.google.com/books?id=a92KEzlvzdIC', 'https://books.google.com/books?id=cdM3qHlNeb4C&pg=PA235', 'https://books.google.com/books?id=cg6lugEACAAJ', 'https://books.google.com/books?id=kutGAAAAcAAJ&pg=PA122', 'https://www.roman-catholic-saints.com/cathedral-of-Loreto.html', 'https://www.shrines-of-europe.com/loreto/', 'https://www.youtube.com/watch?v=LCj3sedtpK4', 'https://udayton.edu/imri/mary/b/basilica-della-santa-casa-di-loreto.php', 'https://udayton.edu/imri/mary/o/our-lady-of-loreto-and-aviation.php', 'https://catalogue.bnf.fr/ark:/12148/cb13514920q', 'https://data.bnf.fr/ark:/12148/cb13514920q', 'https://www.idref.fr/050491008', 'https://id.loc.gov/authorities/names/n97086763', 'https://www.wga.hu/html_m/s/signorel/loreto/index.html', 'https://catholicsaints.info/weningers-lives-of-the-saints-the-translation-of-the-holy-house-of-loretto/', 'https://d-nb.info/gnd/4307060-7', 'https://santuarioloreto.it/', 'https://santuarioloreto.it/la-santa-casa-da-nazareth-a-loreto/', 'https://aleteia.org/2021/05/04/rosary-day-4-from-the-basilica-of-the-annunciation-in-nazareth/', 'https://archive.org/details/bub_gb_dvsdUdTijGoC', 'https://archive.org/details/bub_gb_dvsdUdTijGoC/page/n1', 'https://web.archive.org/web/20130102054537/https://www.vatican.va/holy_father/benedict_xvi/homilies/2012/documents/hf_ben-xvi_hom_20121004_loreto_en.html', 'https://web.archive.org/web/20130102120718/https://www.vatican.va/holy_father/benedict_xvi/prayers/documents/hf_ben-xvi_20070901_prayer-loreto_en.html', 'https://web.archive.org/web/20171211053439/http://www.ewtn.com/v/experts/showmessage.asp?number=444755', 'https://www.catholicculture.org/commentary/new-optional-memorial-our-lady-loreto/', 'https://isni.org/isni/0000000121102506', 'https://tandfspi.org/ACE_vol_01/ACE_1_0181_out.html', 'https://viaf.org/viaf/134963198', 'https://www.wikidata.org/wiki/Q654996#identifiers', 'https://www.worldcat.org/identities/lccn-n87849452/', 'https://www.worldcat.org/identities/lccn-n97086763/', 'https://www.vaticannews.va/en/pope/news/2020-06/pope-francis-loreto-litany-new-invocations.html']\n"
     ]
    }
   ],
   "source": [
    "get_references(buildings_list[2])"
   ]
  },
  {
   "cell_type": "markdown",
   "id": "745dd361",
   "metadata": {},
   "source": [
    "### Group 2 Tempietto"
   ]
  },
  {
   "cell_type": "markdown",
   "id": "be42b17a",
   "metadata": {},
   "source": [
    "#### Title"
   ]
  },
  {
   "cell_type": "code",
   "execution_count": 31,
   "id": "9f7ad02d",
   "metadata": {},
   "outputs": [
    {
     "name": "stdout",
     "output_type": "stream",
     "text": [
      "San Pietro in Montorio\n"
     ]
    }
   ],
   "source": [
    "get_title_wikipedia(buildings_list[1])"
   ]
  },
  {
   "cell_type": "markdown",
   "id": "149da8ed",
   "metadata": {},
   "source": [
    "#### Summary"
   ]
  },
  {
   "cell_type": "code",
   "execution_count": 32,
   "id": "9ecb5cf3",
   "metadata": {},
   "outputs": [
    {
     "name": "stdout",
     "output_type": "stream",
     "text": [
      "San Pietro in Montorio (Saint Peter on the Golden Mountain) is a church in Rome, Italy, which includes in its courtyard the Tempietto, a small commemorative martyrium (tomb) built by Donato Bramante.\n"
     ]
    }
   ],
   "source": [
    "get_summary_wikipedia(buildings_list[1])"
   ]
  },
  {
   "cell_type": "markdown",
   "id": "359dfc63",
   "metadata": {},
   "source": [
    "#### Categories"
   ]
  },
  {
   "cell_type": "code",
   "execution_count": 33,
   "id": "e787ef16",
   "metadata": {},
   "outputs": [
    {
     "name": "stdout",
     "output_type": "stream",
     "text": [
      "['16th-century Roman Catholic church buildings in Italy', 'Articles needing translation from Dutch Wikipedia', 'Articles with GND identifiers', 'Articles with Italian-language sources (it)', 'Articles with short description', 'Church buildings with domes', 'Churches of Rome (rione Trastevere)', 'Commons link from Wikidata', 'Coordinates on Wikidata', 'Donato Bramante church buildings', 'Infobox mapframe without OSM relation ID on Wikidata', 'Pages using the Kartographer extension', 'Renaissance architecture in Rome', 'Roman Catholic churches completed in 1500', 'Short description is different from Wikidata', 'Titular churches', 'Webarchive template wayback links']\n"
     ]
    }
   ],
   "source": [
    "get_categories(buildings_list[1])"
   ]
  },
  {
   "cell_type": "markdown",
   "id": "a3167bee",
   "metadata": {},
   "source": [
    "#### Links"
   ]
  },
  {
   "cell_type": "code",
   "execution_count": 34,
   "id": "9032c6e1",
   "metadata": {},
   "outputs": [
    {
     "name": "stdout",
     "output_type": "stream",
     "text": [
      "['Acqua Paola', 'Amadeus of Portugal', 'Andrea Bolgi', 'Andrea Palladio', 'Andrea del Sarto', 'Antoniazzo Romano', 'Antonio Vassilacchi', 'Antonio da Correggio', 'Antonio da Sangallo the Younger', 'Architect', 'Art patronage of Julius II', 'Baldassare Peruzzi', 'Baldassarre Peruzzi', 'Bartolomeo Ammannati', 'Basilica of San Magno, Legnano', 'Beatification', 'Beatrice Cenci', 'Bernardino delle Croci', 'Caravaggio', 'Cardinal (Catholic)', 'Cardinal protector', 'Christ at the Column (Bramante)', 'Christian denomination', 'Christian tradition', 'Church (building)', 'Colonnade', 'Column', 'Confessor', 'Consecration', 'Cortile del Belvedere', 'Crucifixion', 'Daniele da Volterra', 'David (Michelangelo)', 'David de Haen', 'Dedication', 'Dictionary of National Biography', 'Dirck van Baburen', 'Doi (identifier)', 'Donato Bramante', 'Doric order', 'Earl of Tyrone', 'Entablature', 'Ferdinand II of Aragon', 'Ferdinand and Isabella', 'Filippo Brunelleschi', 'Flight of the Earls', 'Fra Bartolomeo', 'Francesco Baratta', 'Franciscans', 'Friar', 'Gasparo Cairano', 'Geographic coordinate system', 'Gian Lorenzo Bernini', 'Giorgio Vasari', 'Giorgione', 'Giovanni Antonio Amadeo', 'Girolamo Genga', 'Giulio Clovio', 'Giulio Mazzoni', 'Groundbreaking', 'Guido Reni', 'High Renaissance', \"Hugh O'Neill, 2nd Earl of Tyrone\", \"Hugh O'Neill, Earl of Tyrone\", \"Hugh O'Neill, The O'Neill\", 'ISBN (identifier)', 'Il Sodoma', 'Innocenzo Ciocchi Del Monte', 'Isabella I of Castile', 'Italy', 'JSTOR (identifier)', 'Jacob Burckhardt', 'James Francis Stafford', 'Janiculum', 'Johann Joachim Winckelmann', 'Lazio', 'Leonardeschi', 'Leonardo da Vinci', 'Lives of the Most Excellent Painters, Sculptors, and Architects', 'Lorenzo Lotto', 'Ludovico Beretta', 'MacMillan and Co.', 'Maffeo Olivieri', 'Mariotto Albertinelli', 'Martyrium (architecture)', 'Michelangelo', 'Milan', 'Mona Lisa', 'Moretto da Brescia', 'National churches in Rome', 'Niccolò Circignani', 'OCLC (identifier)', 'Palazzo Caprini', 'Palazzo Visconti frescoes', 'Palma Vecchio', 'Pellegrino Aretusi', 'Percy Bysshe Shelley', 'Piero di Cosimo', 'Pietà (Michelangelo)', 'Pope Alexander VI', 'Pope Julius II', 'Pope Julius III', 'Pope Sixtus IV', 'Quattro Libri', 'Raphael', 'Raphael Rooms', \"Red Hugh O'Donnell\", 'Robert Dunlop (historian)', 'Roman Catholic', 'Roman Rite', 'Rome', \"Rory O'Donnell, 1st Earl of Tyrconnell\", 'Saint Peter', 'San Giovanni in Oleo', 'Santa Constanza', 'Santa Maria della Consolazione, Todi', 'Santa Maria della Pace', 'Santa Maria delle Grazie, Milan', 'Santa Maria presso San Satiro', 'Sebastiano Serlio', 'Sebastiano del Piombo', 'Sidney Lee', 'Sistine Chapel ceiling', \"St. Peter's Basilica\", 'Tamagnino', 'Temple of Hercules Victor', 'Temple of Vesta, Tivoli', 'The Entombment of Christ (Caravaggio)', 'The Last Judgment (Michelangelo)', 'The Last Supper (Leonardo)', 'Theater of Marcellus', 'Titian', 'Titular church', 'Tomás Cardinal Ó Fiaich', 'Transfiguration (Raphael)', 'Tuscan order', 'Utrecht School', 'Vincenzo Camuccini', 'Wayback Machine']\n"
     ]
    }
   ],
   "source": [
    "get_links_wikipedia(buildings_list[1])"
   ]
  },
  {
   "cell_type": "markdown",
   "id": "0fe78883",
   "metadata": {},
   "source": [
    "#### Content"
   ]
  },
  {
   "cell_type": "code",
   "execution_count": 35,
   "id": "0d19941b",
   "metadata": {},
   "outputs": [
    {
     "name": "stdout",
     "output_type": "stream",
     "text": [
      "San Pietro in Montorio (Saint Peter on the Golden Mountain) is a church in Rome, Italy, which includes in its courtyard the Tempietto, a small commemorative martyrium (tomb) built by Donato Bramante.\n",
      "\n",
      "\n",
      "== History ==\n",
      "The Church of San Pietro in Montorio was built on the site of an earlier 9th-century church dedicated to Saint Peter on Rome's Janiculum hill. It serves as a shrine, marking the supposed site of St. Peter's crucifixion.In the 15th century, the ruins were given to the Amadist friars, a reform branch of the Franciscans, founded by the Blessed Amadeus of Portugal, who served as confessor to Pope Sixtus IV from 1472. The church was rebuilt through the generous funding of Ferdinand and Isabella of Spain. It was consecrated in 1500 by Pope Alexander VI.It is a titular church, whose current title holder, since 1 March 2008, is Cardinal James Francis Stafford.\n",
      "\n",
      "\n",
      "== Interior ==\n",
      "The church is decorated with artworks by prominent 16th- and 17th-century masters. \n",
      "Until 1797, Raphael's final masterpiece, the Transfiguration graced the high altar. At the start of the Napoleonic period, the altarpiece was expropriated by treaty by the French.  it is now in the Vatican pinacoteca. The altar currently displays a copy by Cammuccini of Guido Reni's Crucifixion of St. Peter (also now in Vatican museum). Although there is no grave marker, tradition has it that Beatrice Cenci—executed in 1599 for the murder of her abusive father and made famous by Percy Bysshe Shelley, among others—is buried below the high altar.The first chapel on the right contains Sebastiano del Piombo's Flagellation and Transfiguration (1516–24). Michelangelo, who had befriended Sebastiano in Rome, supplied figure drawings that were incorporated into the Flagellation.\n",
      "The second chapel has a fresco by Niccolò Circignani (1554), some Renaissance frescoes from the school of Pinturicchio, and an allegorical sibyl and virtue attributed to Baldassarre Peruzzi.\n",
      "The fourth chapel has a ceiling fresco by Giorgio Vasari. \n",
      "The ceiling of the fifth chapel contains another fresco, the Conversion of St. Paul, by Vasari. The altarpiece is attributed to Giulio Mazzoni, while the funerary monument of Pope Julius III and Roberto Nobili are by Bartolomeo Ammannati. Also buried in the chapel is Julius III's scandalous 'nephew', Cardinal Innocenzo Ciocchi Del Monte.\n",
      "The last chapel on the left contains a Baptism of Christ, attributed to Daniele da Volterra, and stucco-work and ceiling frescoes by Giulio Mazzoni.\n",
      "A pupil of Antoniazzo Romano frescoed the third chapel with the Saint Anne, Virgin, and Child.\n",
      "Dirck van Baburen, a central figure of the Dutch Caravaggisti, painted the Entombment for the Pietà Chapel, which is indebted to Caravaggio's example. Baburen worked with another Dutch artist, David de Haen in this chapel. The two other paintings, The Mocking of Christ and The Agony in the Garden are variously attributed to either or both of the artists.\n",
      "The second chapel on the left, the Raimondi Chapel (1640), was designed by Gian Lorenzo Bernini. It includes Francesco Baratta's Saint Francis in Ecstasy and sculptures by Andrea Bolgi and Niccolò Sale.\n",
      "\n",
      "\n",
      "== Irish chieftains' tombs ==\n",
      "\n",
      "At the high altar are two tombs: that of Hugh O'Neill, The O'Neill, 2nd Earl of Tyrone and his son Hugh who predeceased him, and the tomb shared by Rory O'Donnell, 1st Earl of Tyrconnell, and his brother Cathbharr, both of them younger brothers of Red Hugh O'Donnell.\n",
      "These fled Ireland in 1607. Rory, Lord Tyrconnell, died in 1608, his brother Cathbharr (\"Calfurnius\" in the inscription) and Hugh, the son of the Great Earl, died in 1609. The cause of death in all cases was fever, probably malaria. Their tombs are covered with marble inscribed slabs with coloured borders, crests and shields. They are about 12 feet from the altar on the left as you face it and are normally covered by a carpet.\n",
      "Lord Tyrone himself died in 1616 and was buried in the church with much less solemnity. The original simple tombstone was lost in about 1849, but the text of the short inscription was copied: \"D.O.M. Hugonis principis ONelli ossa\" (Dedicated to God the Best and Greatest. The bones of Prince Hugh O'Neill). In 1989, Tomás Cardinal Ó Fiaich laid a new marble plaque with the same inscription in approximately the original place.\n",
      "\n",
      "\n",
      "== The Tempietto ==\n",
      "\n",
      "The so-called Tempietto (Italian: 'small temple') is a small commemorative tomb (martyrium) designed by Donato Bramante, possibly built as early as 1502 in the courtyard of San Pietro in Montorio. Commissioned by Ferdinand and Isabella of Spain, the Tempietto is considered a masterpiece of High Renaissance Italian architecture.After spending his first years in Milan, Bramante moved to Rome, where he was recognized by Cardinal Giuliano della Rovere, the soon-to-be Pope Julius II. In Rome, Bramante was able to study the ancient monuments firsthand. The temple of Vesta at Tivoli was one of the precedents behind the Tempietto. Other antique precedents Bramante was able to study in Rome include the circular temple of the banks of the Tiber, Temple of Hercules Victor, believed at the time to be a temple of Vesta. However, circular churches had already been employed by early Christians for martyriums, like Santa Constanza, also in Rome. Bramante would have been aware of these early Christian precedents, and as a result, the Tempietto is circular.\n",
      "The Tempietto is one of the most harmonious buildings of the Renaissance. The temple was constructed from bearing masonry. The circular temple supports a classical entablature, and was framed in the shadowy arch of the cloister. It is the earliest example of the Tuscan order in the Renaissance. The Tuscan is a form of the Doric order, well suited for strong male gods (such as Hercules) so Tuscan was well suited for St. Peter's. It is meant to mark the traditional exact spot of St. Peter's martyrdom, and is an important precursor to Bramante's rebuilding of St. Peter's.\n",
      "Given all the transformations of Renaissance and Baroque Rome that were to follow, it is hard now to sense the impact this building had at the beginning of the 16th century. It is almost a piece of sculpture, for it has little architectonic use. The building greatly reflected Brunelleschi's style. Perfectly proportioned, it is composed of slender Tuscan columns, a Doric entablature modeled after the ancient Theater of Marcellus, and a dome. Bramante planned to surround the building with concentric rings of colonnades, the columns of which would have been radially aligned to those of the Tempietto, but this plan was never executed.\n",
      "\n",
      "\n",
      "== References ==\n",
      "\n",
      "\n",
      "== Sources ==\n",
      "\n",
      "Freiberg, Jack (2014), \"Bramante's Tempietto, the Roman Renaissance, and the Spanish Crown\", New York, Cambridge University Press, 2014.\n",
      "Fortunato, Giuseppe (2010) \"The Role of Architectural Representation in the Analysis of the Building: The 3d Survey of San Pietro in Montorio's Temple in Rome\", atti del \"X Congreso Internacional expresiòn gràphica aplicada a la edificacìon, Alicante, Editorial Marfil\", S.A., ISBN 978-84-268-1528-6.\n",
      "Satellite Photo The Tempietto is the circular dome in the center, enclosed tightly by the cloister of San Pietro in Montorio. Just west is the white hemicircle of the Acqua Paola.\n",
      "\n",
      "\n",
      "== External links ==\n",
      "High-resolution 360° Panoramas and Images of San Pietro in Montorio | Art Atlas\n",
      "High-resolution 360° Panoramas and Images of Tempietto | Art Atlas\n"
     ]
    }
   ],
   "source": [
    "get_content_wikipedia(buildings_list[1])"
   ]
  },
  {
   "cell_type": "markdown",
   "id": "e0cc59e1",
   "metadata": {},
   "source": [
    "#### References"
   ]
  },
  {
   "cell_type": "code",
   "execution_count": 36,
   "id": "54c40aaa",
   "metadata": {},
   "outputs": [
    {
     "name": "stdout",
     "output_type": "stream",
     "text": [
      "['http://www.rsai.ie/index.cfm?action=obj.display&obj_id=133', 'http://sanpietroinmontorio.it', 'http://geohack.toolforge.org/geohack.php?pagename=San_Pietro_in_Montorio&params=41.8886_N_12.4666_E_type:landmark_region:IT', 'https://deepl.com', 'https://maps.google.com/maps?q=10+via+del+corso,+rome&ll=41.888796,12.466124&spn=0.003642,0.007339&t=k&hl=en', 'https://translate.google.com/', 'https://translate.google.com/translate?&u=https://nl.wikipedia.org/wiki/Tempietto_van_San_Pietro_in_Montorio&sl=nl&tl=en&prev=_t&hl=en', 'https://mcid.mcah.columbia.edu/art-atlas/ancient-and-early-christian-sites-rome-panoramas-world-architecture/san-pietro-montorio', 'https://mcid.mcah.columbia.edu/art-atlas/ancient-and-early-christian-sites-rome/tempietto', 'https://d-nb.info/gnd/4823245-2', 'https://www.turismoroma.it/en/places/church-san-pietro-montorio', 'https://archive.org/details/DictionaryOfNationalBiographyVolume42_630/page/n200/', 'https://web.archive.org/web/20110927165828/http://www.rsai.ie/index.cfm?action=obj.display&obj_id=133', 'https://doi.org/10.1163%2F187501766X00270', 'https://doi.org/10.2307%2F3048868', 'https://www.jstor.org/stable/3048868', 'https://www.jstor.org/stable/42711371', 'https://www.wikidata.org/wiki/Q1258576#identifiers', 'https://www.worldcat.org/oclc/8544105']\n"
     ]
    }
   ],
   "source": [
    "get_references(buildings_list[1])"
   ]
  },
  {
   "cell_type": "markdown",
   "id": "74e3f2f5",
   "metadata": {},
   "source": [
    "### Group 3 Villa Emo"
   ]
  },
  {
   "cell_type": "markdown",
   "id": "b7d86777",
   "metadata": {},
   "source": [
    "#### Title"
   ]
  },
  {
   "cell_type": "code",
   "execution_count": 37,
   "id": "ab4b8f85",
   "metadata": {},
   "outputs": [
    {
     "name": "stdout",
     "output_type": "stream",
     "text": [
      "Villa Emo\n"
     ]
    }
   ],
   "source": [
    "get_title_wikipedia(buildings_list[3])"
   ]
  },
  {
   "cell_type": "markdown",
   "id": "0e8648fa",
   "metadata": {},
   "source": [
    "#### Summary"
   ]
  },
  {
   "cell_type": "code",
   "execution_count": 38,
   "id": "ddbd2a65",
   "metadata": {},
   "outputs": [
    {
     "name": "stdout",
     "output_type": "stream",
     "text": [
      "Villa Emo is one of the many creations conceived by Italian Renaissance architect Andrea Palladio. It is a patrician villa located in the Veneto region of northern Italy, near the village of Fanzolo di Vedelago, in the Province of Treviso. The patron of this villa was Leonardo Emo and remained in the hands of the Emo family until it was sold in 2004.  Since 1996, it has been conserved as part of the World Heritage Site \"City of Vicenza and the Palladian Villas of the Veneto\".\n"
     ]
    }
   ],
   "source": [
    "get_summary_wikipedia(buildings_list[3])"
   ]
  },
  {
   "cell_type": "markdown",
   "id": "a3f5d340",
   "metadata": {},
   "source": [
    "#### Categories"
   ]
  },
  {
   "cell_type": "code",
   "execution_count": 39,
   "id": "86bbc4a8",
   "metadata": {},
   "outputs": [
    {
     "name": "stdout",
     "output_type": "stream",
     "text": [
      "['1565 establishments in the Republic of Venice', 'Andrea Palladio buildings', 'Articles containing Italian-language text', 'Articles with Italian-language sources (it)', 'Articles with VIAF identifiers', 'Articles with short description', 'Commons category link is on Wikidata', 'Coordinates on Wikidata', 'Historic house museums in Italy', 'Houses completed in 1565', 'Lang and lang-xx code promoted to ISO 639-1', 'Museums in Veneto', 'Palladian villas of Veneto', 'Renaissance architecture in Veneto', 'Short description is different from Wikidata', 'Villas in Veneto', 'Webarchive template wayback links']\n"
     ]
    }
   ],
   "source": [
    "get_categories(buildings_list[3])"
   ]
  },
  {
   "cell_type": "markdown",
   "id": "b213a4b5",
   "metadata": {},
   "source": [
    "#### Links"
   ]
  },
  {
   "cell_type": "code",
   "execution_count": 40,
   "id": "466fbcad",
   "metadata": {},
   "outputs": [
    {
     "name": "stdout",
     "output_type": "stream",
     "text": [
      "['A&E Network', 'Abbeville Publishing Group (Abbeville Press, Inc.)', 'Andrea Palladio', 'Architecture', 'Arco delle Scalette', 'Astronomy', 'Barbarigo family', 'Basilica Palladiana', 'Bob Vila', 'Casa Cogollo', \"Charles Scribner's Sons\", 'Church of San Giorgio Maggiore', 'City of Vicenza and the Palladian Villas of the Veneto', 'Coffer', 'Emo family', 'Festoon', 'Francesco Muttoni', 'Fresco', 'Geographic coordinate system', 'Giovanni Battista Zelotti', 'ISBN (identifier)', \"I quattro libri dell'architettura\", 'Il Redentore', 'Italy', 'Jewel of Vicenza', 'Le Zitelle', 'Loggia', 'Loggia Valmarana', 'Maize', 'Millet', 'Montecchio Maggiore', 'Palace', 'Palazzo Antonini, Udine', 'Palazzo Barbaran da Porto', 'Palazzo Chiericati', 'Palazzo Civena', 'Palazzo Dalla Torre', 'Palazzo Pojana, Vicenza', 'Palazzo Porto, Vicenza', 'Palazzo Porto in Piazza Castello', 'Palazzo Pretorio (Cividale del Friuli)', 'Palazzo Schio', 'Palazzo Thiene', 'Palazzo Thiene Bonin Longare', 'Palazzo Valmarana', 'Palazzo del Capitaniato', 'Palazzo della Loggia (Brescia)', 'Palladian Villas of the Veneto', 'Palladian architecture', 'Palladian villas of the Veneto', 'Piano nobile', 'Ponte Vecchio, Bassano', 'Republic of Venice', \"Ripley's Game (film)\", 'San Francesco della Vigna', 'San Giorgio Monastery', 'San Pietro di Castello (church)', 'Santa Maria Nova, Vicenza', 'Scipio Africanus', 'Table of World Heritage Sites by country', 'Taschen', 'Teatro Olimpico', 'The Perfect House: A Journey with Renaissance Master Andrea Palladio', 'Thiene', 'Threshing', 'Threshing floor', \"Trompe-l'œil\", 'Tuscan order', 'Valmarana Chapel', 'Vedelago', 'Veneto', 'Venus (mythology)', 'Vicenza', 'Villa', 'Villa Angarano', 'Villa Arnaldi', 'Villa Badoer', 'Villa Barbaro', 'Villa Caldogno', 'Villa Capra \"La Rotonda\"', 'Villa Chiericati', 'Villa Cordellina', 'Villa Cornaro', 'Villa Forni Cerato', 'Villa Foscari', 'Villa Gazzotti Grimani', 'Villa Godi', 'Villa Piovene', 'Villa Pisani, Bagnolo', 'Villa Pisani, Montagnana', 'Villa Pojana', 'Villa Porto, Molina di Malo', 'Villa Porto (Vivaro di Dueville)', 'Villa Repeta', 'Villa Saraceno', 'Villa Serego', 'Villa Thiene', 'Villa Trissino (Cricoli)', 'Villa Trissino (Meledo di Sarego)', 'Villa Valmarana (Lisiera)', 'Villa Valmarana (Vigardolo)', 'Villa Zeno', 'Villa la Porto Colleoni', 'War of the League of Cambrai', 'Wayback Machine', 'Wing of the Villa Thiene (Cicogna)', 'Witold Rybczynski', 'World Heritage Committee', 'World Heritage Site']\n"
     ]
    }
   ],
   "source": [
    "get_links_wikipedia(buildings_list[3])"
   ]
  },
  {
   "cell_type": "markdown",
   "id": "acc6e3bc",
   "metadata": {},
   "source": [
    "#### Content"
   ]
  },
  {
   "cell_type": "code",
   "execution_count": 41,
   "id": "e5f9747c",
   "metadata": {},
   "outputs": [
    {
     "name": "stdout",
     "output_type": "stream",
     "text": [
      "Villa Emo is one of the many creations conceived by Italian Renaissance architect Andrea Palladio. It is a patrician villa located in the Veneto region of northern Italy, near the village of Fanzolo di Vedelago, in the Province of Treviso. The patron of this villa was Leonardo Emo and remained in the hands of the Emo family until it was sold in 2004.  Since 1996, it has been conserved as part of the World Heritage Site \"City of Vicenza and the Palladian Villas of the Veneto\".\n",
      "\n",
      "\n",
      "== History ==\n",
      "Andrea Palladio's architectural fame is considered to have come from the many villas he designed. The building of Villa Emo was the culmination of a long-lasting project of the patrician Emo family of the Republic of Venice to develop its estates at Fanzolo.  In 1509, which saw the defeat of Venice in the War of the League of Cambrai, the estate on which the villa was to be built was bought from the Barbarigo family. Leonardo di Giovannia Emo was a well-known Venetian aristocrat. He was born in 1538 and inherited the Fanzolo estate in 1549. This property was dedicated to the agricultural activities from which the family prospered. The Emo family's central interest was at first in the cultivation of their newly acquired land. Not until two generations had passed did Leonardo Emo commission Palladio to build a new villa in Fanzolo.\n",
      "Historians do not have firm chronology of dates on the design, construction, or the commencement of the new building: the years 1555 or 1558 is estimated to have been when the building was designed, while the construction was thought to have been undertaken between 1558 and 1561. There is no evidence showing that the villa was built by 1549: however, it has been documented to have been built by 1561. The 1560s saw the interior decoration added and the consecration of the chapel in the west barchesse in 1567. The date of completion is put at 1565; a document which attests to the marriage of Leonardo di Alvise with Cornelia Grimani has lasted from that year.Partial alterations were made to the Villa Emo in 1744 by Francesco Muttoni. Arches within both wings that were close to the central build were sealed off and additional residential areas were created. The ceilings were altered in 1937–1940. The villa and its surrounding estate were purchased in 2004 by an institution and further restorations were made.  Since 1996, it has been conserved as part of the World Heritage Site \"City of Vicenza and the Palladian Villas of the Veneto\".The villa is at the centre of an extensive area that bears centuriation, or land divisions, and extends northward. The landscape of Fanzolo has a continuous history since Roman times and it has been suggested that the layout of the villa reflects the straight lines of the Roman roads.\n",
      "\n",
      "\n",
      "== Architecture ==\n",
      "Villa Emo was a product of Palladio's later period of architecture. It is one of the most accomplished of the Palladian Villas, showing the benefit of 20 years of Palladio's experience in domestic architecture. It has been praised for the simple mathematical relationships expressed in its proportions, both in the elevation and the dimensions of the rooms.\n",
      "\n",
      "Palladio used mathematics to create the ideal villa. These “harmonic proportions” were a formulation of Palladio's design theory. He thought that the beauty of architecture was not in the use of orders and ornamentation, but in architecture devoid of ornamentation, which could still be a delight to the eye if aesthetically pleasing portions were incorporated.\n",
      "In 1570, Palladio published a plan of the villa in his treatise I quattro libri dell'architettura. Unlike some of the other plans he included in this work, the one of Villa Emo corresponds nearly exactly to what was built. His classical architecture has stood the test of time and designers still look to Palladio for inspiration.  \n",
      "\n",
      "The layout of the villa and its estate is strategically placed along the pre-existing Roman grid plan. There is a long rectangular axis that runs across the estate in a north–south direction. The agricultural crop fields and tree groves were laid out and arranged along the long axis, as was the villa.The outer appearance of the Villa Emo is marked by a simple treatment of the body of the building, whose structure is determined by a geometrical rhythm. The construction consists of brick-work with a plaster finish, visible wooden beams seen in the spaces of the piano nobile, and coffered ceilings like that within the loggia. The central structure is an almost square residential area. The living quarters are raised above ground-level, as are all of Palladio's other villas.\n",
      "Instead of the usual staircase going up to the main front door, the building has a ramp with a gentle slope that is as wide as the pronaos. This reveals the agricultural tradition of this complex. The ramp, an innovation in Palladian villas, was necessary for transportation to the granaries by wheelbarrows loaded with food products and other goods. The wide ramp leads to the loggia which takes the form of a column portico crowned by a gable – a temple front which Palladio applied to secular buildings. As in the case with the Villa Badoer, the loggia does not stand out from the core of the building as an entrance hall, but is retracted into it. The emphasis of simplicity extends to the column order of the loggia, for which Palladio chose the plain Tuscan order. Plain windows embellish the piano nobile as well as the attic.\n",
      "The central building of the villa is framed by two symmetrical long, lower colonnaded wings, or barchesses, which originally housed agricultural facilities, like granaries, cellars, and other service areas. This was a working villa like Villa Badoer and a number of the other designs by Palladio. Both wings end with tall dovecotes which are structures that house nesting holes for domesticated pigeons. An arcade on the wings face the garden, consisting of columns that have rectangular blocks for the bases and capitols. The west barchesse also contains a chapel. The barchesses merge with the central residence, forming one architectural unit. This typological format of a villa-farm was invented by Palladio and can be found at Villa Barbaro and Villa Baroer.Palladio emphasises the usefulness of the lay-out in his treatise. He points out that the grain stores and work areas could be reached under cover, which was particularly important. Also, it was necessary for the Villa Emo's size to correspond to the returns obtained by good management. These returns must in fact have been considerable, for the side-wings of the building are unusually long, a visible symbol of prosperity. The Emo family introduced the cultivation of maize on their estate (and the plant, still new in Europe, is depicted in one of Zelotti's frescoes). In contrast to the traditional cultivation of millet, considerably higher returns could be obtained from the maize. It is not clear if the long walk, made of large square paving-stones, which leads to the front of the house, served a practical purpose. It seems to be a fifteenth-century threshing floor. However, Palladio advised that threshing should not be carried out near a house.\n",
      "\n",
      "\n",
      "== Frescoes ==\n",
      "\n",
      "The exterior is simple, bare of any decoration. In contrast, the interior is richly decorated with frescoes by the Veronese painter Giovanni Battista Zelotti, who also worked on Villa Foscari and other Palladian villas. The main series of frescoes in the villa is grouped in an area with scenes featuring Venus, the goddess of love. Zelotti appears to have completed the work on the frescoes by 1566.In the loggia, the frescoes have representations of Callisto, Jupiter, Jupiter in the Guise of Diana, and Calisto transformed into a Bear by Juno. The Great Room is filled with frescoes that were placed between Corinthian columns that rise from high pedestals. The events in the frescoes concentrate on humanistic ideals and Roman history alluding to marital virtues. Exemplary scenes include Virtue portrayed in a scene from the life of Scipio Africanus. On the left wall is the scene of Scipio returning the girl betrothed to Allucius and the right wall a scene showing The Killing of Virginia. The sides of these frescoes have false niches that consist of monochrome figures: Jupiter holding a torch, Juno and the Peacock, Neptune with the Dolphin, and Cybele with the Lioness. These figures allude to the four natural elements (fire, air, water, earth). Side panels contain enormous prisoners emerging from the false architectural framework. On the south wall of the great hall toward the vestibule is a false broken pediment that appears above a real entrance arch. A fresco of two female figures, Prudence with the Mirror and Peace with an Olive Branch, can be seen. The North wall at the center of the upper part of the building contains the crest of the Emo Family. It is carved and gilt wood, surrounded by trompe-l'œil cornices and festoons.To the left of the central chamber is the Hall of Hercules. It contains episodes referring mainly to the mythological hero. The intent was to emphasize the victory of virtue and reason over vice. The frescoes are inserted in a framework of false ionic columns. The east wall contains scenes of Hercules embracing Dejanira, Hercules throwing Lica into the sea, and The Fame of Hercules at the center. The west wall is Hercules at the Stake, placed within false arches. On the south wall is a panel above the doorway that depicts a Noli me Tangere (“Touch Me Not”) scene.To the right of the central chamber is the Hall of Venus. This hall contains episodes that refer to the Goddess of Love. On the west wall within false arches are the scenes of Venus detering Adonis from Hunting and Venus aiding the Wounded Adonis. The east wall fresco shows Venus wounded by Love. On the south wall is a panel above the doorway that shows Penitent St. Jerome.\n",
      "The Abstinence of Scipio appears frequently in cycles of frescoes for Venetian villas. For example, the Villa la Porto Colleoni in Thiene and Villa Cordellina in Montecchio Maggiore, built nearly 200 years later, also use this image, fostering ideals which, had in the 15th and 16th centuries, resulted from the renewed discussion of the depravity of town life, in contrast to the tranquility, abundance, and freedom of artistic thought associated with rural existence. Hence, another room in the villa is called the Room of the Arts, featuring frescoes with allegories of individual arts, such as astronomy, poetry or music. Within the many frescoes are depictions of different flowers and fruit, including corn, only recently introduced into the Po Valley. Many of the frescoes are presented within false architecture, like columns, arches and architectural framework.\n",
      "\n",
      "\n",
      "== Media ==\n",
      "\n",
      "In the 1990s Villa Emo was featured in Guide to Historic Homes: In Search of Palladio, Bob Vila's three-part six-hour production for A&E Network.\n",
      "The 2002 movie Ripley's Game used the Villa Emo as a location.\n",
      "\n",
      "\n",
      "== See also ==\n",
      "Palladian Villas of the Veneto\n",
      "Palladian architecture\n",
      "\n",
      "\n",
      "== References ==\n",
      "\n",
      "\n",
      "== Sources ==\n",
      "\n",
      "\n",
      "== External links ==\n",
      "\n",
      "Villa Emo - official site\n"
     ]
    }
   ],
   "source": [
    "get_content_wikipedia(buildings_list[3])"
   ]
  },
  {
   "cell_type": "markdown",
   "id": "50fa921a",
   "metadata": {},
   "source": [
    "#### References"
   ]
  },
  {
   "cell_type": "code",
   "execution_count": 42,
   "id": "26a53a97",
   "metadata": {},
   "outputs": [
    {
     "name": "stdout",
     "output_type": "stream",
     "text": [
      "['http://www.bobvila.com/BVTV/AE/Palladio.html', 'http://dougrayscottinfocus.com/rg_news.htm', 'http://www.cisapalladio.org/veneto/scheda.php?sezione=4&architettura=8&lingua=e', 'http://geohack.toolforge.org/geohack.php?pagename=Villa_Emo&params=45_42_42.2_N_11_59_28.4_E_type:landmark', 'http://www.villaemo.org', 'https://www.researchgate.net/publication/225930349', 'https://archive.org/details/andreapalladioar00bouc', 'https://web.archive.org/web/20080609225719/http://dougrayscottinfocus.com/rg_news.htm', 'https://web.archive.org/web/20080610115154/http://www.cisapalladio.org/veneto/scheda.php?sezione=4&architettura=8&lingua=e', 'https://whc.unesco.org/en/list/712bis-019', 'https://viaf.org/viaf/243841286', 'https://www.villaemo.org/home-uk', 'https://www.wikidata.org/wiki/Q1258865#identifiers']\n"
     ]
    }
   ],
   "source": [
    "get_references(buildings_list[3])"
   ]
  },
  {
   "cell_type": "markdown",
   "id": "050b5a00",
   "metadata": {},
   "source": [
    "## Querying Wikidata "
   ]
  },
  {
   "cell_type": "code",
   "execution_count": 68,
   "id": "a29c7881",
   "metadata": {},
   "outputs": [],
   "source": [
    "def query_wikidata(sparql_query, sparql_service_url):\n",
    "    \"\"\"\n",
    "    \n",
    "    Query the endpoint with the given query string and return the results as a pandas Dataframe.\n",
    "    \n",
    "    \"\"\"\n",
    "    # create the connection to the endpoint\n",
    "\n",
    "    sparql = SPARQLWrapper(sparql_service_url)  \n",
    "    \n",
    "    sparql.setQuery(sparql_query)\n",
    "    sparql.setReturnFormat(JSON)\n",
    "\n",
    "    # ask for the result\n",
    "    result = sparql.query().convert()\n",
    "    result = pd.json_normalize(result[\"results\"][\"bindings\"])\n",
    "    result = result.loc[:, result.columns.str.contains('value')]\n",
    "    result.columns = result.columns.str.replace('.value', '')\n",
    "    return result"
   ]
  },
  {
   "cell_type": "markdown",
   "id": "3fcd1342",
   "metadata": {},
   "source": [
    "### Let's first look at the properties that we are going to retrieve from Wikidata"
   ]
  },
  {
   "cell_type": "code",
   "execution_count": 75,
   "id": "f185ef8d",
   "metadata": {},
   "outputs": [
    {
     "name": "stderr",
     "output_type": "stream",
     "text": [
      "<ipython-input-68-2c905d373eb7>:18: FutureWarning: The default value of regex will change from True to False in a future version.\n",
      "  result.columns = result.columns.str.replace('.value', '')\n"
     ]
    },
    {
     "data": {
      "text/html": [
       "<div>\n",
       "<style scoped>\n",
       "    .dataframe tbody tr th:only-of-type {\n",
       "        vertical-align: middle;\n",
       "    }\n",
       "\n",
       "    .dataframe tbody tr th {\n",
       "        vertical-align: top;\n",
       "    }\n",
       "\n",
       "    .dataframe thead th {\n",
       "        text-align: right;\n",
       "    }\n",
       "</style>\n",
       "<table border=\"1\" class=\"dataframe\">\n",
       "  <thead>\n",
       "    <tr style=\"text-align: right;\">\n",
       "      <th></th>\n",
       "      <th>property</th>\n",
       "      <th>propDescription</th>\n",
       "      <th>propLabel</th>\n",
       "    </tr>\n",
       "  </thead>\n",
       "  <tbody>\n",
       "    <tr>\n",
       "      <th>0</th>\n",
       "      <td>http://www.wikidata.org/prop/direct/P18</td>\n",
       "      <td>image of relevant illustration of the subject; if available, also use more specific properties (sample: coat of arms image, locator map, flag image, signature image, logo image, collage image)</td>\n",
       "      <td>image</td>\n",
       "    </tr>\n",
       "    <tr>\n",
       "      <th>1</th>\n",
       "      <td>http://www.wikidata.org/prop/direct/P31</td>\n",
       "      <td>that class of which this subject is a particular example and member; different from P279 (subclass of); for example: K2 is an instance of mountain; volcano is a subclass of mountain (and an instance of volcanic landform)</td>\n",
       "      <td>instance of</td>\n",
       "    </tr>\n",
       "    <tr>\n",
       "      <th>2</th>\n",
       "      <td>http://www.wikidata.org/prop/direct/P84</td>\n",
       "      <td>person or architectural firm responsible for designing this building</td>\n",
       "      <td>architect</td>\n",
       "    </tr>\n",
       "    <tr>\n",
       "      <th>3</th>\n",
       "      <td>http://www.wikidata.org/prop/direct/P112</td>\n",
       "      <td>founder or co-founder of this organization, religion or place</td>\n",
       "      <td>founded by</td>\n",
       "    </tr>\n",
       "    <tr>\n",
       "      <th>4</th>\n",
       "      <td>http://www.wikidata.org/prop/direct/P149</td>\n",
       "      <td>architectural style of a structure</td>\n",
       "      <td>architectural style</td>\n",
       "    </tr>\n",
       "    <tr>\n",
       "      <th>5</th>\n",
       "      <td>http://www.wikidata.org/prop/direct/P186</td>\n",
       "      <td>material the subject or the object is made of or derived from (do not confuse with P10672 which is used for processes)</td>\n",
       "      <td>made from material</td>\n",
       "    </tr>\n",
       "    <tr>\n",
       "      <th>6</th>\n",
       "      <td>http://www.wikidata.org/prop/direct/P131</td>\n",
       "      <td>the item is located on the territory of the following administrative entity. Use P276 for specifying locations that are non-administrative places and for items about events. Use P1382 if the item falls only partially into the administrative entity.</td>\n",
       "      <td>located in the administrative territorial entity</td>\n",
       "    </tr>\n",
       "    <tr>\n",
       "      <th>7</th>\n",
       "      <td>http://www.wikidata.org/prop/direct/P361</td>\n",
       "      <td>object of which the subject is a part (if this subject is already part of object A which is a part of object B, then please only make the subject part of object A), inverse property of \"has part\" (P527, see also \"has parts of the class\" (P2670))</td>\n",
       "      <td>part of</td>\n",
       "    </tr>\n",
       "    <tr>\n",
       "      <th>8</th>\n",
       "      <td>http://www.wikidata.org/prop/direct/P625</td>\n",
       "      <td>geocoordinates of the subject. For Earth, please note that only WGS84 coordinating system is supported at the moment</td>\n",
       "      <td>coordinate location</td>\n",
       "    </tr>\n",
       "    <tr>\n",
       "      <th>9</th>\n",
       "      <td>http://www.wikidata.org/prop/direct/P366</td>\n",
       "      <td>main use of the subject (includes current and former usage)</td>\n",
       "      <td>has use</td>\n",
       "    </tr>\n",
       "    <tr>\n",
       "      <th>10</th>\n",
       "      <td>http://www.wikidata.org/prop/direct/P571</td>\n",
       "      <td>time when an entity begins to exist; for date of official opening use P1619</td>\n",
       "      <td>inception</td>\n",
       "    </tr>\n",
       "  </tbody>\n",
       "</table>\n",
       "</div>"
      ],
      "text/plain": [
       "                                    property                                                                                                                                                                                                                                           propDescription                                         propLabel\n",
       "0    http://www.wikidata.org/prop/direct/P18                                                          image of relevant illustration of the subject; if available, also use more specific properties (sample: coat of arms image, locator map, flag image, signature image, logo image, collage image)                                             image\n",
       "1    http://www.wikidata.org/prop/direct/P31                              that class of which this subject is a particular example and member; different from P279 (subclass of); for example: K2 is an instance of mountain; volcano is a subclass of mountain (and an instance of volcanic landform)                                       instance of\n",
       "2    http://www.wikidata.org/prop/direct/P84                                                                                                                                                                                      person or architectural firm responsible for designing this building                                         architect\n",
       "3   http://www.wikidata.org/prop/direct/P112                                                                                                                                                                                             founder or co-founder of this organization, religion or place                                        founded by\n",
       "4   http://www.wikidata.org/prop/direct/P149                                                                                                                                                                                                                        architectural style of a structure                               architectural style\n",
       "5   http://www.wikidata.org/prop/direct/P186                                                                                                                                    material the subject or the object is made of or derived from (do not confuse with P10672 which is used for processes)                                made from material\n",
       "6   http://www.wikidata.org/prop/direct/P131  the item is located on the territory of the following administrative entity. Use P276 for specifying locations that are non-administrative places and for items about events. Use P1382 if the item falls only partially into the administrative entity.  located in the administrative territorial entity\n",
       "7   http://www.wikidata.org/prop/direct/P361     object of which the subject is a part (if this subject is already part of object A which is a part of object B, then please only make the subject part of object A), inverse property of \"has part\" (P527, see also \"has parts of the class\" (P2670))                                           part of\n",
       "8   http://www.wikidata.org/prop/direct/P625                                                                                                                                      geocoordinates of the subject. For Earth, please note that only WGS84 coordinating system is supported at the moment                               coordinate location\n",
       "9   http://www.wikidata.org/prop/direct/P366                                                                                                                                                                                               main use of the subject (includes current and former usage)                                           has use\n",
       "10  http://www.wikidata.org/prop/direct/P571                                                                                                                                                                               time when an entity begins to exist; for date of official opening use P1619                                         inception"
      ]
     },
     "execution_count": 75,
     "metadata": {},
     "output_type": "execute_result"
    }
   ],
   "source": [
    "wikidata_service_url = \"https://query.wikidata.org/sparql\"\n",
    "\n",
    "properties_query = \"\"\"\n",
    "PREFIX wikibase: <http://wikiba.se/ontology#>\n",
    "PREFIX wd: <http://www.wikidata.org/entity/>\n",
    "PREFIX wdt: <http://www.wikidata.org/prop/direct/>\n",
    "\n",
    "SELECT ?property ?propLabel ?propDescription WHERE {\n",
    "  VALUES ?property { wdt:P31 wdt:P361 wdt:P571 wdt:P112 wdt:P131 wdt:P625 wdt:P18 wdt:P186 wdt:P149 wdt:P366 wdt:P84 }\n",
    "  ?prop wikibase:directClaim ?property .\n",
    "  ?prop schema:description ?propDescription .\n",
    "  FILTER (lang(?propDescription) = \"en\")\n",
    "  SERVICE wikibase:label { bd:serviceParam wikibase:language \"en\". }\n",
    "}\n",
    "\"\"\"\n",
    "query_wikidata(properties_query, wikidata_service_url)"
   ]
  },
  {
   "cell_type": "markdown",
   "id": "260ac578",
   "metadata": {},
   "source": [
    "### Working with Wikidata identifiers\n",
    "Each building from the list has a unique Wikidata identifier. You will find a corresponding identifier in the next cell. "
   ]
  },
  {
   "cell_type": "raw",
   "id": "147634f0",
   "metadata": {},
   "source": [
    "Colosseum: wd:Q10285\n",
    "Tempietto: wd:Q12960184\n",
    "Santa Casa of Loreto: wd:Q3674052\n",
    "Villa Emo: wd:Q1258865\n",
    "Versailles: wd:Q2946\n",
    "Panthéon: wd:Q188856\n",
    "Altes Museum: wd:Q156722\n"
   ]
  },
  {
   "cell_type": "markdown",
   "id": "82dc6e82",
   "metadata": {},
   "source": [
    "####  <span style=\"color:DarkRed\">!!! Action needed: Change the identifier within the qoutes in the \"my_building\" variable </span>\n",
    "\n"
   ]
  },
  {
   "cell_type": "code",
   "execution_count": 113,
   "id": "bb6f29f5",
   "metadata": {},
   "outputs": [
    {
     "name": "stderr",
     "output_type": "stream",
     "text": [
      "<ipython-input-68-2c905d373eb7>:18: FutureWarning: The default value of regex will change from True to False in a future version.\n",
      "  result.columns = result.columns.str.replace('.value', '')\n"
     ]
    },
    {
     "data": {
      "text/html": [
       "<div>\n",
       "<style scoped>\n",
       "    .dataframe tbody tr th:only-of-type {\n",
       "        vertical-align: middle;\n",
       "    }\n",
       "\n",
       "    .dataframe tbody tr th {\n",
       "        vertical-align: top;\n",
       "    }\n",
       "\n",
       "    .dataframe thead th {\n",
       "        text-align: right;\n",
       "    }\n",
       "</style>\n",
       "<table border=\"1\" class=\"dataframe\">\n",
       "  <thead>\n",
       "    <tr style=\"text-align: right;\">\n",
       "      <th></th>\n",
       "      <th>description</th>\n",
       "      <th>subjectLabel</th>\n",
       "      <th>predicateLabel</th>\n",
       "      <th>propertyLabel</th>\n",
       "      <th>objectLabel</th>\n",
       "    </tr>\n",
       "  </thead>\n",
       "  <tbody>\n",
       "    <tr>\n",
       "      <th>0</th>\n",
       "      <td>ancient Roman amphitheatre, a landmark of Rome, Italy</td>\n",
       "      <td>Colosseum</td>\n",
       "      <td>http://www.wikidata.org/prop/direct/P18</td>\n",
       "      <td>image</td>\n",
       "      <td>http://commons.wikimedia.org/wiki/Special:FilePath/Coliseo%2C%20Roma%2C%20Italia%2C%202022-09-15%2C%20DD%2096.jpg</td>\n",
       "    </tr>\n",
       "    <tr>\n",
       "      <th>1</th>\n",
       "      <td>ancient Roman amphitheatre, a landmark of Rome, Italy</td>\n",
       "      <td>Colosseum</td>\n",
       "      <td>http://www.wikidata.org/prop/direct/P31</td>\n",
       "      <td>instance of</td>\n",
       "      <td>archaeological artifact museum</td>\n",
       "    </tr>\n",
       "    <tr>\n",
       "      <th>2</th>\n",
       "      <td>ancient Roman amphitheatre, a landmark of Rome, Italy</td>\n",
       "      <td>Colosseum</td>\n",
       "      <td>http://www.wikidata.org/prop/direct/P31</td>\n",
       "      <td>instance of</td>\n",
       "      <td>historical civil building museum</td>\n",
       "    </tr>\n",
       "    <tr>\n",
       "      <th>3</th>\n",
       "      <td>ancient Roman amphitheatre, a landmark of Rome, Italy</td>\n",
       "      <td>Colosseum</td>\n",
       "      <td>http://www.wikidata.org/prop/direct/P31</td>\n",
       "      <td>instance of</td>\n",
       "      <td>Roman amphitheatre</td>\n",
       "    </tr>\n",
       "    <tr>\n",
       "      <th>4</th>\n",
       "      <td>ancient Roman amphitheatre, a landmark of Rome, Italy</td>\n",
       "      <td>Colosseum</td>\n",
       "      <td>http://www.wikidata.org/prop/direct/P31</td>\n",
       "      <td>instance of</td>\n",
       "      <td>Italian national museum</td>\n",
       "    </tr>\n",
       "    <tr>\n",
       "      <th>5</th>\n",
       "      <td>ancient Roman amphitheatre, a landmark of Rome, Italy</td>\n",
       "      <td>Colosseum</td>\n",
       "      <td>http://www.wikidata.org/prop/direct/P31</td>\n",
       "      <td>instance of</td>\n",
       "      <td>archaeological site</td>\n",
       "    </tr>\n",
       "    <tr>\n",
       "      <th>6</th>\n",
       "      <td>ancient Roman amphitheatre, a landmark of Rome, Italy</td>\n",
       "      <td>Colosseum</td>\n",
       "      <td>http://www.wikidata.org/prop/direct/P31</td>\n",
       "      <td>instance of</td>\n",
       "      <td>tourist attraction</td>\n",
       "    </tr>\n",
       "    <tr>\n",
       "      <th>7</th>\n",
       "      <td>ancient Roman amphitheatre, a landmark of Rome, Italy</td>\n",
       "      <td>Colosseum</td>\n",
       "      <td>http://www.wikidata.org/prop/direct/P31</td>\n",
       "      <td>instance of</td>\n",
       "      <td>stadium</td>\n",
       "    </tr>\n",
       "    <tr>\n",
       "      <th>8</th>\n",
       "      <td>ancient Roman amphitheatre, a landmark of Rome, Italy</td>\n",
       "      <td>Colosseum</td>\n",
       "      <td>http://www.wikidata.org/prop/direct/P112</td>\n",
       "      <td>founded by</td>\n",
       "      <td>Vespasian</td>\n",
       "    </tr>\n",
       "    <tr>\n",
       "      <th>9</th>\n",
       "      <td>ancient Roman amphitheatre, a landmark of Rome, Italy</td>\n",
       "      <td>Colosseum</td>\n",
       "      <td>http://www.wikidata.org/prop/direct/P131</td>\n",
       "      <td>located in the administrative territorial entity</td>\n",
       "      <td>Municipio I</td>\n",
       "    </tr>\n",
       "    <tr>\n",
       "      <th>10</th>\n",
       "      <td>ancient Roman amphitheatre, a landmark of Rome, Italy</td>\n",
       "      <td>Colosseum</td>\n",
       "      <td>http://www.wikidata.org/prop/direct/P149</td>\n",
       "      <td>architectural style</td>\n",
       "      <td>ancient Roman architecture</td>\n",
       "    </tr>\n",
       "    <tr>\n",
       "      <th>11</th>\n",
       "      <td>ancient Roman amphitheatre, a landmark of Rome, Italy</td>\n",
       "      <td>Colosseum</td>\n",
       "      <td>http://www.wikidata.org/prop/direct/P186</td>\n",
       "      <td>made from material</td>\n",
       "      <td>tuff</td>\n",
       "    </tr>\n",
       "    <tr>\n",
       "      <th>12</th>\n",
       "      <td>ancient Roman amphitheatre, a landmark of Rome, Italy</td>\n",
       "      <td>Colosseum</td>\n",
       "      <td>http://www.wikidata.org/prop/direct/P186</td>\n",
       "      <td>made from material</td>\n",
       "      <td>travertine</td>\n",
       "    </tr>\n",
       "    <tr>\n",
       "      <th>13</th>\n",
       "      <td>ancient Roman amphitheatre, a landmark of Rome, Italy</td>\n",
       "      <td>Colosseum</td>\n",
       "      <td>http://www.wikidata.org/prop/direct/P186</td>\n",
       "      <td>made from material</td>\n",
       "      <td>concrete</td>\n",
       "    </tr>\n",
       "    <tr>\n",
       "      <th>14</th>\n",
       "      <td>ancient Roman amphitheatre, a landmark of Rome, Italy</td>\n",
       "      <td>Colosseum</td>\n",
       "      <td>http://www.wikidata.org/prop/direct/P361</td>\n",
       "      <td>part of</td>\n",
       "      <td>parco archeologico del Colosseo</td>\n",
       "    </tr>\n",
       "    <tr>\n",
       "      <th>15</th>\n",
       "      <td>ancient Roman amphitheatre, a landmark of Rome, Italy</td>\n",
       "      <td>Colosseum</td>\n",
       "      <td>http://www.wikidata.org/prop/direct/P366</td>\n",
       "      <td>has use</td>\n",
       "      <td>ludi</td>\n",
       "    </tr>\n",
       "    <tr>\n",
       "      <th>16</th>\n",
       "      <td>ancient Roman amphitheatre, a landmark of Rome, Italy</td>\n",
       "      <td>Colosseum</td>\n",
       "      <td>http://www.wikidata.org/prop/direct/P366</td>\n",
       "      <td>has use</td>\n",
       "      <td>tourist attraction</td>\n",
       "    </tr>\n",
       "    <tr>\n",
       "      <th>17</th>\n",
       "      <td>ancient Roman amphitheatre, a landmark of Rome, Italy</td>\n",
       "      <td>Colosseum</td>\n",
       "      <td>http://www.wikidata.org/prop/direct/P366</td>\n",
       "      <td>has use</td>\n",
       "      <td>quarry</td>\n",
       "    </tr>\n",
       "    <tr>\n",
       "      <th>18</th>\n",
       "      <td>ancient Roman amphitheatre, a landmark of Rome, Italy</td>\n",
       "      <td>Colosseum</td>\n",
       "      <td>http://www.wikidata.org/prop/direct/P571</td>\n",
       "      <td>inception</td>\n",
       "      <td>0082-01-01T00:00:00Z</td>\n",
       "    </tr>\n",
       "    <tr>\n",
       "      <th>19</th>\n",
       "      <td>ancient Roman amphitheatre, a landmark of Rome, Italy</td>\n",
       "      <td>Colosseum</td>\n",
       "      <td>http://www.wikidata.org/prop/direct/P625</td>\n",
       "      <td>coordinate location</td>\n",
       "      <td>Point(12.492222222 41.890277777)</td>\n",
       "    </tr>\n",
       "  </tbody>\n",
       "</table>\n",
       "</div>"
      ],
      "text/plain": [
       "                                              description subjectLabel                            predicateLabel                                     propertyLabel                                                                                                        objectLabel\n",
       "0   ancient Roman amphitheatre, a landmark of Rome, Italy    Colosseum   http://www.wikidata.org/prop/direct/P18                                             image  http://commons.wikimedia.org/wiki/Special:FilePath/Coliseo%2C%20Roma%2C%20Italia%2C%202022-09-15%2C%20DD%2096.jpg\n",
       "1   ancient Roman amphitheatre, a landmark of Rome, Italy    Colosseum   http://www.wikidata.org/prop/direct/P31                                       instance of                                                                                     archaeological artifact museum\n",
       "2   ancient Roman amphitheatre, a landmark of Rome, Italy    Colosseum   http://www.wikidata.org/prop/direct/P31                                       instance of                                                                                   historical civil building museum\n",
       "3   ancient Roman amphitheatre, a landmark of Rome, Italy    Colosseum   http://www.wikidata.org/prop/direct/P31                                       instance of                                                                                                 Roman amphitheatre\n",
       "4   ancient Roman amphitheatre, a landmark of Rome, Italy    Colosseum   http://www.wikidata.org/prop/direct/P31                                       instance of                                                                                            Italian national museum\n",
       "5   ancient Roman amphitheatre, a landmark of Rome, Italy    Colosseum   http://www.wikidata.org/prop/direct/P31                                       instance of                                                                                                archaeological site\n",
       "6   ancient Roman amphitheatre, a landmark of Rome, Italy    Colosseum   http://www.wikidata.org/prop/direct/P31                                       instance of                                                                                                 tourist attraction\n",
       "7   ancient Roman amphitheatre, a landmark of Rome, Italy    Colosseum   http://www.wikidata.org/prop/direct/P31                                       instance of                                                                                                            stadium\n",
       "8   ancient Roman amphitheatre, a landmark of Rome, Italy    Colosseum  http://www.wikidata.org/prop/direct/P112                                        founded by                                                                                                          Vespasian\n",
       "9   ancient Roman amphitheatre, a landmark of Rome, Italy    Colosseum  http://www.wikidata.org/prop/direct/P131  located in the administrative territorial entity                                                                                                        Municipio I\n",
       "10  ancient Roman amphitheatre, a landmark of Rome, Italy    Colosseum  http://www.wikidata.org/prop/direct/P149                               architectural style                                                                                         ancient Roman architecture\n",
       "11  ancient Roman amphitheatre, a landmark of Rome, Italy    Colosseum  http://www.wikidata.org/prop/direct/P186                                made from material                                                                                                               tuff\n",
       "12  ancient Roman amphitheatre, a landmark of Rome, Italy    Colosseum  http://www.wikidata.org/prop/direct/P186                                made from material                                                                                                         travertine\n",
       "13  ancient Roman amphitheatre, a landmark of Rome, Italy    Colosseum  http://www.wikidata.org/prop/direct/P186                                made from material                                                                                                           concrete\n",
       "14  ancient Roman amphitheatre, a landmark of Rome, Italy    Colosseum  http://www.wikidata.org/prop/direct/P361                                           part of                                                                                    parco archeologico del Colosseo\n",
       "15  ancient Roman amphitheatre, a landmark of Rome, Italy    Colosseum  http://www.wikidata.org/prop/direct/P366                                           has use                                                                                                               ludi\n",
       "16  ancient Roman amphitheatre, a landmark of Rome, Italy    Colosseum  http://www.wikidata.org/prop/direct/P366                                           has use                                                                                                 tourist attraction\n",
       "17  ancient Roman amphitheatre, a landmark of Rome, Italy    Colosseum  http://www.wikidata.org/prop/direct/P366                                           has use                                                                                                             quarry\n",
       "18  ancient Roman amphitheatre, a landmark of Rome, Italy    Colosseum  http://www.wikidata.org/prop/direct/P571                                         inception                                                                                               0082-01-01T00:00:00Z\n",
       "19  ancient Roman amphitheatre, a landmark of Rome, Italy    Colosseum  http://www.wikidata.org/prop/direct/P625                               coordinate location                                                                                   Point(12.492222222 41.890277777)"
      ]
     },
     "execution_count": 113,
     "metadata": {},
     "output_type": "execute_result"
    }
   ],
   "source": [
    "my_building = \"wd:Q10285\" # please change this value to the wiki id of your building of interest\n",
    "wikidata_service_url = \"https://query.wikidata.org/sparql\"\n",
    "building_query = \"\"\"\n",
    "    PREFIX wd: <http://www.wikidata.org/entity/>\n",
    "PREFIX wdt: <http://www.wikidata.org/prop/direct/>\n",
    "PREFIX schema: <http://schema.org/>\n",
    "SELECT ?subjectLabel ?description ?predicateLabel ?propertyLabel ?objectLabel  WHERE {{\n",
    "  ?subject wdt:P31/wdt:P279* wd:Q41176 .\n",
    "  ?subject ?predicate ?object .\n",
    "  ?subject schema:description ?description .\n",
    "  FILTER(LANG(?description) = \"en\")\n",
    "  FILTER (?subject = {})\n",
    "  FILTER (?predicate IN (wdt:P31, wdt:P361, wdt:P571, wdt:P112, wdt:P131, wdt:P625, wdt:P18, wdt:P186, wdt:P149, wdt:P366, wdt:P84))\n",
    "  SERVICE wikibase:label {{ bd:serviceParam wikibase:language \"en\". }}\n",
    "  ?property wikibase:directClaim ?predicate .\n",
    "}}  \n",
    "\"\"\".format(my_building)\n",
    "wikidata_table = query_wikidata(building_query, wikidata_service_url)\n",
    "wikidata_table"
   ]
  },
  {
   "cell_type": "markdown",
   "id": "e023fc74",
   "metadata": {},
   "source": [
    "#### <span style=\"color:green\"> ??? How does the data differ from Wikipedia results? </span>\n",
    "#### <span style=\"color:green\"> ??? What about the level of complexity of data? </span>\n",
    "#### <span style=\"color:green\"> ??? How does granularity of data relate to the complexity of data? </span>\n",
    "\n",
    "\n"
   ]
  },
  {
   "cell_type": "code",
   "execution_count": 112,
   "id": "6f16882e",
   "metadata": {},
   "outputs": [
    {
     "data": {
      "text/html": [
       "<style>\n",
       "\n",
       ".database-entry {\n",
       "  display: flex;\n",
       "  flex-direction: row;\n",
       "  align-items: center;\n",
       "  margin-bottom: 20px;\n",
       "}\n",
       ".entry-title {\n",
       "font-size:40px;\n",
       "padding-bottom: 40px;\n",
       "}\n",
       ".image-container {\n",
       "  margin-right: 20px;\n",
       "  max-width: 300px;\n",
       "}\n",
       ".fields-container {\n",
       "  display: flex;\n",
       "  flex-direction: column;\n",
       "}\n",
       "\n",
       ".field {\n",
       "  display: flex;\n",
       "  flex-direction: row;\n",
       "  align-items: center;\n",
       "  margin-bottom: 10px;\n",
       "}\n",
       "\n",
       ".field label {\n",
       "  margin-right: 10px;\n",
       "  font-weight: bold;\n",
       "}\n",
       "</style>"
      ],
      "text/plain": [
       "<IPython.core.display.HTML object>"
      ]
     },
     "metadata": {},
     "output_type": "display_data"
    },
    {
     "data": {
      "text/html": [
       "\n",
       "<div class=\"database-entry\">\n",
       "  <!-- Image goes here -->\n",
       "  <div class=\"image-container\">\n",
       "    <img src=\"http://commons.wikimedia.org/wiki/Special:FilePath/Lustgarten%201.JPG\" alt=\"Image\">\n",
       "  </div>\n",
       "  <!-- Fields go here -->\n",
       "  <div class=\"fields-container\">\n",
       "    <div class=\"entry-title\">\n",
       "      <span>Title</span>\n",
       "    </div>\n",
       "    <!-- Field 1 -->\n",
       "    <div class=\"field\">\n",
       "      <label>Label Value 1</label>\n",
       "      <span>Value 1</span>\n",
       "    </div>\n",
       "    <!-- Field 2 -->\n",
       "    <div class=\"field\">\n",
       "      <label>Label Value 2</label>\n",
       "      <span>Value 2</span>\n",
       "    </div>\n",
       "    <!-- Field 3 -->\n",
       "    <div class=\"field\">\n",
       "      <label>Label Value 3</label>\n",
       "      <span>Value 3</span>\n",
       "      </div>\n",
       "        <!-- Field 4 -->\n",
       "    <div class=\"field\">\n",
       "      <label>Label Value 4</label>\n",
       "      <span>Value 4</span>\n",
       "    </div>\n",
       "    <!-- Field 5 -->\n",
       "    <div class=\"field\">\n",
       "      <label>Label Value 5</label>\n",
       "      <span>Value 5</span>\n",
       "    </div>\n",
       "    <!-- Field 6 -->\n",
       "    <div class=\"field\">\n",
       "      <label>Label Value 6</label>\n",
       "      <span>Value 6</span>\n",
       "    </div>\n",
       "  </div>\n",
       "</div>\n"
      ],
      "text/plain": [
       "<IPython.core.display.HTML object>"
      ]
     },
     "metadata": {},
     "output_type": "display_data"
    }
   ],
   "source": [
    "# Define variables for each field\n",
    "label_field_one = \"Label Value 1\"\n",
    "label_field_two = \"Label Value 2\"\n",
    "label_field_three = \"Label Value 3\"\n",
    "label_field_four = \"Label Value 4\"\n",
    "label_field_five = \"Label Value 5\"\n",
    "label_field_six = \"Label Value 6\"\n",
    "field_one = \"Value 1\"\n",
    "field_two = \"Value 2\"\n",
    "field_three = \"Value 3\"\n",
    "field_four = \"Value 4\"\n",
    "field_five = \"Value 5\"\n",
    "field_six = \"Value 6\"\n",
    "entry_title = \"Title\"\n",
    "image_url = \"http://commons.wikimedia.org/wiki/Special:FilePath/Lustgarten%201.JPG\"\n",
    "\n",
    "# Define the HTML template for the entry\n",
    "template = \"\"\"\n",
    "<div class=\"database-entry\">\n",
    "  <!-- Image goes here -->\n",
    "  <div class=\"image-container\">\n",
    "    <img src=\"{image_url}\" alt=\"Image\">\n",
    "  </div>\n",
    "  <!-- Fields go here -->\n",
    "  <div class=\"fields-container\">\n",
    "    <div class=\"entry-title\">\n",
    "      <span>{entry_title}</span>\n",
    "    </div>\n",
    "    <!-- Field 1 -->\n",
    "    <div class=\"field\">\n",
    "      <label>{label_field_one}</label>\n",
    "      <span>{field_one}</span>\n",
    "    </div>\n",
    "    <!-- Field 2 -->\n",
    "    <div class=\"field\">\n",
    "      <label>{label_field_two}</label>\n",
    "      <span>{field_two}</span>\n",
    "    </div>\n",
    "    <!-- Field 3 -->\n",
    "    <div class=\"field\">\n",
    "      <label>{label_field_three}</label>\n",
    "      <span>{field_three}</span>\n",
    "      </div>\n",
    "        <!-- Field 4 -->\n",
    "    <div class=\"field\">\n",
    "      <label>{label_field_four}</label>\n",
    "      <span>{field_four}</span>\n",
    "    </div>\n",
    "    <!-- Field 5 -->\n",
    "    <div class=\"field\">\n",
    "      <label>{label_field_five}</label>\n",
    "      <span>{field_five}</span>\n",
    "    </div>\n",
    "    <!-- Field 6 -->\n",
    "    <div class=\"field\">\n",
    "      <label>{label_field_six}</label>\n",
    "      <span>{field_six}</span>\n",
    "    </div>\n",
    "  </div>\n",
    "</div>\n",
    "\"\"\"\n",
    "\n",
    "# Define the CSS code for the template\n",
    "css = \"\"\"\n",
    "\n",
    ".database-entry {\n",
    "  display: flex;\n",
    "  flex-direction: row;\n",
    "  align-items: center;\n",
    "  margin-bottom: 20px;\n",
    "}\n",
    ".entry-title {\n",
    "font-size:40px;\n",
    "padding-bottom: 40px;\n",
    "}\n",
    ".image-container {\n",
    "  margin-right: 20px;\n",
    "  max-width: 300px;\n",
    "}\n",
    ".fields-container {\n",
    "  display: flex;\n",
    "  flex-direction: column;\n",
    "}\n",
    "\n",
    ".field {\n",
    "  display: flex;\n",
    "  flex-direction: row;\n",
    "  align-items: center;\n",
    "  margin-bottom: 10px;\n",
    "}\n",
    "\n",
    ".field label {\n",
    "  margin-right: 10px;\n",
    "  font-weight: bold;\n",
    "}\n",
    "\"\"\"\n",
    "\n",
    "# Format the template with the variables\n",
    "entry_html = template.format(label_field_one=label_field_one, label_field_two=label_field_two, label_field_three = label_field_three, label_field_four=label_field_four, label_field_five=label_field_five, label_field_six=label_field_six, field_one=field_one, field_two=field_two, field_three=field_three, field_four=field_four, field_five=field_five, field_six=field_six, image_url=image_url, entry_title = entry_title)\n",
    "\n",
    "# Display the entry HTML and CSS\n",
    "from IPython.core.display import HTML\n",
    "display(HTML(f\"<style>{css}</style>\"))\n",
    "display(HTML(entry_html))\n"
   ]
  },
  {
   "cell_type": "code",
   "execution_count": 119,
   "id": "4d354a3c",
   "metadata": {},
   "outputs": [
    {
     "data": {
      "text/html": [
       "<style>\n",
       "\n",
       ".database-entry {\n",
       "  display: flex;\n",
       "  flex-direction: row;\n",
       "  align-items: center;\n",
       "  margin-bottom: 20px;\n",
       "}\n",
       ".entry-title {\n",
       "font-size:40px;\n",
       "padding-bottom: 40px;\n",
       "}\n",
       ".image-container {\n",
       "  margin-right: 20px;\n",
       "  max-width: 300px;\n",
       "  min-width: 300px;\n",
       "}\n",
       ".fields-container {\n",
       "  display: flex;\n",
       "  flex-direction: column;\n",
       "}\n",
       "\n",
       ".field {\n",
       "  display: flex;\n",
       "  flex-direction: row;\n",
       "  align-items: center;\n",
       "  margin-bottom: 10px;\n",
       "}\n",
       "\n",
       ".field label {\n",
       "  margin-right: 10px;\n",
       "  font-weight: bold;\n",
       "}\n",
       "</style>"
      ],
      "text/plain": [
       "<IPython.core.display.HTML object>"
      ]
     },
     "metadata": {},
     "output_type": "display_data"
    },
    {
     "data": {
      "text/html": [
       "\n",
       "<div class=\"database-entry\">\n",
       "  <!-- Image goes here -->\n",
       "  <div class=\"image-container\">\n",
       "    <img src=\"http://commons.wikimedia.org/wiki/Special:FilePath/Coliseo%2C%20Roma%2C%20Italia%2C%202022-09-15%2C%20DD%2096.jpg\" alt=\"Image\">\n",
       "  </div>\n",
       "  <!-- Fields go here -->\n",
       "  <div class=\"fields-container\">\n",
       "    <div class=\"entry-title\">\n",
       "      <span>Colosseum</span>\n",
       "    </div>\n",
       "    <!-- Field 1 -->\n",
       "    <div class=\"field\">\n",
       "      <label>wikidata id</label>\n",
       "      <span>wd:Q10285</span>\n",
       "    </div>\n",
       "    <!-- Field 2 -->\n",
       "    <div class=\"field\">\n",
       "      <label>Description</label>\n",
       "      <span>ancient Roman amphitheatre, a landmark of Rome, Italy</span>\n",
       "    </div>\n",
       "    <!-- Field 3 -->\n",
       "    <div class=\"field\">\n",
       "      <label>architectural style</label>\n",
       "      <span>The Basilica della Santa Casa (English: Basilica of the Holy House) is a Marian shrine in Loreto, in the Marches, Italy. The basilica is known for enshrining the house in which the Blessed Virgin Mary is believed by some Catholics to have lived. Pious legends claim the same house was flown over by angelic beings from Nazareth to Tersatto (Trsat in Croatia), then to Recanati, before arriving at the current site.The basilica is also known for enshrining the Madonna and Child image of \"Our Lady of Loreto\". Pope Benedict XV designated the religious image as patroness of air passengers and auspicious travel on 24 March 1920. Pope Pius XI granted a Canonical Coronation to the venerated image made of Cedar of Lebanon wood on 5 September 1922, replacing the original Marian image consumed in fire on 23 February 1921.</span>\n",
       "      </div>\n",
       "        <!-- Field 4 -->\n",
       "    <div class=\"field\">\n",
       "      <label>Label Value 4</label>\n",
       "      <span>Value 4</span>\n",
       "    </div>\n",
       "    <!-- Field 5 -->\n",
       "    <div class=\"field\">\n",
       "      <label>Label Value 5</label>\n",
       "      <span>Value 5</span>\n",
       "    </div>\n",
       "    <!-- Field 6 -->\n",
       "    <div class=\"field\">\n",
       "      <label>Label Value 6</label>\n",
       "      <span>Value 6</span>\n",
       "    </div>\n",
       "  </div>\n",
       "</div>\n"
      ],
      "text/plain": [
       "<IPython.core.display.HTML object>"
      ]
     },
     "metadata": {},
     "output_type": "display_data"
    }
   ],
   "source": [
    "# Define variables for each field\n",
    "label_field_one = \"wikidata id\"\n",
    "label_field_two = \"Description\"\n",
    "label_field_three = \"architectural style\"\n",
    "label_field_four = \"Label Value 4\"\n",
    "label_field_five = \"Label Value 5\"\n",
    "label_field_six = \"Label Value 6\"\n",
    "field_one = \"wd:Q10285\"\n",
    "field_two = \"ancient Roman amphitheatre, a landmark of Rome, Italy\"\n",
    "field_three = \"\"\"The Basilica della Santa Casa (English: Basilica of the Holy House) is a Marian shrine in Loreto, in the Marches, Italy. The basilica is known for enshrining the house in which the Blessed Virgin Mary is believed by some Catholics to have lived. Pious legends claim the same house was flown over by angelic beings from Nazareth to Tersatto (Trsat in Croatia), then to Recanati, before arriving at the current site.The basilica is also known for enshrining the Madonna and Child image of \"Our Lady of Loreto\". Pope Benedict XV designated the religious image as patroness of air passengers and auspicious travel on 24 March 1920. Pope Pius XI granted a Canonical Coronation to the venerated image made of Cedar of Lebanon wood on 5 September 1922, replacing the original Marian image consumed in fire on 23 February 1921.\"\"\"\n",
    "field_four = \"Value 4\"\n",
    "field_five = \"Value 5\"\n",
    "field_six = \"Value 6\"\n",
    "entry_title = \"Colosseum\"\n",
    "image_url = \"http://commons.wikimedia.org/wiki/Special:FilePath/Coliseo%2C%20Roma%2C%20Italia%2C%202022-09-15%2C%20DD%2096.jpg\"\n",
    "\n",
    "# Define the HTML template for the entry\n",
    "template = \"\"\"\n",
    "<div class=\"database-entry\">\n",
    "  <!-- Image goes here -->\n",
    "  <div class=\"image-container\">\n",
    "    <img src=\"{image_url}\" alt=\"Image\">\n",
    "  </div>\n",
    "  <!-- Fields go here -->\n",
    "  <div class=\"fields-container\">\n",
    "    <div class=\"entry-title\">\n",
    "      <span>{entry_title}</span>\n",
    "    </div>\n",
    "    <!-- Field 1 -->\n",
    "    <div class=\"field\">\n",
    "      <label>{label_field_one}</label>\n",
    "      <span>{field_one}</span>\n",
    "    </div>\n",
    "    <!-- Field 2 -->\n",
    "    <div class=\"field\">\n",
    "      <label>{label_field_two}</label>\n",
    "      <span>{field_two}</span>\n",
    "    </div>\n",
    "    <!-- Field 3 -->\n",
    "    <div class=\"field\">\n",
    "      <label>{label_field_three}</label>\n",
    "      <span>{field_three}</span>\n",
    "      </div>\n",
    "        <!-- Field 4 -->\n",
    "    <div class=\"field\">\n",
    "      <label>{label_field_four}</label>\n",
    "      <span>{field_four}</span>\n",
    "    </div>\n",
    "    <!-- Field 5 -->\n",
    "    <div class=\"field\">\n",
    "      <label>{label_field_five}</label>\n",
    "      <span>{field_five}</span>\n",
    "    </div>\n",
    "    <!-- Field 6 -->\n",
    "    <div class=\"field\">\n",
    "      <label>{label_field_six}</label>\n",
    "      <span>{field_six}</span>\n",
    "    </div>\n",
    "  </div>\n",
    "</div>\n",
    "\"\"\"\n",
    "\n",
    "# Define the CSS code for the template\n",
    "css = \"\"\"\n",
    "\n",
    ".database-entry {\n",
    "  display: flex;\n",
    "  flex-direction: row;\n",
    "  align-items: center;\n",
    "  margin-bottom: 20px;\n",
    "}\n",
    ".entry-title {\n",
    "font-size:40px;\n",
    "padding-bottom: 40px;\n",
    "}\n",
    ".image-container {\n",
    "  margin-right: 20px;\n",
    "  max-width: 300px;\n",
    "  min-width: 300px;\n",
    "}\n",
    ".fields-container {\n",
    "  display: flex;\n",
    "  flex-direction: column;\n",
    "}\n",
    "\n",
    ".field {\n",
    "  display: flex;\n",
    "  flex-direction: row;\n",
    "  align-items: center;\n",
    "  margin-bottom: 10px;\n",
    "}\n",
    "\n",
    ".field label {\n",
    "  margin-right: 10px;\n",
    "  font-weight: bold;\n",
    "}\n",
    "\"\"\"\n",
    "\n",
    "# Format the template with the variables\n",
    "entry_html = template.format(label_field_one=label_field_one, label_field_two=label_field_two, label_field_three = label_field_three, label_field_four=label_field_four, label_field_five=label_field_five, label_field_six=label_field_six, field_one=field_one, field_two=field_two, field_three=field_three, field_four=field_four, field_five=field_five, field_six=field_six, image_url=image_url, entry_title = entry_title)\n",
    "\n",
    "# Display the entry HTML and CSS\n",
    "from IPython.core.display import HTML\n",
    "display(HTML(f\"<style>{css}</style>\"))\n",
    "display(HTML(entry_html))\n",
    "\n"
   ]
  },
  {
   "cell_type": "code",
   "execution_count": null,
   "id": "2bd8c3a5",
   "metadata": {},
   "outputs": [],
   "source": []
  }
 ],
 "metadata": {
  "kernelspec": {
   "display_name": "Python 3",
   "language": "python",
   "name": "python3"
  },
  "language_info": {
   "codemirror_mode": {
    "name": "ipython",
    "version": 3
   },
   "file_extension": ".py",
   "mimetype": "text/x-python",
   "name": "python",
   "nbconvert_exporter": "python",
   "pygments_lexer": "ipython3",
   "version": "3.8.8"
  }
 },
 "nbformat": 4,
 "nbformat_minor": 5
}
