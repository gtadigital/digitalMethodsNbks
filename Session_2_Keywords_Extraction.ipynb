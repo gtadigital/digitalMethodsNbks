{
 "cells": [
  {
   "cell_type": "raw",
   "id": "46f0db08",
   "metadata": {},
   "source": [
    "# Who or What Extracts Keywords Better? "
   ]
  },
  {
   "cell_type": "raw",
   "id": "0edc7946",
   "metadata": {},
   "source": [
    "<figure>\n",
    "<img src=\"./static/human-vs-robots.jpeg\" style=\"width:100%\">\n",
    "<figcaption align = \"center\"> Image Credit: depositphotos.com </figcaption>\n",
    "</figure>"
   ]
  },
  {
   "cell_type": "raw",
   "id": "8b55910d",
   "metadata": {},
   "source": [
    "## What will we do today?\n",
    "**Intro**  \\\n",
    "What data are we using?\\\n",
    "Description of the dataset <br>\n",
    "**Part One** \\\n",
    "What are 🔑words? How do we find them? \\\n",
    "[Exercise One: Select Keywords from the Text](#Exercise-One) \\\n",
    "**Part Two** \\\n",
    "How does computer detect keywords? Statistical Natural Language Processing"
   ]
  },
  {
   "cell_type": "code",
   "execution_count": null,
   "id": "550cda3a",
   "metadata": {},
   "outputs": [],
   "source": [
    "### Exercise One"
   ]
  },
  {
   "cell_type": "code",
   "execution_count": 3,
   "id": "27964631",
   "metadata": {},
   "outputs": [],
   "source": [
    "def print_keyword(keywords_list):\n",
    "    for k in keywords_list:\n",
    "        print(k)"
   ]
  },
  {
   "cell_type": "code",
   "execution_count": 4,
   "id": "36b5022e",
   "metadata": {},
   "outputs": [],
   "source": [
    "keywords = ['designing roof shells', 'structural art shell', 'structural engineering swiss', 'reinforced roof shells', 'isler structural art', 'shell construction basel', 'roof shells genau', 'roof shells trösch', 'shell roof construction', 'art structural engineering', 'construction process shells', 'model roofing hall', 'structural engineering', 'construction process isler', 'roof structure realised', 'construction shells', 'thermal insulation formwork', 'shell construction', 'significantly construction shells', 'shell roof', 'roof shells variant', 'arrangement roof shells', 'insulation formwork', 'factory building glass', 'perfection industrial shells', 'roof shells', 'formwork beams', 'model built structure', 'industrial shells', 'construction process trösch', 'isler structural artist', 'formwork beams functioned', 'classical shell shed', 'isler industrial shells', 'roof structure', 'constructed successively formwork', 'designing roof', 'factory building glas', 'industrial shells used', 'projects designing roof', 'built structure', 'shells formwork', 'bubble shells supports', 'produced special formwork', 'isler folded roof', 'thesis roofing', 'building glass', 'roofing hall', 'symposium concrete shell', 'structural artist exh', 'roof construction', 'shell supporting structure', '1956 surfaces shells', 'model roofing', 'construction basel birkhäuser', 'flat shells framed', 'concrete shell roof', 'formwork shell', 'isler engineer contribution', 'structural art', 'formwork perfecta acoustic', 'rectangular bubble shells', 'billington art structural', 'building consists', 'shell shed roof', 'surfaces shells', 'roofing hall building', 'industrial shells variant', 'oeuvre factory building', 'factory building bützberg', 'construction shells took', 'reconstruct construction process', 'roofing textile factory', 'factory building', 'structural artist heinz', 'regard construction process', 'art shell concrete', 'factory building sources', 'art structural', 'envisages arrangement shells', 'beams shell', 'reconstruct construction', 'shells renovated 1987', 'shells renovated', 'concrete shell', 'shell concrete billington', 'diploma thesis roofing', 'completion shells renovated', 'larger factory building', 'spiegelmanufaktur bützberg architect', 'building glas und', 'manufactory fr trösch', 'thesis roofing textile', 'arrangement roof', 'bubble shells 14', 'construction process', 'shells gives structure', 'shell surface', 'arrangement shells', 'building description later']"
   ]
  },
  {
   "cell_type": "code",
   "execution_count": 7,
   "id": "6e3037a4",
   "metadata": {},
   "outputs": [
    {
     "name": "stdout",
     "output_type": "stream",
     "text": [
      "designing roof shells\n",
      "structural art shell\n",
      "structural engineering swiss\n",
      "reinforced roof shells\n",
      "isler structural art\n",
      "shell construction basel\n",
      "roof shells genau\n",
      "roof shells trösch\n",
      "shell roof construction\n",
      "art structural engineering\n",
      "construction process shells\n",
      "model roofing hall\n",
      "structural engineering\n",
      "construction process isler\n",
      "roof structure realised\n",
      "construction shells\n",
      "thermal insulation formwork\n",
      "shell construction\n",
      "significantly construction shells\n",
      "shell roof\n",
      "roof shells variant\n",
      "arrangement roof shells\n",
      "insulation formwork\n",
      "factory building glass\n",
      "perfection industrial shells\n",
      "roof shells\n",
      "formwork beams\n",
      "model built structure\n",
      "industrial shells\n",
      "construction process trösch\n",
      "isler structural artist\n",
      "formwork beams functioned\n",
      "classical shell shed\n",
      "isler industrial shells\n",
      "roof structure\n",
      "constructed successively formwork\n",
      "designing roof\n",
      "factory building glas\n",
      "industrial shells used\n",
      "projects designing roof\n",
      "built structure\n",
      "shells formwork\n",
      "bubble shells supports\n",
      "produced special formwork\n",
      "isler folded roof\n",
      "thesis roofing\n",
      "building glass\n",
      "roofing hall\n",
      "symposium concrete shell\n",
      "structural artist exh\n",
      "roof construction\n",
      "shell supporting structure\n",
      "1956 surfaces shells\n",
      "model roofing\n",
      "construction basel birkhäuser\n",
      "flat shells framed\n",
      "concrete shell roof\n",
      "formwork shell\n",
      "isler engineer contribution\n",
      "structural art\n",
      "formwork perfecta acoustic\n",
      "rectangular bubble shells\n",
      "billington art structural\n",
      "building consists\n",
      "shell shed roof\n",
      "surfaces shells\n",
      "roofing hall building\n",
      "industrial shells variant\n",
      "oeuvre factory building\n",
      "factory building bützberg\n",
      "construction shells took\n",
      "reconstruct construction process\n",
      "roofing textile factory\n",
      "factory building\n",
      "structural artist heinz\n",
      "regard construction process\n",
      "art shell concrete\n",
      "factory building sources\n",
      "art structural\n",
      "envisages arrangement shells\n",
      "beams shell\n",
      "reconstruct construction\n",
      "shells renovated 1987\n",
      "shells renovated\n",
      "concrete shell\n",
      "shell concrete billington\n",
      "diploma thesis roofing\n",
      "completion shells renovated\n",
      "larger factory building\n",
      "spiegelmanufaktur bützberg architect\n",
      "building glas und\n",
      "manufactory fr trösch\n",
      "thesis roofing textile\n",
      "arrangement roof\n",
      "bubble shells 14\n",
      "construction process\n",
      "shells gives structure\n",
      "shell surface\n",
      "arrangement shells\n",
      "building description later\n"
     ]
    }
   ],
   "source": [
    "print_keyword(keywords)"
   ]
  },
  {
   "cell_type": "markdown",
   "id": "1de84536",
   "metadata": {},
   "source": [
    "## Change the following print statement to print first 10 keywords:"
   ]
  },
  {
   "cell_type": "code",
   "execution_count": 9,
   "id": "28633c31",
   "metadata": {},
   "outputs": [
    {
     "name": "stdout",
     "output_type": "stream",
     "text": [
      "['designing roof shells', 'structural art shell', 'structural engineering swiss', 'reinforced roof shells', 'isler structural art', 'shell construction basel', 'roof shells genau']\n"
     ]
    }
   ],
   "source": [
    "print(keywords[:7])"
   ]
  },
  {
   "cell_type": "markdown",
   "id": "1383655e",
   "metadata": {},
   "source": [
    "## Change the following print statement to print the 5th keyword. Remember that indexing starts with 0: "
   ]
  },
  {
   "cell_type": "code",
   "execution_count": 10,
   "id": "f9c7ba0e",
   "metadata": {},
   "outputs": [
    {
     "name": "stdout",
     "output_type": "stream",
     "text": [
      "roof shells trösch\n"
     ]
    }
   ],
   "source": [
    "print(keywords[7])"
   ]
  },
  {
   "cell_type": "code",
   "execution_count": null,
   "id": "3f1e3c40",
   "metadata": {},
   "outputs": [],
   "source": []
  },
  {
   "cell_type": "code",
   "execution_count": null,
   "id": "51b295e2",
   "metadata": {},
   "outputs": [],
   "source": []
  },
  {
   "cell_type": "code",
   "execution_count": null,
   "id": "ecb5f4f5",
   "metadata": {},
   "outputs": [],
   "source": []
  },
  {
   "cell_type": "code",
   "execution_count": null,
   "id": "e7bf82ff",
   "metadata": {},
   "outputs": [],
   "source": []
  },
  {
   "cell_type": "code",
   "execution_count": null,
   "id": "6569d14b",
   "metadata": {},
   "outputs": [],
   "source": []
  },
  {
   "cell_type": "code",
   "execution_count": null,
   "id": "d6e323cd",
   "metadata": {},
   "outputs": [],
   "source": []
  },
  {
   "cell_type": "code",
   "execution_count": null,
   "id": "07517e2c",
   "metadata": {},
   "outputs": [],
   "source": []
  },
  {
   "cell_type": "code",
   "execution_count": null,
   "id": "1c9b8037",
   "metadata": {},
   "outputs": [],
   "source": []
  },
  {
   "cell_type": "code",
   "execution_count": null,
   "id": "0b5c5de5",
   "metadata": {},
   "outputs": [],
   "source": []
  },
  {
   "cell_type": "code",
   "execution_count": null,
   "id": "997c4be1",
   "metadata": {},
   "outputs": [],
   "source": []
  },
  {
   "cell_type": "markdown",
   "id": "d9dd8b26",
   "metadata": {},
   "source": []
  },
  {
   "cell_type": "code",
   "execution_count": null,
   "id": "d6f68d69",
   "metadata": {},
   "outputs": [],
   "source": []
  }
 ],
 "metadata": {
  "kernelspec": {
   "display_name": "Python 3",
   "language": "python",
   "name": "python3"
  },
  "language_info": {
   "codemirror_mode": {
    "name": "ipython",
    "version": 3
   },
   "file_extension": ".py",
   "mimetype": "text/x-python",
   "name": "python",
   "nbconvert_exporter": "python",
   "pygments_lexer": "ipython3",
   "version": "3.8.8"
  }
 },
 "nbformat": 4,
 "nbformat_minor": 5
}
