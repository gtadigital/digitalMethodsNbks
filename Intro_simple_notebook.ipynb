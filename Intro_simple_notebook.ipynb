{
 "cells": [
  {
   "cell_type": "markdown",
   "id": "23d32ae8",
   "metadata": {},
   "source": [
    "# Brief introduction to Jupyter Notebook"
   ]
  },
  {
   "cell_type": "markdown",
   "id": "10920cb9",
   "metadata": {},
   "source": [
    "### To excute a cell, press: Shift + Enter or click \"Run\" button\n",
    "\n",
    "Important! Cells should be executed one after another since consequent cells can be dependent on previous cells.\n"
   ]
  },
  {
   "cell_type": "markdown",
   "id": "9dd00714",
   "metadata": {},
   "source": [
    "# Types of cells"
   ]
  },
  {
   "cell_type": "code",
   "execution_count": 21,
   "id": "9421a94f",
   "metadata": {},
   "outputs": [
    {
     "name": "stdout",
     "output_type": "stream",
     "text": [
      "Hello Gta Digital!\n"
     ]
    }
   ],
   "source": [
    "# This is an executable cell. When you press Shift-Enter, you will get some result \n",
    "# of the code that you are running\n",
    "# you can write a comment about your code after a hash sign (like now), it means that this line\n",
    "# will not be executed\n",
    "\n",
    "\n",
    "\n",
    "print(\"Hello Gta Digital!\")\n",
    "\n",
    "\n"
   ]
  },
  {
   "cell_type": "markdown",
   "id": "3bb58cf0",
   "metadata": {},
   "source": [
    "## This is a markdown cell, which is ultimately a cell, which contains formatted text. You can <font size=\"9\">change font size</font>, <span style=\"background-image: linear-gradient(to left, violet, indigo, green, blue, orange, red); color:white;\"> color of the text </span>, [include links](https://stackoverflow.com/questions/59078070/adding-links-in-jupyter-notebook)  and images \n",
    "<figure>\n",
    "<img src=\"./static/gta_archives_example.jpeg\" style=\"width:100%\">\n",
    "<figcaption align = \"center\"> Image Credit: gta Archives / ETH Zürich </figcaption>\n",
    "</figure>"
   ]
  },
  {
   "cell_type": "raw",
   "id": "126b9908",
   "metadata": {},
   "source": [
    "This is just plain text cell, where you can write your notes. "
   ]
  },
  {
   "cell_type": "code",
   "execution_count": null,
   "id": "1bcbd100",
   "metadata": {},
   "outputs": [],
   "source": []
  }
 ],
 "metadata": {
  "kernelspec": {
   "display_name": "Python 3",
   "language": "python",
   "name": "python3"
  },
  "language_info": {
   "codemirror_mode": {
    "name": "ipython",
    "version": 3
   },
   "file_extension": ".py",
   "mimetype": "text/x-python",
   "name": "python",
   "nbconvert_exporter": "python",
   "pygments_lexer": "ipython3",
   "version": "3.8.8"
  }
 },
 "nbformat": 4,
 "nbformat_minor": 5
}
